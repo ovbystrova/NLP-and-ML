{
  "nbformat": 4,
  "nbformat_minor": 0,
  "metadata": {
    "kernelspec": {
      "name": "python3",
      "display_name": "Python 3"
    },
    "language_info": {
      "codemirror_mode": {
        "name": "ipython",
        "version": 3
      },
      "file_extension": ".py",
      "mimetype": "text/x-python",
      "name": "python",
      "nbconvert_exporter": "python",
      "pygments_lexer": "ipython3",
      "version": "3.7.6"
    },
    "colab": {
      "name": "84_Siamese_assignment_8 (1).ipynb",
      "provenance": [],
      "collapsed_sections": [],
      "machine_shape": "hm"
    },
    "accelerator": "GPU"
  },
  "cells": [
    {
      "cell_type": "markdown",
      "metadata": {
        "id": "zMmg2Cc2DRQ3",
        "colab_type": "text"
      },
      "source": [
        "# Assignment 8\n",
        "\n",
        "Develop a model for 20 news groups dataset from scikit-learn. Select 20% of data for test set.  \n",
        "\n",
        "Develop metric learning model with siamese network [3 points] and triplet loss [3 points] (from seminar). \n",
        "Use KNN and LSH (any library for approximate nearest neighbor search) for final prediction after the network was trained. [2 points]\n",
        "\n",
        "! Remember, that LSH gives you a set of neighbor candidates, for which you have to calculate distances to choose top-k nearest neighbors. \n",
        "\n",
        "Your quality metric = accuracy score [2 points if acc > 0.8 ]"
      ]
    },
    {
      "cell_type": "code",
      "metadata": {
        "id": "56kA28iyGe0I",
        "colab_type": "code",
        "colab": {}
      },
      "source": [
        "!pip install -U sentence-transformers\n",
        "!pip install annoy"
      ],
      "execution_count": 0,
      "outputs": []
    },
    {
      "cell_type": "code",
      "metadata": {
        "id": "-tVdo84PDRQ4",
        "colab_type": "code",
        "outputId": "f53baa39-f392-497f-a729-bc19a0d1706c",
        "colab": {
          "base_uri": "https://localhost:8080/",
          "height": 130
        }
      },
      "source": [
        "from sklearn.datasets import fetch_20newsgroups\n",
        "from sklearn.model_selection import train_test_split\n",
        "\n",
        "import re\n",
        "import numpy as np\n",
        "import pandas as pd\n",
        "from tqdm import tqdm, tqdm_notebook\n",
        "\n",
        "import spacy\n",
        "spacy_en = spacy.load('en')\n",
        "\n",
        "import nltk\n",
        "from nltk import tokenize\n",
        "nltk.download('punkt')\n",
        "nltk.download('stopwords')\n",
        "\n",
        "from nltk.corpus import stopwords\n",
        "stopwords = stopwords.words('english')\n",
        "\n",
        "import torch\n",
        "import torch.nn as nn\n",
        "import torch.optim as optim\n",
        "import torch.nn.functional as F\n",
        "from torch.utils.data import DataLoader, Dataset, TensorDataset\n",
        "\n",
        "from annoy import AnnoyIndex\n",
        "from scipy.spatial import cKDTree\n",
        "from sentence_transformers import SentenceTransformer"
      ],
      "execution_count": 3,
      "outputs": [
        {
          "output_type": "stream",
          "text": [
            "[nltk_data] Downloading package punkt to /root/nltk_data...\n",
            "[nltk_data]   Unzipping tokenizers/punkt.zip.\n",
            "[nltk_data] Downloading package stopwords to /root/nltk_data...\n",
            "[nltk_data]   Unzipping corpora/stopwords.zip.\n"
          ],
          "name": "stdout"
        },
        {
          "output_type": "display_data",
          "data": {
            "text/html": [
              "<p style=\"color: red;\">\n",
              "The default version of TensorFlow in Colab will soon switch to TensorFlow 2.x.<br>\n",
              "We recommend you <a href=\"https://www.tensorflow.org/guide/migrate\" target=\"_blank\">upgrade</a> now \n",
              "or ensure your notebook will continue to use TensorFlow 1.x via the <code>%tensorflow_version 1.x</code> magic:\n",
              "<a href=\"https://colab.research.google.com/notebooks/tensorflow_version.ipynb\" target=\"_blank\">more info</a>.</p>\n"
            ],
            "text/plain": [
              "<IPython.core.display.HTML object>"
            ]
          },
          "metadata": {
            "tags": []
          }
        }
      ]
    },
    {
      "cell_type": "markdown",
      "metadata": {
        "id": "_ZEsfg7hCEL1",
        "colab_type": "text"
      },
      "source": [
        "# Data Stuff"
      ]
    },
    {
      "cell_type": "code",
      "metadata": {
        "id": "GDdSmxFR-CYA",
        "colab_type": "code",
        "outputId": "1d779d4d-39a2-40e9-e304-56c8b7688528",
        "colab": {
          "base_uri": "https://localhost:8080/",
          "height": 67
        }
      },
      "source": [
        "df = fetch_20newsgroups(subset='all')\n",
        "X = df['data']\n",
        "y = df['target']\n",
        "X_train, X_test, y_train, y_test = train_test_split(\n",
        "X, y, test_size=0.2, random_state=23)\n",
        "\n",
        "X_train, X_valid, y_train, y_valid = train_test_split(X_train, y_train, test_size=0.2, random_state=23)\n",
        "\n",
        "len(X_train), len(X_test), len(X_valid), len(y_train), len(y_test), len(y_valid)"
      ],
      "execution_count": 4,
      "outputs": [
        {
          "output_type": "stream",
          "text": [
            "Downloading 20news dataset. This may take a few minutes.\n",
            "Downloading dataset from https://ndownloader.figshare.com/files/5975967 (14 MB)\n"
          ],
          "name": "stderr"
        },
        {
          "output_type": "execute_result",
          "data": {
            "text/plain": [
              "(12060, 3770, 3016, 12060, 3770, 3016)"
            ]
          },
          "metadata": {
            "tags": []
          },
          "execution_count": 4
        }
      ]
    },
    {
      "cell_type": "code",
      "metadata": {
        "id": "DDxJMsqHKBlt",
        "colab_type": "code",
        "colab": {}
      },
      "source": [
        "def remove_stop_words(tokens, stopwords=stopwords):\n",
        "    return [token for token in tokens if not token in stopwords]\n",
        "\n",
        "    return tokens_cleaned\n",
        "def tokenizer(text):\n",
        "    return [tok.lemma_ for tok in spacy_en.tokenizer(text) if tok.text.isalpha()]\n",
        "\n",
        "def clean_data(text, tokenizer=tokenizer):\n",
        "    text = re.sub(r'-{2,10}\\s.{2,20}\\s-{2,25}', '', text)\n",
        "    text = re.sub(r'\\n#', ' ', text)\n",
        "    text = re.sub(r'\\s{2,10}', ' ', text)\n",
        "    text = remove_stop_words(tokenizer(text))\n",
        "    text = ' '.join(text)\n",
        "    return text\n",
        "\n",
        "def clean_tqdm():\n",
        "    for instance in list(tqdm._instances): \n",
        "        tqdm._decr_instances(instance)"
      ],
      "execution_count": 0,
      "outputs": []
    },
    {
      "cell_type": "markdown",
      "metadata": {
        "id": "4UU82yLbC1ix",
        "colab_type": "text"
      },
      "source": [
        "# Getting Embeddings"
      ]
    },
    {
      "cell_type": "code",
      "metadata": {
        "id": "k8VucJ-Qr8U6",
        "colab_type": "code",
        "colab": {}
      },
      "source": [
        "# https://paperswithcode.com/paper/sentence-bert-sentence-embeddings-using\n",
        "# https://github.com/UKPLab/sentence-transformers"
      ],
      "execution_count": 0,
      "outputs": []
    },
    {
      "cell_type": "code",
      "metadata": {
        "id": "5Dhpt30YF5wO",
        "colab_type": "code",
        "colab": {
          "base_uri": "https://localhost:8080/",
          "height": 34
        },
        "outputId": "e156c26c-0e01-4717-f1c9-398227d627e9"
      },
      "source": [
        "model = SentenceTransformer('bert-base-nli-max-tokens')"
      ],
      "execution_count": 7,
      "outputs": [
        {
          "output_type": "stream",
          "text": [
            "100%|██████████| 405M/405M [00:07<00:00, 57.2MB/s]\n"
          ],
          "name": "stderr"
        }
      ]
    },
    {
      "cell_type": "code",
      "metadata": {
        "id": "kqzDt1ohGnIO",
        "colab_type": "code",
        "outputId": "477117f1-e823-4db7-ef1b-b1ece4e57b69",
        "colab": {
          "base_uri": "https://localhost:8080/",
          "height": 67
        }
      },
      "source": [
        "clean_tqdm()\n",
        "sentences_train = [clean_data(text) for text in X_train]\n",
        "embeddings_train = model.encode(sentences_train, show_progress_bar=True)\n",
        "\n",
        "sentences_valid = [clean_data(text) for text in X_valid]\n",
        "embeddings_valid = model.encode(sentences_valid, show_progress_bar=True)\n",
        "\n",
        "sentences_test = [clean_data(text) for text in X_test]\n",
        "embeddings_test = model.encode(sentences_test, show_progress_bar=True)"
      ],
      "execution_count": 8,
      "outputs": [
        {
          "output_type": "stream",
          "text": [
            "Batches: 100%|██████████| 1508/1508 [03:46<00:00,  1.30it/s]\n",
            "Batches: 100%|██████████| 377/377 [00:56<00:00,  1.60it/s]\n",
            "Batches: 100%|██████████| 472/472 [01:11<00:00,  1.99it/s]\n"
          ],
          "name": "stderr"
        }
      ]
    },
    {
      "cell_type": "code",
      "metadata": {
        "id": "a0ejCUxp7ue3",
        "colab_type": "code",
        "outputId": "4163d4dd-fa5d-4f3d-c6c6-87d9eea58841",
        "colab": {
          "base_uri": "https://localhost:8080/",
          "height": 118
        }
      },
      "source": [
        "x_train = torch.FloatTensor(embeddings_train)\n",
        "x_test = torch.FloatTensor(embeddings_test)\n",
        "x_valid = torch.FloatTensor(embeddings_valid)\n",
        "\n",
        "y_train = torch.FloatTensor(y_train)\n",
        "y_test = torch.FloatTensor(y_test)\n",
        "y_valid = torch.FloatTensor(y_valid)\n",
        "\n",
        "x_train.size(), x_test.size(), x_valid.size(), y_train.size(), y_test.size(), y_valid.size()"
      ],
      "execution_count": 9,
      "outputs": [
        {
          "output_type": "execute_result",
          "data": {
            "text/plain": [
              "(torch.Size([12060, 768]),\n",
              " torch.Size([3770, 768]),\n",
              " torch.Size([3016, 768]),\n",
              " torch.Size([12060]),\n",
              " torch.Size([3770]),\n",
              " torch.Size([3016]))"
            ]
          },
          "metadata": {
            "tags": []
          },
          "execution_count": 9
        }
      ]
    },
    {
      "cell_type": "code",
      "metadata": {
        "id": "KjwleXt3CtYd",
        "colab_type": "code",
        "colab": {}
      },
      "source": [
        "def get_triplets(embeddings, y):\n",
        "    \"\"\"\n",
        "    Рандомно выбирается эмбеддинг совпадающего класса (добавляется в pos) и эмбеддинг несовпадающего (добавляется в neg).\n",
        "    \"\"\"\n",
        "    pos = []\n",
        "    neg = []\n",
        "    for ind, anchor in enumerate(embeddings):\n",
        "        pos.append(embeddings[np.random.choice(np.where(y == y[ind])[0])])\n",
        "        neg.append(embeddings[np.random.choice(np.where(y != y[ind])[0])])\n",
        "    return torch.FloatTensor(pos), torch.FloatTensor(neg)"
      ],
      "execution_count": 0,
      "outputs": []
    },
    {
      "cell_type": "code",
      "metadata": {
        "id": "2zf83K5gC633",
        "colab_type": "code",
        "colab": {}
      },
      "source": [
        "pos_train, neg_train = get_triplets(embeddings_train, y_train)\n",
        "pos_test, neg_test = get_triplets(embeddings_test, y_test)\n",
        "pos_valid, neg_valid = get_triplets(embeddings_valid, y_valid)\n",
        "\n",
        "assert pos_train.size() == neg_train.size() == x_train.size()\n",
        "assert pos_test.size() == neg_test.size() == x_test.size()\n",
        "assert pos_valid.size() == neg_valid.size() == x_valid.size()"
      ],
      "execution_count": 0,
      "outputs": []
    },
    {
      "cell_type": "code",
      "metadata": {
        "id": "P79cLb9cHxwg",
        "colab_type": "code",
        "outputId": "4f6a5768-3f50-490b-98fa-93a113468aba",
        "colab": {
          "base_uri": "https://localhost:8080/",
          "height": 50
        }
      },
      "source": [
        "batch_size = 2048\n",
        "train_loader = DataLoader(TensorDataset(x_train, pos_train, neg_train,  y_train), batch_size=batch_size, shuffle=True)\n",
        "test_loader = DataLoader(TensorDataset(x_test, pos_test, neg_test, y_test), batch_size=batch_size, shuffle=True)\n",
        "valid_loader = DataLoader(TensorDataset(x_valid, pos_valid, neg_valid, y_valid), batch_size=batch_size, shuffle=True)\n",
        "\n",
        "for el in test_loader:\n",
        "    print(type(el), len(el))\n",
        "    print(el[0].size(), el[1].size(), el[2].size(), el[3].size())\n",
        "    break"
      ],
      "execution_count": 12,
      "outputs": [
        {
          "output_type": "stream",
          "text": [
            "<class 'list'> 4\n",
            "torch.Size([2048, 768]) torch.Size([2048, 768]) torch.Size([2048, 768]) torch.Size([2048])\n"
          ],
          "name": "stdout"
        }
      ]
    },
    {
      "cell_type": "markdown",
      "metadata": {
        "id": "SmHBJj4hFncA",
        "colab_type": "text"
      },
      "source": [
        "# Model"
      ]
    },
    {
      "cell_type": "code",
      "metadata": {
        "id": "SwZQqBBhGDDM",
        "colab_type": "code",
        "colab": {}
      },
      "source": [
        "def triplet_loss(anchor_embed, pos_embed, neg_embed, margin=.5):\n",
        "    # https://pytorch.org/docs/stable/nn.html#torch.nn.TripletMarginLoss\n",
        "    # https://github.com/UKPLab/sentence-transformers/blob/9b94d3fae98970ccdf380139542d93011bb984ea/sentence_transformers/losses/TripletLoss.py#L8\n",
        "\n",
        "    # positive = F.pairwise_distance(anchor_embed, pos_embed, p=2)  # Варианты для euclidian distance (loss хуже)\n",
        "    # negative = F.pairwise_distance(anchor_embed, neg_embed, p=2)\n",
        "\n",
        "    positive = 1 - F.cosine_similarity(anchor_embed, pos_embed)\n",
        "    negative = 1 - F.cosine_similarity(anchor_embed, neg_embed)\n",
        "    differ = positive - negative + margin\n",
        "    return F.relu(differ).mean()\n",
        "    \n",
        "class Tripletnet(nn.Module):\n",
        "    def __init__(self, input_size,  hidden_size, output_size):\n",
        "        super(Tripletnet, self).__init__()\n",
        "        self.fc = nn.Linear(input_size, hidden_size)\n",
        "        self.out = nn.Linear(hidden_size, output_size)\n",
        "        self.drop = nn.Dropout(p=0.2)\n",
        "        \n",
        "    def branch(self, x):\n",
        "        x = self.fc(x)\n",
        "        x = F.relu(x)\n",
        "        x = self.drop(x)\n",
        "        x = self.out(x)\n",
        "        return x\n",
        "\n",
        "    def forward(self, batch):\n",
        "        anchor, pos, neg = batch[0], batch[1], batch[2]\n",
        "        \n",
        "        anchor = self.branch(anchor)\n",
        "        pos = self.branch(pos)\n",
        "        neg = self.branch(neg)\n",
        "        out = triplet_loss(anchor, pos, neg)\n",
        "        return out\n",
        "\n",
        "model = Tripletnet(input_size=768, hidden_size=512, output_size=256)\n",
        "optimizer = optim.Adam(model.parameters(), weight_decay=1e-3)\n",
        "# scheduler = optim.lr_scheduler.ReduceLROnPlateau(optimizer, patience=3, verbose=True)\n",
        "scheduler = optim.lr_scheduler.CosineAnnealingWarmRestarts(optimizer, 35) #10\n",
        "# scheduler = optim.lr_scheduler.CosineAnnealingLR(optimizer, 100)"
      ],
      "execution_count": 0,
      "outputs": []
    },
    {
      "cell_type": "code",
      "metadata": {
        "id": "M1-y07l_Ft12",
        "colab_type": "code",
        "colab": {}
      },
      "source": [
        "train_losses = []\n",
        "valid_losses = []\n",
        "\n",
        "def _train_epoch(model, iterator, optimizer, curr_epoch):\n",
        "\n",
        "    model.train()\n",
        "\n",
        "    running_loss = 0\n",
        "\n",
        "    n_batches = len(iterator)\n",
        "    iterator = tqdm_notebook(iterator, total=n_batches, desc='epoch %d' % (curr_epoch), leave=True)\n",
        "\n",
        "    for i, batch in enumerate(iterator):\n",
        "        optimizer.zero_grad()\n",
        "\n",
        "        loss = model(batch)\n",
        "        loss.backward()\n",
        "        optimizer.step()\n",
        "\n",
        "        curr_loss = loss.item()\n",
        "        \n",
        "        loss_smoothing = i / (i+1)\n",
        "        running_loss = loss_smoothing * running_loss + (1 - loss_smoothing) * curr_loss\n",
        "\n",
        "        train_losses.append(running_loss)\n",
        "        iterator.set_postfix(loss='%.5f' % running_loss)\n",
        "\n",
        "    return running_loss\n",
        "\n",
        "def _test_epoch(model, iterator):\n",
        "    model.eval()\n",
        "    epoch_loss = 0\n",
        "\n",
        "    n_batches = len(iterator)\n",
        "    with torch.no_grad():\n",
        "        for batch in iterator:\n",
        "            loss = model(batch)\n",
        "            epoch_loss += loss.data.item()\n",
        "            valid_losses.append(loss)\n",
        "\n",
        "    return epoch_loss / n_batches\n",
        "\n",
        "def nn_train(model, train_iterator, valid_iterator, optimizer, n_epochs=100,\n",
        "          scheduler=scheduler, early_stopping=0):\n",
        "\n",
        "    prev_loss = 100500\n",
        "    es_epochs = 0\n",
        "    best_epoch = None\n",
        "    history = pd.DataFrame()\n",
        "\n",
        "    for epoch in range(n_epochs):\n",
        "        train_loss = _train_epoch(model, train_iterator, optimizer, epoch)\n",
        "        valid_loss = _test_epoch(model, valid_iterator)\n",
        "        scheduler.step(valid_loss)\n",
        "\n",
        "        valid_loss = valid_loss\n",
        "        print('validation loss %.5f' % valid_loss)\n",
        "\n",
        "        record = {'epoch': epoch, 'train_loss': train_loss, 'valid_loss': valid_loss}\n",
        "        history = history.append(record, ignore_index=True)\n",
        "\n",
        "        if early_stopping > 0:\n",
        "            if valid_loss > prev_loss:\n",
        "                es_epochs += 1\n",
        "            else:\n",
        "                es_epochs = 0\n",
        "\n",
        "            if es_epochs >= early_stopping:\n",
        "                best_epoch = history[history.valid_loss == history.valid_loss.min()].iloc[0]\n",
        "                print('Early stopping! best epoch: %d val %.5f' % (best_epoch['epoch'], best_epoch['valid_loss']))\n",
        "                break\n",
        "\n",
        "            prev_loss = min(prev_loss, valid_loss)\n",
        "\n",
        "nn_train(model, train_loader, valid_loader, optimizer, n_epochs=100) # Удалила вывод, т.к. он длинный, график лосса ниже"
      ],
      "execution_count": 0,
      "outputs": []
    },
    {
      "cell_type": "code",
      "metadata": {
        "id": "BbSFeWAt_6uS",
        "colab_type": "code",
        "outputId": "0362eea7-6969-4995-9011-96b08a3ff68b",
        "colab": {
          "base_uri": "https://localhost:8080/",
          "height": 414
        }
      },
      "source": [
        "import matplotlib.pyplot as plt \n",
        "\n",
        "plt.figure(figsize=(8, 6))\n",
        "plt.plot(range(len(train_losses)), train_losses, np.array(range(len(valid_losses)))*(len(train_losses)/len(valid_losses)), valid_losses)\n",
        "plt.legend(('train loss', 'valid loss'),prop={'size': 18})\n",
        "plt.title('Loss on each iteration', fontsize=20)\n",
        "plt.xlabel('Iterations', fontsize=16)\n",
        "plt.ylabel('Loss', fontsize=16)\n",
        "plt.show()"
      ],
      "execution_count": 15,
      "outputs": [
        {
          "output_type": "display_data",
          "data": {
            "image/png": "[encoded data removed]",
            "text/plain": [
              "<Figure size 576x432 with 1 Axes>"
            ]
          },
          "metadata": {
            "tags": []
          }
        }
      ]
    },
    {
      "cell_type": "markdown",
      "metadata": {
        "id": "j3fg-fceoLS1",
        "colab_type": "text"
      },
      "source": [
        "# Final Predicion"
      ]
    },
    {
      "cell_type": "code",
      "metadata": {
        "id": "KCL3brU-k51w",
        "colab_type": "code",
        "colab": {}
      },
      "source": [
        "from sklearn.metrics import accuracy_score\n",
        "from sklearn.neighbors import NearestNeighbors"
      ],
      "execution_count": 0,
      "outputs": []
    },
    {
      "cell_type": "code",
      "metadata": {
        "id": "F7-qv6oikA6f",
        "colab_type": "code",
        "colab": {}
      },
      "source": [
        "predicted = np.array([model.branch(vector).detach().numpy() for vector in x_test])\n",
        "\n",
        "nbrs = NearestNeighbors(n_neighbors=3).fit(predicted)\n",
        "distances, indices = nbrs.kneighbors(predicted)\n",
        "predicted = list(predicted)"
      ],
      "execution_count": 0,
      "outputs": []
    },
    {
      "cell_type": "code",
      "metadata": {
        "id": "vW3W07iGkh7D",
        "colab_type": "code",
        "outputId": "e108b37d-bddd-4315-a2e8-f5ba62fb817a",
        "colab": {
          "base_uri": "https://localhost:8080/",
          "height": 34
        }
      },
      "source": [
        "pred = []\n",
        "for ind, vec in enumerate(predicted):\n",
        "    all_distances = [23]*20\n",
        "    vec_distance = distances[ind]\n",
        "    vec_ind = indices[ind]\n",
        "\n",
        "    for indx, element in enumerate(vec_ind):\n",
        "        y_true = int(y_test[element].item())\n",
        "\n",
        "        temp = vec_distance[indx]+all_distances[y_true]\n",
        "        all_distances[y_true] = vec_distance[indx] if all_distances[y_true] == 23 else temp\n",
        "\n",
        "    y_pred = np.argmin(np.array(all_distances))\n",
        "    pred.append(y_pred)\n",
        "\n",
        "print('Accuracy score: {}'.format(accuracy_score(y_test, pred)))"
      ],
      "execution_count": 0,
      "outputs": [
        {
          "output_type": "stream",
          "text": [
            "Accuracy score: 0.8480106100795756\n"
          ],
          "name": "stdout"
        }
      ]
    },
    {
      "cell_type": "code",
      "metadata": {
        "id": "IoYHeusqy1FS",
        "colab_type": "code",
        "outputId": "5b43b0d3-3253-4fda-8204-6eca002536df",
        "colab": {
          "base_uri": "https://localhost:8080/",
          "height": 34
        }
      },
      "source": [
        "DIM = 256\n",
        "N_TREES = 1000\n",
        "\n",
        "f = DIM\n",
        "t = AnnoyIndex(f, \"manhattan\")\n",
        "for i in range(x_train.size()[0]):\n",
        "    v = model.branch(x_train[i])\n",
        "    t.add_item(i, v)\n",
        "t.build(N_TREES)\n",
        "t.save('justincase.ann')"
      ],
      "execution_count": 18,
      "outputs": [
        {
          "output_type": "execute_result",
          "data": {
            "text/plain": [
              "True"
            ]
          },
          "metadata": {
            "tags": []
          },
          "execution_count": 18
        }
      ]
    },
    {
      "cell_type": "code",
      "metadata": {
        "id": "ReQRt9_EhuOC",
        "colab_type": "code",
        "colab": {}
      },
      "source": [
        "def most_frequent(List): \n",
        "    return max(set(List), key = List.count) "
      ],
      "execution_count": 0,
      "outputs": []
    },
    {
      "cell_type": "code",
      "metadata": {
        "id": "jeFJSa1KnG9K",
        "colab_type": "code",
        "outputId": "e84e278b-5821-424e-d866-4c1eb532b740",
        "colab": {
          "base_uri": "https://localhost:8080/",
          "height": 67
        }
      },
      "source": [
        "clean_tqdm()\n",
        "count_true = 0\n",
        "\n",
        "_true = []\n",
        "_pred = []\n",
        "for i, vector in tqdm(enumerate(x_test)):\n",
        "\n",
        "    nn_ids = np.array(t.get_nns_by_vector(model.branch(vector), 700))\n",
        "    neighbor_vectors = np.take(x_train, nn_ids, axis=0).tolist()\n",
        "    \n",
        "    neighbor_vectors_y = np.take(y_train, nn_ids).tolist()\n",
        "    pred = neighbor_vectors[cKDTree(neighbor_vectors).query(vector,k=1)[1]]\n",
        "    ind_pred = neighbor_vectors.index(pred)\n",
        "    \n",
        "    \n",
        "    # Блок для подбора по максимально представленному классу в соседях\n",
        "    inds = cKDTree(neighbor_vectors).query(vector,k=15)[1]\n",
        "    pred = [neighbor_vectors[ind] for ind in inds]\n",
        "    pred_y = [neighbor_vectors.index(p) for p in pred]\n",
        "    inds = [neighbor_vectors_y[p] for p in pred_y]   \n",
        "    _pred.append(most_frequent(inds))\n",
        "    # Конец Блока\n",
        "\n",
        "    _true.append(y_test[i].item())\n",
        "    if y_test[i] == neighbor_vectors_y[ind_pred]: # Сравниваем с тру классом\n",
        "        count_true += 1\n",
        "\n",
        "print('Accuracy score for nearest neighbor approach: {}'.format(count_true/len(x_test))) # Метрика по ближайшему"
      ],
      "execution_count": 21,
      "outputs": [
        {
          "output_type": "stream",
          "text": [
            "\n",
            "3770it [07:58,  7.71it/s]"
          ],
          "name": "stderr"
        },
        {
          "output_type": "stream",
          "text": [
            "Accuracy score for nearest neighbor approach: 0.7405835543766578\n"
          ],
          "name": "stdout"
        },
        {
          "output_type": "stream",
          "text": [
            "\n"
          ],
          "name": "stderr"
        }
      ]
    },
    {
      "cell_type": "code",
      "metadata": {
        "id": "KaOtPeyVRZ6G",
        "colab_type": "code",
        "colab": {
          "base_uri": "https://localhost:8080/",
          "height": 34
        },
        "outputId": "48403a8d-ee01-4c9f-89a2-4f9f4c3181bf"
      },
      "source": [
        "print('Accuracy score for most frequent class in k neighbors approach: {}'.format(accuracy_score(_true, _pred)))"
      ],
      "execution_count": 22,
      "outputs": [
        {
          "output_type": "stream",
          "text": [
            "Accuracy score for most frequent class in k neighbors approach: 0.7225464190981432\n"
          ],
          "name": "stdout"
        }
      ]
    },
    {
      "cell_type": "markdown",
      "metadata": {
        "id": "bj6oJ057qXD9",
        "colab_type": "text"
      },
      "source": [
        "Ну и ладно, бейзлайн побит через NearestNeighbors."
      ]
    }
  ]
}