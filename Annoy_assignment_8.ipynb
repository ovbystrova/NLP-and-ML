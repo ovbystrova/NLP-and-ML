{
  "nbformat": 4,
  "nbformat_minor": 0,
  "metadata": {
    "kernelspec": {
      "name": "python3",
      "display_name": "Python 3"
    },
    "language_info": {
      "codemirror_mode": {
        "name": "ipython",
        "version": 3
      },
      "file_extension": ".py",
      "mimetype": "text/x-python",
      "name": "python",
      "nbconvert_exporter": "python",
      "pygments_lexer": "ipython3",
      "version": "3.7.6"
    },
    "colab": {
      "name": "Copy of Siamese_assignment_8.ipynb",
      "provenance": [],
      "collapsed_sections": [],
      "machine_shape": "hm"
    },
    "accelerator": "GPU"
  },
  "cells": [
    {
      "cell_type": "markdown",
      "metadata": {
        "id": "zMmg2Cc2DRQ3",
        "colab_type": "text"
      },
      "source": [
        "# Assignment 8\n",
        "\n",
        "Develop a model for 20 news groups dataset from scikit-learn. Select 20% of data for test set.  \n",
        "\n",
        "Develop metric learning model with siamese network [3 points] and triplet loss [3 points] (from seminar). \n",
        "Use KNN and LSH (any library for approximate nearest neighbor search) for final prediction after the network was trained. [2 points]\n",
        "\n",
        "! Remember, that LSH gives you a set of neighbor candidates, for which you have to calculate distances to choose top-k nearest neighbors. \n",
        "\n",
        "Your quality metric = accuracy score [2 points if acc > 0.8 ]"
      ]
    },
    {
      "cell_type": "code",
      "metadata": {
        "id": "56kA28iyGe0I",
        "colab_type": "code",
        "colab": {}
      },
      "source": [
        "!pip install -U sentence-transformers\n",
        "!pip install annoy"
      ],
      "execution_count": 0,
      "outputs": []
    },
    {
      "cell_type": "code",
      "metadata": {
        "id": "-tVdo84PDRQ4",
        "colab_type": "code",
        "outputId": "097c1ce9-5c72-441a-9abf-56377992407c",
        "colab": {
          "base_uri": "https://localhost:8080/",
          "height": 50
        }
      },
      "source": [
        "from sklearn.datasets import fetch_20newsgroups\n",
        "from sklearn.model_selection import train_test_split\n",
        "\n",
        "import re\n",
        "import numpy as np\n",
        "import pandas as pd\n",
        "from tqdm import tqdm, tqdm_notebook\n",
        "\n",
        "import spacy\n",
        "spacy_en = spacy.load('en')\n",
        "\n",
        "import nltk\n",
        "from nltk import tokenize\n",
        "from nltk.corpus import stopwords\n",
        "stopwords = stopwords.words('english')\n",
        "nltk.download('punkt')\n",
        "nltk.download('stopwords')\n",
        "\n",
        "import torch\n",
        "import torch.nn as nn\n",
        "import torch.optim as optim\n",
        "import torch.nn.functional as F\n",
        "from torch.utils.data import DataLoader, Dataset, TensorDataset\n",
        "\n",
        "from annoy import AnnoyIndex\n",
        "from scipy.spatial import cKDTree\n",
        "from sentence_transformers import SentenceTransformer"
      ],
      "execution_count": 0,
      "outputs": [
        {
          "output_type": "stream",
          "text": [
            "[nltk_data] Downloading package punkt to /root/nltk_data...\n",
            "[nltk_data]   Package punkt is already up-to-date!\n"
          ],
          "name": "stdout"
        }
      ]
    },
    {
      "cell_type": "markdown",
      "metadata": {
        "id": "_ZEsfg7hCEL1",
        "colab_type": "text"
      },
      "source": [
        "# Data Stuff"
      ]
    },
    {
      "cell_type": "code",
      "metadata": {
        "id": "GDdSmxFR-CYA",
        "colab_type": "code",
        "outputId": "9d4a245e-a795-4792-c321-cbee1ea745db",
        "colab": {
          "base_uri": "https://localhost:8080/",
          "height": 34
        }
      },
      "source": [
        "df = fetch_20newsgroups(subset='all')\n",
        "X = df['data']\n",
        "y = df['target']\n",
        "X_train, X_test, y_train, y_test = train_test_split(\n",
        "X, y, test_size=0.2, random_state=23)\n",
        "\n",
        "len(X_train), len(X_test), len(y_train), len(y_test)"
      ],
      "execution_count": 0,
      "outputs": [
        {
          "output_type": "execute_result",
          "data": {
            "text/plain": [
              "(15076, 3770, 15076, 3770)"
            ]
          },
          "metadata": {
            "tags": []
          },
          "execution_count": 427
        }
      ]
    },
    {
      "cell_type": "code",
      "metadata": {
        "id": "DDxJMsqHKBlt",
        "colab_type": "code",
        "colab": {}
      },
      "source": [
        "def remove_stop_words(tokens, stopwords=stopwords):\n",
        "    return [token for token in tokens if not token in stopwords]\n",
        "\n",
        "    return tokens_cleaned\n",
        "def tokenizer(text):\n",
        "    return [tok.lemma_ for tok in spacy_en.tokenizer(text) if tok.text.isalpha()]\n",
        "\n",
        "def clean_data(text, tokenizer=tokenizer):\n",
        "    text = re.sub(r'-{2,10}\\s.{2,20}\\s-{2,25}', '', text)\n",
        "    text = re.sub(r'\\n#', ' ', text)\n",
        "    text = re.sub(r'\\s{2,10}', ' ', text)\n",
        "    text = remove_stop_words(tokenizer(text))\n",
        "    text = ' '.join(text)\n",
        "    return text\n",
        "\n",
        "def clean_tqdm():\n",
        "    for instance in list(tqdm._instances): \n",
        "        tqdm._decr_instances(instance)"
      ],
      "execution_count": 0,
      "outputs": []
    },
    {
      "cell_type": "markdown",
      "metadata": {
        "id": "4UU82yLbC1ix",
        "colab_type": "text"
      },
      "source": [
        "# Getting Embeddings"
      ]
    },
    {
      "cell_type": "code",
      "metadata": {
        "id": "k8VucJ-Qr8U6",
        "colab_type": "code",
        "colab": {}
      },
      "source": [
        "# https://paperswithcode.com/paper/sentence-bert-sentence-embeddings-using\n",
        "# https://github.com/UKPLab/sentence-transformers"
      ],
      "execution_count": 0,
      "outputs": []
    },
    {
      "cell_type": "code",
      "metadata": {
        "id": "5Dhpt30YF5wO",
        "colab_type": "code",
        "colab": {}
      },
      "source": [
        "model = SentenceTransformer('bert-base-wikipedia-sections-mean-tokens')"
      ],
      "execution_count": 0,
      "outputs": []
    },
    {
      "cell_type": "code",
      "metadata": {
        "id": "kqzDt1ohGnIO",
        "colab_type": "code",
        "outputId": "d1bacea8-8df2-4580-d3e7-057bb5fd1079",
        "colab": {
          "base_uri": "https://localhost:8080/",
          "height": 67
        }
      },
      "source": [
        "clean_tqdm()\n",
        "sentences_train = [clean_data(text) for text in X_train]\n",
        "embeddings_train = model.encode(sentences_train, show_progress_bar=True)\n",
        "\n",
        "sentences_test = [clean_data(text) for text in X_test]\n",
        "embeddings_test = model.encode(sentences_test, show_progress_bar=True)"
      ],
      "execution_count": 430,
      "outputs": [
        {
          "output_type": "stream",
          "text": [
            "\n",
            "Batches: 100%|██████████| 1885/1885 [04:37<00:00,  1.20it/s]\n",
            "Batches: 100%|██████████| 472/472 [01:09<00:00,  2.01it/s]\n"
          ],
          "name": "stderr"
        }
      ]
    },
    {
      "cell_type": "code",
      "metadata": {
        "id": "a0ejCUxp7ue3",
        "colab_type": "code",
        "colab": {
          "base_uri": "https://localhost:8080/",
          "height": 84
        },
        "outputId": "a9e75b44-9644-4b43-f0dd-7c9b4eb32fb7"
      },
      "source": [
        "x_train = torch.FloatTensor(embeddings_train)\n",
        "x_test = torch.FloatTensor(embeddings_test)\n",
        "\n",
        "y_train = torch.FloatTensor(y_train)\n",
        "y_test = torch.FloatTensor(y_test)\n",
        "\n",
        "x_train.size(), x_test.size(), y_train.size(), y_test.size()"
      ],
      "execution_count": 431,
      "outputs": [
        {
          "output_type": "execute_result",
          "data": {
            "text/plain": [
              "(torch.Size([15076, 768]),\n",
              " torch.Size([3770, 768]),\n",
              " torch.Size([15076]),\n",
              " torch.Size([3770]))"
            ]
          },
          "metadata": {
            "tags": []
          },
          "execution_count": 431
        }
      ]
    },
    {
      "cell_type": "code",
      "metadata": {
        "id": "KjwleXt3CtYd",
        "colab_type": "code",
        "colab": {}
      },
      "source": [
        "def get_triplets(embeddings, y):\n",
        "    \"\"\"\n",
        "    Рандомно выбирается эмбеддинг совпадающего класса (добавляется в pos) и эмбеддинг несовпадающего (добавляется в neg).\n",
        "    \"\"\"\n",
        "    pos = []\n",
        "    neg = []\n",
        "    for ind, anchor in enumerate(embeddings):\n",
        "        pos.append(embeddings[np.random.choice(np.where(y == y[ind])[0])])\n",
        "        neg.append(embeddings[np.random.choice(np.where(y != y[ind])[0])])\n",
        "    return torch.FloatTensor(pos), torch.FloatTensor(neg)"
      ],
      "execution_count": 0,
      "outputs": []
    },
    {
      "cell_type": "code",
      "metadata": {
        "id": "2zf83K5gC633",
        "colab_type": "code",
        "colab": {}
      },
      "source": [
        "pos_train, neg_train = get_triplets(embeddings_train, y_train)\n",
        "pos_test, neg_test = get_triplets(embeddings_test, y_test)\n",
        "\n",
        "assert pos_train.size() == neg_train.size() == x_train.size()\n",
        "assert pos_test.size() == neg_test.size() == x_test.size()"
      ],
      "execution_count": 0,
      "outputs": []
    },
    {
      "cell_type": "code",
      "metadata": {
        "id": "AbIUoOVxC3WY",
        "colab_type": "code",
        "colab": {}
      },
      "source": [
        "batch_size = 2048\n",
        "train_loader = DataLoader(TensorDataset(x_train, pos_train, neg_train,  y_train), batch_size=batch_size)\n",
        "test_loader = DataLoader(TensorDataset(x_test, pos_test, neg_test, y_test), batch_size=batch_size)"
      ],
      "execution_count": 0,
      "outputs": []
    },
    {
      "cell_type": "code",
      "metadata": {
        "id": "P79cLb9cHxwg",
        "colab_type": "code",
        "colab": {
          "base_uri": "https://localhost:8080/",
          "height": 50
        },
        "outputId": "87f82879-9e40-4c5c-9e64-447b92981f3f"
      },
      "source": [
        "for el in test_loader:\n",
        "    print(type(el), len(el))\n",
        "    print(el[0].size(), el[1].size(), el[2].size(), el[3].size())\n",
        "    break"
      ],
      "execution_count": 435,
      "outputs": [
        {
          "output_type": "stream",
          "text": [
            "<class 'list'> 4\n",
            "torch.Size([2048, 768]) torch.Size([2048, 768]) torch.Size([2048, 768]) torch.Size([2048])\n"
          ],
          "name": "stdout"
        }
      ]
    },
    {
      "cell_type": "markdown",
      "metadata": {
        "id": "SmHBJj4hFncA",
        "colab_type": "text"
      },
      "source": [
        "# Model"
      ]
    },
    {
      "cell_type": "code",
      "metadata": {
        "id": "SwZQqBBhGDDM",
        "colab_type": "code",
        "colab": {}
      },
      "source": [
        "def triplet_loss(anchor_embed, pos_embed, neg_embed, margin=.5):\n",
        "    # https://pytorch.org/docs/stable/nn.html#torch.nn.TripletMarginLoss\n",
        "    # https://github.com/UKPLab/sentence-transformers/blob/9b94d3fae98970ccdf380139542d93011bb984ea/sentence_transformers/losses/TripletLoss.py#L8\n",
        "\n",
        "    # positive = F.pairwise_distance(anchor_embed, pos_embed, p=2)  # Варианты для euclidian distance (loss хуже)\n",
        "    # negative = F.pairwise_distance(anchor_embed, neg_embed, p=2)\n",
        "\n",
        "    positive = 1 - F.cosine_similarity(anchor_embed, pos_embed)\n",
        "    negative = 1 - F.cosine_similarity(anchor_embed, neg_embed)\n",
        "    differ = positive - negative + margin\n",
        "    return F.relu(differ).mean()\n",
        "    \n",
        "class Tripletnet(nn.Module):\n",
        "    def __init__(self, input_size,  hidden_size, output_size):\n",
        "        super(Tripletnet, self).__init__()\n",
        "        self.fc = nn.Linear(input_size, hidden_size)\n",
        "        self.out = nn.Linear(hidden_size, output_size)\n",
        "        \n",
        "    def branch(self, x):\n",
        "        x = self.fc(x)\n",
        "        x = F.relu(x)\n",
        "        x = self.out(x)\n",
        "        return x\n",
        "\n",
        "    def forward(self, batch):\n",
        "        anchor, pos, neg = batch[0], batch[1], batch[2]\n",
        "        \n",
        "        anchor = self.branch(anchor)\n",
        "        pos = self.branch(pos)\n",
        "        neg = self.branch(neg)\n",
        "        out = triplet_loss(anchor, pos, neg)\n",
        "        return out\n",
        "\n",
        "model = Tripletnet(input_size=768, hidden_size=128, output_size=256)\n",
        "optimizer = optim.Adam(model.parameters())"
      ],
      "execution_count": 0,
      "outputs": []
    },
    {
      "cell_type": "code",
      "metadata": {
        "id": "M1-y07l_Ft12",
        "colab_type": "code",
        "colab": {}
      },
      "source": [
        "train_losses = []\n",
        "valid_losses = []\n",
        "\n",
        "def _train_epoch(model, iterator, optimizer, curr_epoch):\n",
        "\n",
        "    model.train()\n",
        "\n",
        "    running_loss = 0\n",
        "\n",
        "    n_batches = len(iterator)\n",
        "    iterator = tqdm_notebook(iterator, total=n_batches, desc='epoch %d' % (curr_epoch), leave=True)\n",
        "\n",
        "    for i, batch in enumerate(iterator):\n",
        "        optimizer.zero_grad()\n",
        "\n",
        "        loss = model(batch)\n",
        "        loss.backward()\n",
        "        optimizer.step()\n",
        "\n",
        "        curr_loss = loss.item()\n",
        "        \n",
        "        loss_smoothing = i / (i+1)\n",
        "        running_loss = loss_smoothing * running_loss + (1 - loss_smoothing) * curr_loss\n",
        "\n",
        "        train_losses.append(running_loss)\n",
        "        iterator.set_postfix(loss='%.5f' % running_loss)\n",
        "\n",
        "    return running_loss\n",
        "\n",
        "def _test_epoch(model, iterator):\n",
        "    model.eval()\n",
        "    epoch_loss = 0\n",
        "\n",
        "    n_batches = len(iterator)\n",
        "    with torch.no_grad():\n",
        "        for batch in iterator:\n",
        "            loss = model(batch)\n",
        "            epoch_loss += loss.data.item()\n",
        "            valid_losses.append(loss)\n",
        "\n",
        "    return epoch_loss / n_batches\n",
        "\n",
        "def nn_train(model, train_iterator, valid_iterator, optimizer, n_epochs=100,\n",
        "          scheduler=None, early_stopping=0):\n",
        "\n",
        "    prev_loss = 100500\n",
        "    es_epochs = 0\n",
        "    best_epoch = None\n",
        "    history = pd.DataFrame()\n",
        "\n",
        "    for epoch in range(n_epochs):\n",
        "        train_loss = _train_epoch(model, train_iterator, optimizer, epoch)\n",
        "        valid_loss = _test_epoch(model, valid_iterator)\n",
        "       # scheduler.step(valid_loss)\n",
        "\n",
        "        valid_loss = valid_loss\n",
        "        print('validation loss %.5f' % valid_loss)\n",
        "\n",
        "        record = {'epoch': epoch, 'train_loss': train_loss, 'valid_loss': valid_loss}\n",
        "        history = history.append(record, ignore_index=True)\n",
        "\n",
        "        if early_stopping > 0:\n",
        "            if valid_loss > prev_loss:\n",
        "                es_epochs += 1\n",
        "            else:\n",
        "                es_epochs = 0\n",
        "\n",
        "            if es_epochs >= early_stopping:\n",
        "                best_epoch = history[history.valid_loss == history.valid_loss.min()].iloc[0]\n",
        "                print('Early stopping! best epoch: %d val %.5f' % (best_epoch['epoch'], best_epoch['valid_loss']))\n",
        "                break\n",
        "\n",
        "            prev_loss = min(prev_loss, valid_loss)\n",
        "\n",
        "nn_train(model, train_loader, test_loader, optimizer, n_epochs=100)"
      ],
      "execution_count": 0,
      "outputs": []
    },
    {
      "cell_type": "code",
      "metadata": {
        "id": "BbSFeWAt_6uS",
        "colab_type": "code",
        "colab": {
          "base_uri": "https://localhost:8080/",
          "height": 414
        },
        "outputId": "2830c642-2ad8-4c91-a253-9bba3bf7018c"
      },
      "source": [
        "import matplotlib.pyplot as plt \n",
        "\n",
        "plt.figure(figsize=(8, 6))\n",
        "plt.plot(range(len(train_losses)), train_losses, np.array(range(len(valid_losses)))*(len(train_losses)/len(valid_losses)), valid_losses)\n",
        "plt.legend(('train loss', 'valid loss'),prop={'size': 18})\n",
        "plt.title('Loss on each iteration', fontsize=20)\n",
        "plt.xlabel('Iterations', fontsize=16)\n",
        "plt.ylabel('Loss', fontsize=16)\n",
        "plt.show()"
      ],
      "execution_count": 438,
      "outputs": [
        {
          "output_type": "display_data",
          "data": {
            "image/png": "[encoded data removed]",
            "text/plain": [
              "<Figure size 576x432 with 1 Axes>"
            ]
          },
          "metadata": {
            "tags": []
          }
        }
      ]
    },
    {
      "cell_type": "markdown",
      "metadata": {
        "id": "j3fg-fceoLS1",
        "colab_type": "text"
      },
      "source": [
        "# Final Predicion"
      ]
    },
    {
      "cell_type": "code",
      "metadata": {
        "id": "IoYHeusqy1FS",
        "colab_type": "code",
        "outputId": "19cee12a-614f-4d8b-b147-2d0754440b0d",
        "colab": {
          "base_uri": "https://localhost:8080/",
          "height": 34
        }
      },
      "source": [
        "DIM = 256\n",
        "N_TREES = 1000\n",
        "\n",
        "f = DIM\n",
        "t = AnnoyIndex(f, \"manhattan\")\n",
        "for i in range(x_train.size()[0]):\n",
        "    v = model.branch(x_train[i])\n",
        "    t.add_item(i, v)\n",
        "t.build(N_TREES)\n",
        "t.save('justincase.ann')"
      ],
      "execution_count": 439,
      "outputs": [
        {
          "output_type": "execute_result",
          "data": {
            "text/plain": [
              "True"
            ]
          },
          "metadata": {
            "tags": []
          },
          "execution_count": 439
        }
      ]
    },
    {
      "cell_type": "code",
      "metadata": {
        "id": "jeFJSa1KnG9K",
        "colab_type": "code",
        "outputId": "cf386079-d57b-4361-f020-8c73c38541e8",
        "colab": {
          "base_uri": "https://localhost:8080/",
          "height": 50
        }
      },
      "source": [
        "clean_tqdm()\n",
        "count_true = 0\n",
        "\n",
        "_true = []\n",
        "_pred = []\n",
        "for i, vector in tqdm(enumerate(x_test)):\n",
        "\n",
        "    nn_ids = np.array(t.get_nns_by_vector(model.branch(vector), 2000))\n",
        "    neighbor_vectors = np.take(x_train, nn_ids, axis=0).tolist()\n",
        "    \n",
        "    neighbor_vectors_y = np.take(y_train, nn_ids).tolist()\n",
        "    pred = neighbor_vectors[cKDTree(neighbor_vectors).query(vector,k=1)[1]]\n",
        "    ind_pred = neighbor_vectors.index(pred)\n",
        "    \n",
        "    \n",
        "    # Блок для подбора по макс кол-ву\n",
        "    inds = cKDTree(neighbor_vectors).query(vector,k=15)[1]\n",
        "    pred = [neighbor_vectors[ind] for ind in inds]\n",
        "    pred_y = [neighbor_vectors.index(p) for p in pred]\n",
        "    inds = [neighbor_vectors_y[p] for p in pred_y]   \n",
        "    _pred.append(most_frequent(inds))\n",
        "    # Конец Блока\n",
        "\n",
        "    _true.append(y_test[i].item())\n",
        "    # _pred.append(neighbor_vectors_y[ind_pred])\n",
        "    if y_test[i] == neighbor_vectors_y[ind_pred]: # Сравниваем с тру классом\n",
        "        count_true += 1\n",
        "\n",
        "    if i==100:\n",
        "        print(count_true)\n",
        "        break\n",
        "\n",
        "print('Accuracy score: {}'.format(count_true/len(x_test)))"
      ],
      "execution_count": 440,
      "outputs": [
        {
          "output_type": "stream",
          "text": [
            "100it [00:35,  2.79it/s]"
          ],
          "name": "stderr"
        },
        {
          "output_type": "stream",
          "text": [
            "83\n",
            "Accuracy score: 0.022015915119363395\n"
          ],
          "name": "stdout"
        }
      ]
    },
    {
      "cell_type": "code",
      "metadata": {
        "id": "KaOtPeyVRZ6G",
        "colab_type": "code",
        "outputId": "fde355cf-39f1-47b9-a242-92e1c352a311",
        "colab": {
          "base_uri": "https://localhost:8080/",
          "height": 34
        }
      },
      "source": [
        "from sklearn.metrics import accuracy_score\n",
        "accuracy_score(_true, _pred)"
      ],
      "execution_count": 441,
      "outputs": [
        {
          "output_type": "execute_result",
          "data": {
            "text/plain": [
              "0.7128712871287128"
            ]
          },
          "metadata": {
            "tags": []
          },
          "execution_count": 441
        }
      ]
    },
    {
      "cell_type": "code",
      "metadata": {
        "id": "mv6ORMoKIqqh",
        "colab_type": "code",
        "colab": {}
      },
      "source": [
        "# from sklearn.neighbors import NearestNeighbors\n",
        "\n",
        "# vec_predicted = np.array([model.branch(vector).detach().numpy() for vector in x_test])\n",
        "\n",
        "# nbrs = NearestNeighbors(n_neighbors=50).fit(vec_predicted)\n",
        "# distances, inds = nbrs.kneighbors(vec_predicted)"
      ],
      "execution_count": 0,
      "outputs": []
    },
    {
      "cell_type": "code",
      "metadata": {
        "id": "PKRW_xSZI3TA",
        "colab_type": "code",
        "colab": {}
      },
      "source": [
        "# for ind, vector in enumerate(vec_predicted):\n",
        "#     vector_dists = distances[i]#[1:]\n",
        "#     vector_ids = distances[i]#[1:]\n"
      ],
      "execution_count": 0,
      "outputs": []
    },
    {
      "cell_type": "code",
      "metadata": {
        "id": "ry-AgVC4FLCu",
        "colab_type": "code",
        "colab": {}
      },
      "source": [
        "from sklearn.neighbors import NearestNeighbors\n",
        "\n",
        "predicted = np.array([model.branch(vector).detach().numpy() for vector in x_test])\n",
        "\n",
        "nbrs = NearestNeighbors(n_neighbors=50).fit(predicted)\n",
        "distances, indices = nbrs.kneighbors(predicted)\n",
        "\n",
        "predict_df = pd.DataFrame(columns=['target', 'vec'])\n",
        "predict_df['target'] = y_test\n",
        "predict_df['vec'] = list(predicted)\n",
        "predicted_classes = []\n",
        "count = 0\n",
        "for i, row in predict_df.iterrows():\n",
        "    distances_to_classes = [100]*20\n",
        "    distances_i = distances[i][1:] # Дистанции до айтема\n",
        "    indices_i = indices[i][1:] # Индексы ближайших объектов\n",
        "    # print(indices_i)\n",
        "    # print(type(indices_i))\n",
        "\n",
        "    labels = [predict_df['target'][ind] for ind in indices_i]\n",
        "    # print(labels)\n",
        "    # break\n",
        "    # print('DIST')\n",
        "    # print(distances_i)\n",
        "    # break\n",
        "\n",
        "    \n",
        "    def most_frequent(List): \n",
        "        return max(set(List), key = List.count) \n",
        "    \n",
        "    \n",
        "    \n",
        "    \n",
        "    \n",
        "    index_min = indices_i[np.argmin(np.array(distances_i))]\n",
        "\n",
        "    class_min = most_frequent(labels)\n",
        "    #print(index_min)\n",
        "    # class_min = predict_df['target'][index_min]\n",
        "\n",
        "    for n_i, n_d in enumerate(distances_i):\n",
        "        class_n = predict_df['target'][indices_i[n_i]]\n",
        "        #print(class_n)\n",
        "        if distances_to_classes[int(class_n)] == 100 :\n",
        "            distances_to_classes[int(class_n)] = n_d\n",
        "        else:\n",
        "            distances_to_classes[int(class_n)] += n_d\n",
        "    if 0. in distances_to_classes:\n",
        "        count += 1\n",
        "    class_i = float(distances_to_classes.index(min(distances_to_classes)))\n",
        "\n",
        "    #print(class_min, class_i)\n",
        "    #assert class_min == class_i\n",
        "\n",
        "    predicted_classes.append(class_min)"
      ],
      "execution_count": 0,
      "outputs": []
    },
    {
      "cell_type": "code",
      "metadata": {
        "id": "QANG0ywNhLcx",
        "colab_type": "code",
        "outputId": "d2a5da27-b433-40e4-fd5c-55ee9c01adca",
        "colab": {
          "base_uri": "https://localhost:8080/",
          "height": 34
        }
      },
      "source": [
        "predicted_classes[:5]"
      ],
      "execution_count": 443,
      "outputs": [
        {
          "output_type": "execute_result",
          "data": {
            "text/plain": [
              "[18.0, 8.0, 10.0, 10.0, 15.0]"
            ]
          },
          "metadata": {
            "tags": []
          },
          "execution_count": 443
        }
      ]
    },
    {
      "cell_type": "code",
      "metadata": {
        "id": "S221iw6OjcJ-",
        "colab_type": "code",
        "outputId": "23a82dad-98c5-4b5e-a745-8e8dfcf6f1e5",
        "colab": {
          "base_uri": "https://localhost:8080/",
          "height": 34
        }
      },
      "source": [
        "y_test[:5]"
      ],
      "execution_count": 444,
      "outputs": [
        {
          "output_type": "execute_result",
          "data": {
            "text/plain": [
              "tensor([18.,  8.,  9., 10.,  0.])"
            ]
          },
          "metadata": {
            "tags": []
          },
          "execution_count": 444
        }
      ]
    },
    {
      "cell_type": "code",
      "metadata": {
        "id": "pKCMvH-dPlf3",
        "colab_type": "code",
        "outputId": "76063798-82c7-4712-a238-b3eb27dcc54f",
        "colab": {
          "base_uri": "https://localhost:8080/",
          "height": 34
        }
      },
      "source": [
        "accuracy_score(y_true = y_test, y_pred=predicted_classes)"
      ],
      "execution_count": 445,
      "outputs": [
        {
          "output_type": "execute_result",
          "data": {
            "text/plain": [
              "0.6119363395225464"
            ]
          },
          "metadata": {
            "tags": []
          },
          "execution_count": 445
        }
      ]
    },
    {
      "cell_type": "code",
      "metadata": {
        "id": "XXDupA_6lKUH",
        "colab_type": "code",
        "outputId": "b3ebc727-26f7-4cfe-ea48-8a74d0916581",
        "colab": {
          "base_uri": "https://localhost:8080/",
          "height": 34
        }
      },
      "source": [
        "count"
      ],
      "execution_count": 446,
      "outputs": [
        {
          "output_type": "execute_result",
          "data": {
            "text/plain": [
              "0"
            ]
          },
          "metadata": {
            "tags": []
          },
          "execution_count": 446
        }
      ]
    },
    {
      "cell_type": "code",
      "metadata": {
        "id": "c1sVnBWPSwue",
        "colab_type": "code",
        "colab": {}
      },
      "source": [
        ""
      ],
      "execution_count": 0,
      "outputs": []
    }
  ]
}