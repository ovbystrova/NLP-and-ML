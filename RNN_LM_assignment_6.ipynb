{
  "nbformat": 4,
  "nbformat_minor": 0,
  "metadata": {
    "kernelspec": {
      "name": "python3",
      "display_name": "Python 3"
    },
    "language_info": {
      "codemirror_mode": {
        "name": "ipython",
        "version": 3
      },
      "file_extension": ".py",
      "mimetype": "text/x-python",
      "name": "python",
      "nbconvert_exporter": "python",
      "pygments_lexer": "ipython3",
      "version": "3.7.6"
    },
    "colab": {
      "name": "Copy of RNN_LM_assignment_6.ipynb",
      "provenance": [],
      "collapsed_sections": [
        "eUGrp4JS7a1y",
        "N6X6ZfQVbj2h",
        "rYSrDkNVboRS",
        "bISfI0uAbsbB",
        "fqscWctubw9N"
      ]
    },
    "accelerator": "GPU",
    "widgets": {
      "application/vnd.jupyter.widget-state+json": {
        "a509b8a510154448aa47e203afe3e16e": {
          "model_module": "@jupyter-widgets/controls",
          "model_name": "HBoxModel",
          "state": {
            "_view_name": "HBoxView",
            "_dom_classes": [],
            "_model_name": "HBoxModel",
            "_view_module": "@jupyter-widgets/controls",
            "_model_module_version": "1.5.0",
            "_view_count": null,
            "_view_module_version": "1.5.0",
            "box_style": "",
            "layout": "IPY_MODEL_fc69251f5629476d90184b319b98ea4e",
            "_model_module": "@jupyter-widgets/controls",
            "children": [
              "IPY_MODEL_772528e1a1eb45199429ab16f0ddd325",
              "IPY_MODEL_6e4e9f735550427cad808fe5c5c5cba3"
            ]
          }
        },
        "fc69251f5629476d90184b319b98ea4e": {
          "model_module": "@jupyter-widgets/base",
          "model_name": "LayoutModel",
          "state": {
            "_view_name": "LayoutView",
            "grid_template_rows": null,
            "right": null,
            "justify_content": null,
            "_view_module": "@jupyter-widgets/base",
            "overflow": null,
            "_model_module_version": "1.2.0",
            "_view_count": null,
            "flex_flow": null,
            "width": null,
            "min_width": null,
            "border": null,
            "align_items": null,
            "bottom": null,
            "_model_module": "@jupyter-widgets/base",
            "top": null,
            "grid_column": null,
            "overflow_y": null,
            "overflow_x": null,
            "grid_auto_flow": null,
            "grid_area": null,
            "grid_template_columns": null,
            "flex": null,
            "_model_name": "LayoutModel",
            "justify_items": null,
            "grid_row": null,
            "max_height": null,
            "align_content": null,
            "visibility": null,
            "align_self": null,
            "height": null,
            "min_height": null,
            "padding": null,
            "grid_auto_rows": null,
            "grid_gap": null,
            "max_width": null,
            "order": null,
            "_view_module_version": "1.2.0",
            "grid_template_areas": null,
            "object_position": null,
            "object_fit": null,
            "grid_auto_columns": null,
            "margin": null,
            "display": null,
            "left": null
          }
        },
        "772528e1a1eb45199429ab16f0ddd325": {
          "model_module": "@jupyter-widgets/controls",
          "model_name": "IntProgressModel",
          "state": {
            "_view_name": "ProgressView",
            "style": "IPY_MODEL_d9b14b0f6cc845a5b7e460b7d6ab1021",
            "_dom_classes": [],
            "description": "epoch 0",
            "_model_name": "IntProgressModel",
            "bar_style": "success",
            "max": 905,
            "_view_module": "@jupyter-widgets/controls",
            "_model_module_version": "1.5.0",
            "value": 905,
            "_view_count": null,
            "_view_module_version": "1.5.0",
            "orientation": "horizontal",
            "min": 0,
            "description_tooltip": null,
            "_model_module": "@jupyter-widgets/controls",
            "layout": "IPY_MODEL_b0c4539280f74c0cb24b7fdcd610b57a"
          }
        },
        "6e4e9f735550427cad808fe5c5c5cba3": {
          "model_module": "@jupyter-widgets/controls",
          "model_name": "HTMLModel",
          "state": {
            "_view_name": "HTMLView",
            "style": "IPY_MODEL_012a8bd168564dba9cc5ca542349a5c8",
            "_dom_classes": [],
            "description": "",
            "_model_name": "HTMLModel",
            "placeholder": "​",
            "_view_module": "@jupyter-widgets/controls",
            "_model_module_version": "1.5.0",
            "value": "100% 905/905 [00:47&lt;00:00, 19.19it/s, loss=3.91814]",
            "_view_count": null,
            "_view_module_version": "1.5.0",
            "description_tooltip": null,
            "_model_module": "@jupyter-widgets/controls",
            "layout": "IPY_MODEL_7b3d3179f38241b5ad1ed885388dfd68"
          }
        },
        "d9b14b0f6cc845a5b7e460b7d6ab1021": {
          "model_module": "@jupyter-widgets/controls",
          "model_name": "ProgressStyleModel",
          "state": {
            "_view_name": "StyleView",
            "_model_name": "ProgressStyleModel",
            "description_width": "initial",
            "_view_module": "@jupyter-widgets/base",
            "_model_module_version": "1.5.0",
            "_view_count": null,
            "_view_module_version": "1.2.0",
            "bar_color": null,
            "_model_module": "@jupyter-widgets/controls"
          }
        },
        "b0c4539280f74c0cb24b7fdcd610b57a": {
          "model_module": "@jupyter-widgets/base",
          "model_name": "LayoutModel",
          "state": {
            "_view_name": "LayoutView",
            "grid_template_rows": null,
            "right": null,
            "justify_content": null,
            "_view_module": "@jupyter-widgets/base",
            "overflow": null,
            "_model_module_version": "1.2.0",
            "_view_count": null,
            "flex_flow": null,
            "width": null,
            "min_width": null,
            "border": null,
            "align_items": null,
            "bottom": null,
            "_model_module": "@jupyter-widgets/base",
            "top": null,
            "grid_column": null,
            "overflow_y": null,
            "overflow_x": null,
            "grid_auto_flow": null,
            "grid_area": null,
            "grid_template_columns": null,
            "flex": null,
            "_model_name": "LayoutModel",
            "justify_items": null,
            "grid_row": null,
            "max_height": null,
            "align_content": null,
            "visibility": null,
            "align_self": null,
            "height": null,
            "min_height": null,
            "padding": null,
            "grid_auto_rows": null,
            "grid_gap": null,
            "max_width": null,
            "order": null,
            "_view_module_version": "1.2.0",
            "grid_template_areas": null,
            "object_position": null,
            "object_fit": null,
            "grid_auto_columns": null,
            "margin": null,
            "display": null,
            "left": null
          }
        },
        "012a8bd168564dba9cc5ca542349a5c8": {
          "model_module": "@jupyter-widgets/controls",
          "model_name": "DescriptionStyleModel",
          "state": {
            "_view_name": "StyleView",
            "_model_name": "DescriptionStyleModel",
            "description_width": "",
            "_view_module": "@jupyter-widgets/base",
            "_model_module_version": "1.5.0",
            "_view_count": null,
            "_view_module_version": "1.2.0",
            "_model_module": "@jupyter-widgets/controls"
          }
        },
        "7b3d3179f38241b5ad1ed885388dfd68": {
          "model_module": "@jupyter-widgets/base",
          "model_name": "LayoutModel",
          "state": {
            "_view_name": "LayoutView",
            "grid_template_rows": null,
            "right": null,
            "justify_content": null,
            "_view_module": "@jupyter-widgets/base",
            "overflow": null,
            "_model_module_version": "1.2.0",
            "_view_count": null,
            "flex_flow": null,
            "width": null,
            "min_width": null,
            "border": null,
            "align_items": null,
            "bottom": null,
            "_model_module": "@jupyter-widgets/base",
            "top": null,
            "grid_column": null,
            "overflow_y": null,
            "overflow_x": null,
            "grid_auto_flow": null,
            "grid_area": null,
            "grid_template_columns": null,
            "flex": null,
            "_model_name": "LayoutModel",
            "justify_items": null,
            "grid_row": null,
            "max_height": null,
            "align_content": null,
            "visibility": null,
            "align_self": null,
            "height": null,
            "min_height": null,
            "padding": null,
            "grid_auto_rows": null,
            "grid_gap": null,
            "max_width": null,
            "order": null,
            "_view_module_version": "1.2.0",
            "grid_template_areas": null,
            "object_position": null,
            "object_fit": null,
            "grid_auto_columns": null,
            "margin": null,
            "display": null,
            "left": null
          }
        },
        "3a57549612af4752ac4338da47ed1c44": {
          "model_module": "@jupyter-widgets/controls",
          "model_name": "HBoxModel",
          "state": {
            "_view_name": "HBoxView",
            "_dom_classes": [],
            "_model_name": "HBoxModel",
            "_view_module": "@jupyter-widgets/controls",
            "_model_module_version": "1.5.0",
            "_view_count": null,
            "_view_module_version": "1.5.0",
            "box_style": "",
            "layout": "IPY_MODEL_f561a569b0614d54a5f6ef8401efd147",
            "_model_module": "@jupyter-widgets/controls",
            "children": [
              "IPY_MODEL_88010430154b40fd9a7cf966d307a55b",
              "IPY_MODEL_42eb660ed1c740829f26ce2b2e47a16a"
            ]
          }
        },
        "f561a569b0614d54a5f6ef8401efd147": {
          "model_module": "@jupyter-widgets/base",
          "model_name": "LayoutModel",
          "state": {
            "_view_name": "LayoutView",
            "grid_template_rows": null,
            "right": null,
            "justify_content": null,
            "_view_module": "@jupyter-widgets/base",
            "overflow": null,
            "_model_module_version": "1.2.0",
            "_view_count": null,
            "flex_flow": null,
            "width": null,
            "min_width": null,
            "border": null,
            "align_items": null,
            "bottom": null,
            "_model_module": "@jupyter-widgets/base",
            "top": null,
            "grid_column": null,
            "overflow_y": null,
            "overflow_x": null,
            "grid_auto_flow": null,
            "grid_area": null,
            "grid_template_columns": null,
            "flex": null,
            "_model_name": "LayoutModel",
            "justify_items": null,
            "grid_row": null,
            "max_height": null,
            "align_content": null,
            "visibility": null,
            "align_self": null,
            "height": null,
            "min_height": null,
            "padding": null,
            "grid_auto_rows": null,
            "grid_gap": null,
            "max_width": null,
            "order": null,
            "_view_module_version": "1.2.0",
            "grid_template_areas": null,
            "object_position": null,
            "object_fit": null,
            "grid_auto_columns": null,
            "margin": null,
            "display": null,
            "left": null
          }
        },
        "88010430154b40fd9a7cf966d307a55b": {
          "model_module": "@jupyter-widgets/controls",
          "model_name": "IntProgressModel",
          "state": {
            "_view_name": "ProgressView",
            "style": "IPY_MODEL_392804e46b334993a16af42971a2f903",
            "_dom_classes": [],
            "description": "epoch 1",
            "_model_name": "IntProgressModel",
            "bar_style": "success",
            "max": 905,
            "_view_module": "@jupyter-widgets/controls",
            "_model_module_version": "1.5.0",
            "value": 905,
            "_view_count": null,
            "_view_module_version": "1.5.0",
            "orientation": "horizontal",
            "min": 0,
            "description_tooltip": null,
            "_model_module": "@jupyter-widgets/controls",
            "layout": "IPY_MODEL_c9076c8fed9d4e1aa9d1145ea20a8c70"
          }
        },
        "42eb660ed1c740829f26ce2b2e47a16a": {
          "model_module": "@jupyter-widgets/controls",
          "model_name": "HTMLModel",
          "state": {
            "_view_name": "HTMLView",
            "style": "IPY_MODEL_8144b5535f254f91893898af6913867f",
            "_dom_classes": [],
            "description": "",
            "_model_name": "HTMLModel",
            "placeholder": "​",
            "_view_module": "@jupyter-widgets/controls",
            "_model_module_version": "1.5.0",
            "value": "100% 905/905 [00:48&lt;00:00, 18.53it/s, loss=1.23360]",
            "_view_count": null,
            "_view_module_version": "1.5.0",
            "description_tooltip": null,
            "_model_module": "@jupyter-widgets/controls",
            "layout": "IPY_MODEL_835378c36a644768867b9f87e5e14af2"
          }
        },
        "392804e46b334993a16af42971a2f903": {
          "model_module": "@jupyter-widgets/controls",
          "model_name": "ProgressStyleModel",
          "state": {
            "_view_name": "StyleView",
            "_model_name": "ProgressStyleModel",
            "description_width": "initial",
            "_view_module": "@jupyter-widgets/base",
            "_model_module_version": "1.5.0",
            "_view_count": null,
            "_view_module_version": "1.2.0",
            "bar_color": null,
            "_model_module": "@jupyter-widgets/controls"
          }
        },
        "c9076c8fed9d4e1aa9d1145ea20a8c70": {
          "model_module": "@jupyter-widgets/base",
          "model_name": "LayoutModel",
          "state": {
            "_view_name": "LayoutView",
            "grid_template_rows": null,
            "right": null,
            "justify_content": null,
            "_view_module": "@jupyter-widgets/base",
            "overflow": null,
            "_model_module_version": "1.2.0",
            "_view_count": null,
            "flex_flow": null,
            "width": null,
            "min_width": null,
            "border": null,
            "align_items": null,
            "bottom": null,
            "_model_module": "@jupyter-widgets/base",
            "top": null,
            "grid_column": null,
            "overflow_y": null,
            "overflow_x": null,
            "grid_auto_flow": null,
            "grid_area": null,
            "grid_template_columns": null,
            "flex": null,
            "_model_name": "LayoutModel",
            "justify_items": null,
            "grid_row": null,
            "max_height": null,
            "align_content": null,
            "visibility": null,
            "align_self": null,
            "height": null,
            "min_height": null,
            "padding": null,
            "grid_auto_rows": null,
            "grid_gap": null,
            "max_width": null,
            "order": null,
            "_view_module_version": "1.2.0",
            "grid_template_areas": null,
            "object_position": null,
            "object_fit": null,
            "grid_auto_columns": null,
            "margin": null,
            "display": null,
            "left": null
          }
        },
        "8144b5535f254f91893898af6913867f": {
          "model_module": "@jupyter-widgets/controls",
          "model_name": "DescriptionStyleModel",
          "state": {
            "_view_name": "StyleView",
            "_model_name": "DescriptionStyleModel",
            "description_width": "",
            "_view_module": "@jupyter-widgets/base",
            "_model_module_version": "1.5.0",
            "_view_count": null,
            "_view_module_version": "1.2.0",
            "_model_module": "@jupyter-widgets/controls"
          }
        },
        "835378c36a644768867b9f87e5e14af2": {
          "model_module": "@jupyter-widgets/base",
          "model_name": "LayoutModel",
          "state": {
            "_view_name": "LayoutView",
            "grid_template_rows": null,
            "right": null,
            "justify_content": null,
            "_view_module": "@jupyter-widgets/base",
            "overflow": null,
            "_model_module_version": "1.2.0",
            "_view_count": null,
            "flex_flow": null,
            "width": null,
            "min_width": null,
            "border": null,
            "align_items": null,
            "bottom": null,
            "_model_module": "@jupyter-widgets/base",
            "top": null,
            "grid_column": null,
            "overflow_y": null,
            "overflow_x": null,
            "grid_auto_flow": null,
            "grid_area": null,
            "grid_template_columns": null,
            "flex": null,
            "_model_name": "LayoutModel",
            "justify_items": null,
            "grid_row": null,
            "max_height": null,
            "align_content": null,
            "visibility": null,
            "align_self": null,
            "height": null,
            "min_height": null,
            "padding": null,
            "grid_auto_rows": null,
            "grid_gap": null,
            "max_width": null,
            "order": null,
            "_view_module_version": "1.2.0",
            "grid_template_areas": null,
            "object_position": null,
            "object_fit": null,
            "grid_auto_columns": null,
            "margin": null,
            "display": null,
            "left": null
          }
        },
        "b844d78b5d0945c6b3c672bf1ee4d3a7": {
          "model_module": "@jupyter-widgets/controls",
          "model_name": "HBoxModel",
          "state": {
            "_view_name": "HBoxView",
            "_dom_classes": [],
            "_model_name": "HBoxModel",
            "_view_module": "@jupyter-widgets/controls",
            "_model_module_version": "1.5.0",
            "_view_count": null,
            "_view_module_version": "1.5.0",
            "box_style": "",
            "layout": "IPY_MODEL_d16ccc2c1d254421996d7b6ada3269be",
            "_model_module": "@jupyter-widgets/controls",
            "children": [
              "IPY_MODEL_548dcf09de8849c5b106f7d547f152ce",
              "IPY_MODEL_6815341b36dd42f89beeef933aedf1af"
            ]
          }
        },
        "d16ccc2c1d254421996d7b6ada3269be": {
          "model_module": "@jupyter-widgets/base",
          "model_name": "LayoutModel",
          "state": {
            "_view_name": "LayoutView",
            "grid_template_rows": null,
            "right": null,
            "justify_content": null,
            "_view_module": "@jupyter-widgets/base",
            "overflow": null,
            "_model_module_version": "1.2.0",
            "_view_count": null,
            "flex_flow": null,
            "width": null,
            "min_width": null,
            "border": null,
            "align_items": null,
            "bottom": null,
            "_model_module": "@jupyter-widgets/base",
            "top": null,
            "grid_column": null,
            "overflow_y": null,
            "overflow_x": null,
            "grid_auto_flow": null,
            "grid_area": null,
            "grid_template_columns": null,
            "flex": null,
            "_model_name": "LayoutModel",
            "justify_items": null,
            "grid_row": null,
            "max_height": null,
            "align_content": null,
            "visibility": null,
            "align_self": null,
            "height": null,
            "min_height": null,
            "padding": null,
            "grid_auto_rows": null,
            "grid_gap": null,
            "max_width": null,
            "order": null,
            "_view_module_version": "1.2.0",
            "grid_template_areas": null,
            "object_position": null,
            "object_fit": null,
            "grid_auto_columns": null,
            "margin": null,
            "display": null,
            "left": null
          }
        },
        "548dcf09de8849c5b106f7d547f152ce": {
          "model_module": "@jupyter-widgets/controls",
          "model_name": "IntProgressModel",
          "state": {
            "_view_name": "ProgressView",
            "style": "IPY_MODEL_6e8471ed28e046d49818ca789a0656e4",
            "_dom_classes": [],
            "description": "epoch 2",
            "_model_name": "IntProgressModel",
            "bar_style": "success",
            "max": 905,
            "_view_module": "@jupyter-widgets/controls",
            "_model_module_version": "1.5.0",
            "value": 905,
            "_view_count": null,
            "_view_module_version": "1.5.0",
            "orientation": "horizontal",
            "min": 0,
            "description_tooltip": null,
            "_model_module": "@jupyter-widgets/controls",
            "layout": "IPY_MODEL_7b0d50be229a44ab892c14fad5b8dc78"
          }
        },
        "6815341b36dd42f89beeef933aedf1af": {
          "model_module": "@jupyter-widgets/controls",
          "model_name": "HTMLModel",
          "state": {
            "_view_name": "HTMLView",
            "style": "IPY_MODEL_b84f19cdec534bdc84103d336d74378c",
            "_dom_classes": [],
            "description": "",
            "_model_name": "HTMLModel",
            "placeholder": "​",
            "_view_module": "@jupyter-widgets/controls",
            "_model_module_version": "1.5.0",
            "value": "100% 905/905 [00:50&lt;00:00, 17.90it/s, loss=0.45947]",
            "_view_count": null,
            "_view_module_version": "1.5.0",
            "description_tooltip": null,
            "_model_module": "@jupyter-widgets/controls",
            "layout": "IPY_MODEL_2e754cc321204dd0adef7eb8f37d3c7b"
          }
        },
        "6e8471ed28e046d49818ca789a0656e4": {
          "model_module": "@jupyter-widgets/controls",
          "model_name": "ProgressStyleModel",
          "state": {
            "_view_name": "StyleView",
            "_model_name": "ProgressStyleModel",
            "description_width": "initial",
            "_view_module": "@jupyter-widgets/base",
            "_model_module_version": "1.5.0",
            "_view_count": null,
            "_view_module_version": "1.2.0",
            "bar_color": null,
            "_model_module": "@jupyter-widgets/controls"
          }
        },
        "7b0d50be229a44ab892c14fad5b8dc78": {
          "model_module": "@jupyter-widgets/base",
          "model_name": "LayoutModel",
          "state": {
            "_view_name": "LayoutView",
            "grid_template_rows": null,
            "right": null,
            "justify_content": null,
            "_view_module": "@jupyter-widgets/base",
            "overflow": null,
            "_model_module_version": "1.2.0",
            "_view_count": null,
            "flex_flow": null,
            "width": null,
            "min_width": null,
            "border": null,
            "align_items": null,
            "bottom": null,
            "_model_module": "@jupyter-widgets/base",
            "top": null,
            "grid_column": null,
            "overflow_y": null,
            "overflow_x": null,
            "grid_auto_flow": null,
            "grid_area": null,
            "grid_template_columns": null,
            "flex": null,
            "_model_name": "LayoutModel",
            "justify_items": null,
            "grid_row": null,
            "max_height": null,
            "align_content": null,
            "visibility": null,
            "align_self": null,
            "height": null,
            "min_height": null,
            "padding": null,
            "grid_auto_rows": null,
            "grid_gap": null,
            "max_width": null,
            "order": null,
            "_view_module_version": "1.2.0",
            "grid_template_areas": null,
            "object_position": null,
            "object_fit": null,
            "grid_auto_columns": null,
            "margin": null,
            "display": null,
            "left": null
          }
        },
        "b84f19cdec534bdc84103d336d74378c": {
          "model_module": "@jupyter-widgets/controls",
          "model_name": "DescriptionStyleModel",
          "state": {
            "_view_name": "StyleView",
            "_model_name": "DescriptionStyleModel",
            "description_width": "",
            "_view_module": "@jupyter-widgets/base",
            "_model_module_version": "1.5.0",
            "_view_count": null,
            "_view_module_version": "1.2.0",
            "_model_module": "@jupyter-widgets/controls"
          }
        },
        "2e754cc321204dd0adef7eb8f37d3c7b": {
          "model_module": "@jupyter-widgets/base",
          "model_name": "LayoutModel",
          "state": {
            "_view_name": "LayoutView",
            "grid_template_rows": null,
            "right": null,
            "justify_content": null,
            "_view_module": "@jupyter-widgets/base",
            "overflow": null,
            "_model_module_version": "1.2.0",
            "_view_count": null,
            "flex_flow": null,
            "width": null,
            "min_width": null,
            "border": null,
            "align_items": null,
            "bottom": null,
            "_model_module": "@jupyter-widgets/base",
            "top": null,
            "grid_column": null,
            "overflow_y": null,
            "overflow_x": null,
            "grid_auto_flow": null,
            "grid_area": null,
            "grid_template_columns": null,
            "flex": null,
            "_model_name": "LayoutModel",
            "justify_items": null,
            "grid_row": null,
            "max_height": null,
            "align_content": null,
            "visibility": null,
            "align_self": null,
            "height": null,
            "min_height": null,
            "padding": null,
            "grid_auto_rows": null,
            "grid_gap": null,
            "max_width": null,
            "order": null,
            "_view_module_version": "1.2.0",
            "grid_template_areas": null,
            "object_position": null,
            "object_fit": null,
            "grid_auto_columns": null,
            "margin": null,
            "display": null,
            "left": null
          }
        },
        "0c0548c5e26744cb98c57eb333b8ba00": {
          "model_module": "@jupyter-widgets/controls",
          "model_name": "HBoxModel",
          "state": {
            "_view_name": "HBoxView",
            "_dom_classes": [],
            "_model_name": "HBoxModel",
            "_view_module": "@jupyter-widgets/controls",
            "_model_module_version": "1.5.0",
            "_view_count": null,
            "_view_module_version": "1.5.0",
            "box_style": "",
            "layout": "IPY_MODEL_6c03fe8730d44e93beeac4011e340764",
            "_model_module": "@jupyter-widgets/controls",
            "children": [
              "IPY_MODEL_668f0d968c7445468b9cab89da8d2fee",
              "IPY_MODEL_a929c565e3af4c13bc16e9f1ad6c7789"
            ]
          }
        },
        "6c03fe8730d44e93beeac4011e340764": {
          "model_module": "@jupyter-widgets/base",
          "model_name": "LayoutModel",
          "state": {
            "_view_name": "LayoutView",
            "grid_template_rows": null,
            "right": null,
            "justify_content": null,
            "_view_module": "@jupyter-widgets/base",
            "overflow": null,
            "_model_module_version": "1.2.0",
            "_view_count": null,
            "flex_flow": null,
            "width": null,
            "min_width": null,
            "border": null,
            "align_items": null,
            "bottom": null,
            "_model_module": "@jupyter-widgets/base",
            "top": null,
            "grid_column": null,
            "overflow_y": null,
            "overflow_x": null,
            "grid_auto_flow": null,
            "grid_area": null,
            "grid_template_columns": null,
            "flex": null,
            "_model_name": "LayoutModel",
            "justify_items": null,
            "grid_row": null,
            "max_height": null,
            "align_content": null,
            "visibility": null,
            "align_self": null,
            "height": null,
            "min_height": null,
            "padding": null,
            "grid_auto_rows": null,
            "grid_gap": null,
            "max_width": null,
            "order": null,
            "_view_module_version": "1.2.0",
            "grid_template_areas": null,
            "object_position": null,
            "object_fit": null,
            "grid_auto_columns": null,
            "margin": null,
            "display": null,
            "left": null
          }
        },
        "668f0d968c7445468b9cab89da8d2fee": {
          "model_module": "@jupyter-widgets/controls",
          "model_name": "IntProgressModel",
          "state": {
            "_view_name": "ProgressView",
            "style": "IPY_MODEL_a8dc530d3d35493c850eedc92283c595",
            "_dom_classes": [],
            "description": "epoch 3",
            "_model_name": "IntProgressModel",
            "bar_style": "success",
            "max": 905,
            "_view_module": "@jupyter-widgets/controls",
            "_model_module_version": "1.5.0",
            "value": 905,
            "_view_count": null,
            "_view_module_version": "1.5.0",
            "orientation": "horizontal",
            "min": 0,
            "description_tooltip": null,
            "_model_module": "@jupyter-widgets/controls",
            "layout": "IPY_MODEL_346ea4a08f3e4842ab07a749a327b0b7"
          }
        },
        "a929c565e3af4c13bc16e9f1ad6c7789": {
          "model_module": "@jupyter-widgets/controls",
          "model_name": "HTMLModel",
          "state": {
            "_view_name": "HTMLView",
            "style": "IPY_MODEL_c6145cc3a8c24ddb8fcfd6007f9856da",
            "_dom_classes": [],
            "description": "",
            "_model_name": "HTMLModel",
            "placeholder": "​",
            "_view_module": "@jupyter-widgets/controls",
            "_model_module_version": "1.5.0",
            "value": "100% 905/905 [00:51&lt;00:00, 17.59it/s, loss=0.22351]",
            "_view_count": null,
            "_view_module_version": "1.5.0",
            "description_tooltip": null,
            "_model_module": "@jupyter-widgets/controls",
            "layout": "IPY_MODEL_ea0009bca3554c729e6c5f96d36322b4"
          }
        },
        "a8dc530d3d35493c850eedc92283c595": {
          "model_module": "@jupyter-widgets/controls",
          "model_name": "ProgressStyleModel",
          "state": {
            "_view_name": "StyleView",
            "_model_name": "ProgressStyleModel",
            "description_width": "initial",
            "_view_module": "@jupyter-widgets/base",
            "_model_module_version": "1.5.0",
            "_view_count": null,
            "_view_module_version": "1.2.0",
            "bar_color": null,
            "_model_module": "@jupyter-widgets/controls"
          }
        },
        "346ea4a08f3e4842ab07a749a327b0b7": {
          "model_module": "@jupyter-widgets/base",
          "model_name": "LayoutModel",
          "state": {
            "_view_name": "LayoutView",
            "grid_template_rows": null,
            "right": null,
            "justify_content": null,
            "_view_module": "@jupyter-widgets/base",
            "overflow": null,
            "_model_module_version": "1.2.0",
            "_view_count": null,
            "flex_flow": null,
            "width": null,
            "min_width": null,
            "border": null,
            "align_items": null,
            "bottom": null,
            "_model_module": "@jupyter-widgets/base",
            "top": null,
            "grid_column": null,
            "overflow_y": null,
            "overflow_x": null,
            "grid_auto_flow": null,
            "grid_area": null,
            "grid_template_columns": null,
            "flex": null,
            "_model_name": "LayoutModel",
            "justify_items": null,
            "grid_row": null,
            "max_height": null,
            "align_content": null,
            "visibility": null,
            "align_self": null,
            "height": null,
            "min_height": null,
            "padding": null,
            "grid_auto_rows": null,
            "grid_gap": null,
            "max_width": null,
            "order": null,
            "_view_module_version": "1.2.0",
            "grid_template_areas": null,
            "object_position": null,
            "object_fit": null,
            "grid_auto_columns": null,
            "margin": null,
            "display": null,
            "left": null
          }
        },
        "c6145cc3a8c24ddb8fcfd6007f9856da": {
          "model_module": "@jupyter-widgets/controls",
          "model_name": "DescriptionStyleModel",
          "state": {
            "_view_name": "StyleView",
            "_model_name": "DescriptionStyleModel",
            "description_width": "",
            "_view_module": "@jupyter-widgets/base",
            "_model_module_version": "1.5.0",
            "_view_count": null,
            "_view_module_version": "1.2.0",
            "_model_module": "@jupyter-widgets/controls"
          }
        },
        "ea0009bca3554c729e6c5f96d36322b4": {
          "model_module": "@jupyter-widgets/base",
          "model_name": "LayoutModel",
          "state": {
            "_view_name": "LayoutView",
            "grid_template_rows": null,
            "right": null,
            "justify_content": null,
            "_view_module": "@jupyter-widgets/base",
            "overflow": null,
            "_model_module_version": "1.2.0",
            "_view_count": null,
            "flex_flow": null,
            "width": null,
            "min_width": null,
            "border": null,
            "align_items": null,
            "bottom": null,
            "_model_module": "@jupyter-widgets/base",
            "top": null,
            "grid_column": null,
            "overflow_y": null,
            "overflow_x": null,
            "grid_auto_flow": null,
            "grid_area": null,
            "grid_template_columns": null,
            "flex": null,
            "_model_name": "LayoutModel",
            "justify_items": null,
            "grid_row": null,
            "max_height": null,
            "align_content": null,
            "visibility": null,
            "align_self": null,
            "height": null,
            "min_height": null,
            "padding": null,
            "grid_auto_rows": null,
            "grid_gap": null,
            "max_width": null,
            "order": null,
            "_view_module_version": "1.2.0",
            "grid_template_areas": null,
            "object_position": null,
            "object_fit": null,
            "grid_auto_columns": null,
            "margin": null,
            "display": null,
            "left": null
          }
        },
        "27216be6611244e2978db977ca08ea7a": {
          "model_module": "@jupyter-widgets/controls",
          "model_name": "HBoxModel",
          "state": {
            "_view_name": "HBoxView",
            "_dom_classes": [],
            "_model_name": "HBoxModel",
            "_view_module": "@jupyter-widgets/controls",
            "_model_module_version": "1.5.0",
            "_view_count": null,
            "_view_module_version": "1.5.0",
            "box_style": "",
            "layout": "IPY_MODEL_7b35f7d63aee46449f0ba66d9edaa436",
            "_model_module": "@jupyter-widgets/controls",
            "children": [
              "IPY_MODEL_53d2d6b43f8743399c1745ca7e4b6c00",
              "IPY_MODEL_9a1b3328690742c6b9ac28d74c4e0413"
            ]
          }
        },
        "7b35f7d63aee46449f0ba66d9edaa436": {
          "model_module": "@jupyter-widgets/base",
          "model_name": "LayoutModel",
          "state": {
            "_view_name": "LayoutView",
            "grid_template_rows": null,
            "right": null,
            "justify_content": null,
            "_view_module": "@jupyter-widgets/base",
            "overflow": null,
            "_model_module_version": "1.2.0",
            "_view_count": null,
            "flex_flow": null,
            "width": null,
            "min_width": null,
            "border": null,
            "align_items": null,
            "bottom": null,
            "_model_module": "@jupyter-widgets/base",
            "top": null,
            "grid_column": null,
            "overflow_y": null,
            "overflow_x": null,
            "grid_auto_flow": null,
            "grid_area": null,
            "grid_template_columns": null,
            "flex": null,
            "_model_name": "LayoutModel",
            "justify_items": null,
            "grid_row": null,
            "max_height": null,
            "align_content": null,
            "visibility": null,
            "align_self": null,
            "height": null,
            "min_height": null,
            "padding": null,
            "grid_auto_rows": null,
            "grid_gap": null,
            "max_width": null,
            "order": null,
            "_view_module_version": "1.2.0",
            "grid_template_areas": null,
            "object_position": null,
            "object_fit": null,
            "grid_auto_columns": null,
            "margin": null,
            "display": null,
            "left": null
          }
        },
        "53d2d6b43f8743399c1745ca7e4b6c00": {
          "model_module": "@jupyter-widgets/controls",
          "model_name": "IntProgressModel",
          "state": {
            "_view_name": "ProgressView",
            "style": "IPY_MODEL_af0dbf51bb9d4de8ad37bbdc737a8a90",
            "_dom_classes": [],
            "description": "epoch 4",
            "_model_name": "IntProgressModel",
            "bar_style": "success",
            "max": 905,
            "_view_module": "@jupyter-widgets/controls",
            "_model_module_version": "1.5.0",
            "value": 905,
            "_view_count": null,
            "_view_module_version": "1.5.0",
            "orientation": "horizontal",
            "min": 0,
            "description_tooltip": null,
            "_model_module": "@jupyter-widgets/controls",
            "layout": "IPY_MODEL_8f9be519bb1c486a83365e989bdc4273"
          }
        },
        "9a1b3328690742c6b9ac28d74c4e0413": {
          "model_module": "@jupyter-widgets/controls",
          "model_name": "HTMLModel",
          "state": {
            "_view_name": "HTMLView",
            "style": "IPY_MODEL_efac525e99b1436e8ce6cd5b3c8b2d3d",
            "_dom_classes": [],
            "description": "",
            "_model_name": "HTMLModel",
            "placeholder": "​",
            "_view_module": "@jupyter-widgets/controls",
            "_model_module_version": "1.5.0",
            "value": "100% 905/905 [00:52&lt;00:00, 17.14it/s, loss=0.15361]",
            "_view_count": null,
            "_view_module_version": "1.5.0",
            "description_tooltip": null,
            "_model_module": "@jupyter-widgets/controls",
            "layout": "IPY_MODEL_b3bfaa3c2ab6455fb63c1157a05bfe5e"
          }
        },
        "af0dbf51bb9d4de8ad37bbdc737a8a90": {
          "model_module": "@jupyter-widgets/controls",
          "model_name": "ProgressStyleModel",
          "state": {
            "_view_name": "StyleView",
            "_model_name": "ProgressStyleModel",
            "description_width": "initial",
            "_view_module": "@jupyter-widgets/base",
            "_model_module_version": "1.5.0",
            "_view_count": null,
            "_view_module_version": "1.2.0",
            "bar_color": null,
            "_model_module": "@jupyter-widgets/controls"
          }
        },
        "8f9be519bb1c486a83365e989bdc4273": {
          "model_module": "@jupyter-widgets/base",
          "model_name": "LayoutModel",
          "state": {
            "_view_name": "LayoutView",
            "grid_template_rows": null,
            "right": null,
            "justify_content": null,
            "_view_module": "@jupyter-widgets/base",
            "overflow": null,
            "_model_module_version": "1.2.0",
            "_view_count": null,
            "flex_flow": null,
            "width": null,
            "min_width": null,
            "border": null,
            "align_items": null,
            "bottom": null,
            "_model_module": "@jupyter-widgets/base",
            "top": null,
            "grid_column": null,
            "overflow_y": null,
            "overflow_x": null,
            "grid_auto_flow": null,
            "grid_area": null,
            "grid_template_columns": null,
            "flex": null,
            "_model_name": "LayoutModel",
            "justify_items": null,
            "grid_row": null,
            "max_height": null,
            "align_content": null,
            "visibility": null,
            "align_self": null,
            "height": null,
            "min_height": null,
            "padding": null,
            "grid_auto_rows": null,
            "grid_gap": null,
            "max_width": null,
            "order": null,
            "_view_module_version": "1.2.0",
            "grid_template_areas": null,
            "object_position": null,
            "object_fit": null,
            "grid_auto_columns": null,
            "margin": null,
            "display": null,
            "left": null
          }
        },
        "efac525e99b1436e8ce6cd5b3c8b2d3d": {
          "model_module": "@jupyter-widgets/controls",
          "model_name": "DescriptionStyleModel",
          "state": {
            "_view_name": "StyleView",
            "_model_name": "DescriptionStyleModel",
            "description_width": "",
            "_view_module": "@jupyter-widgets/base",
            "_model_module_version": "1.5.0",
            "_view_count": null,
            "_view_module_version": "1.2.0",
            "_model_module": "@jupyter-widgets/controls"
          }
        },
        "b3bfaa3c2ab6455fb63c1157a05bfe5e": {
          "model_module": "@jupyter-widgets/base",
          "model_name": "LayoutModel",
          "state": {
            "_view_name": "LayoutView",
            "grid_template_rows": null,
            "right": null,
            "justify_content": null,
            "_view_module": "@jupyter-widgets/base",
            "overflow": null,
            "_model_module_version": "1.2.0",
            "_view_count": null,
            "flex_flow": null,
            "width": null,
            "min_width": null,
            "border": null,
            "align_items": null,
            "bottom": null,
            "_model_module": "@jupyter-widgets/base",
            "top": null,
            "grid_column": null,
            "overflow_y": null,
            "overflow_x": null,
            "grid_auto_flow": null,
            "grid_area": null,
            "grid_template_columns": null,
            "flex": null,
            "_model_name": "LayoutModel",
            "justify_items": null,
            "grid_row": null,
            "max_height": null,
            "align_content": null,
            "visibility": null,
            "align_self": null,
            "height": null,
            "min_height": null,
            "padding": null,
            "grid_auto_rows": null,
            "grid_gap": null,
            "max_width": null,
            "order": null,
            "_view_module_version": "1.2.0",
            "grid_template_areas": null,
            "object_position": null,
            "object_fit": null,
            "grid_auto_columns": null,
            "margin": null,
            "display": null,
            "left": null
          }
        },
        "be76f989d1084d208310b3a6b39a057a": {
          "model_module": "@jupyter-widgets/controls",
          "model_name": "HBoxModel",
          "state": {
            "_view_name": "HBoxView",
            "_dom_classes": [],
            "_model_name": "HBoxModel",
            "_view_module": "@jupyter-widgets/controls",
            "_model_module_version": "1.5.0",
            "_view_count": null,
            "_view_module_version": "1.5.0",
            "box_style": "",
            "layout": "IPY_MODEL_b9bb1cd1a0754a77baabc64c92271984",
            "_model_module": "@jupyter-widgets/controls",
            "children": [
              "IPY_MODEL_13aba7fd5bbd42149915f16f658a232a",
              "IPY_MODEL_08a27e925e0541acab19b02aafe162c5"
            ]
          }
        },
        "b9bb1cd1a0754a77baabc64c92271984": {
          "model_module": "@jupyter-widgets/base",
          "model_name": "LayoutModel",
          "state": {
            "_view_name": "LayoutView",
            "grid_template_rows": null,
            "right": null,
            "justify_content": null,
            "_view_module": "@jupyter-widgets/base",
            "overflow": null,
            "_model_module_version": "1.2.0",
            "_view_count": null,
            "flex_flow": null,
            "width": null,
            "min_width": null,
            "border": null,
            "align_items": null,
            "bottom": null,
            "_model_module": "@jupyter-widgets/base",
            "top": null,
            "grid_column": null,
            "overflow_y": null,
            "overflow_x": null,
            "grid_auto_flow": null,
            "grid_area": null,
            "grid_template_columns": null,
            "flex": null,
            "_model_name": "LayoutModel",
            "justify_items": null,
            "grid_row": null,
            "max_height": null,
            "align_content": null,
            "visibility": null,
            "align_self": null,
            "height": null,
            "min_height": null,
            "padding": null,
            "grid_auto_rows": null,
            "grid_gap": null,
            "max_width": null,
            "order": null,
            "_view_module_version": "1.2.0",
            "grid_template_areas": null,
            "object_position": null,
            "object_fit": null,
            "grid_auto_columns": null,
            "margin": null,
            "display": null,
            "left": null
          }
        },
        "13aba7fd5bbd42149915f16f658a232a": {
          "model_module": "@jupyter-widgets/controls",
          "model_name": "IntProgressModel",
          "state": {
            "_view_name": "ProgressView",
            "style": "IPY_MODEL_fbbfb796aef4431cbd54f4c96d6d5cd3",
            "_dom_classes": [],
            "description": "epoch 5",
            "_model_name": "IntProgressModel",
            "bar_style": "success",
            "max": 905,
            "_view_module": "@jupyter-widgets/controls",
            "_model_module_version": "1.5.0",
            "value": 905,
            "_view_count": null,
            "_view_module_version": "1.5.0",
            "orientation": "horizontal",
            "min": 0,
            "description_tooltip": null,
            "_model_module": "@jupyter-widgets/controls",
            "layout": "IPY_MODEL_15204704f1874623885d854898cadc13"
          }
        },
        "08a27e925e0541acab19b02aafe162c5": {
          "model_module": "@jupyter-widgets/controls",
          "model_name": "HTMLModel",
          "state": {
            "_view_name": "HTMLView",
            "style": "IPY_MODEL_4c8fbd2551fd41a4ad4e192e703e06d2",
            "_dom_classes": [],
            "description": "",
            "_model_name": "HTMLModel",
            "placeholder": "​",
            "_view_module": "@jupyter-widgets/controls",
            "_model_module_version": "1.5.0",
            "value": "100% 905/905 [00:54&lt;00:00, 16.72it/s, loss=0.12791]",
            "_view_count": null,
            "_view_module_version": "1.5.0",
            "description_tooltip": null,
            "_model_module": "@jupyter-widgets/controls",
            "layout": "IPY_MODEL_5bd39846338343e9ac0dc35a6c394f99"
          }
        },
        "fbbfb796aef4431cbd54f4c96d6d5cd3": {
          "model_module": "@jupyter-widgets/controls",
          "model_name": "ProgressStyleModel",
          "state": {
            "_view_name": "StyleView",
            "_model_name": "ProgressStyleModel",
            "description_width": "initial",
            "_view_module": "@jupyter-widgets/base",
            "_model_module_version": "1.5.0",
            "_view_count": null,
            "_view_module_version": "1.2.0",
            "bar_color": null,
            "_model_module": "@jupyter-widgets/controls"
          }
        },
        "15204704f1874623885d854898cadc13": {
          "model_module": "@jupyter-widgets/base",
          "model_name": "LayoutModel",
          "state": {
            "_view_name": "LayoutView",
            "grid_template_rows": null,
            "right": null,
            "justify_content": null,
            "_view_module": "@jupyter-widgets/base",
            "overflow": null,
            "_model_module_version": "1.2.0",
            "_view_count": null,
            "flex_flow": null,
            "width": null,
            "min_width": null,
            "border": null,
            "align_items": null,
            "bottom": null,
            "_model_module": "@jupyter-widgets/base",
            "top": null,
            "grid_column": null,
            "overflow_y": null,
            "overflow_x": null,
            "grid_auto_flow": null,
            "grid_area": null,
            "grid_template_columns": null,
            "flex": null,
            "_model_name": "LayoutModel",
            "justify_items": null,
            "grid_row": null,
            "max_height": null,
            "align_content": null,
            "visibility": null,
            "align_self": null,
            "height": null,
            "min_height": null,
            "padding": null,
            "grid_auto_rows": null,
            "grid_gap": null,
            "max_width": null,
            "order": null,
            "_view_module_version": "1.2.0",
            "grid_template_areas": null,
            "object_position": null,
            "object_fit": null,
            "grid_auto_columns": null,
            "margin": null,
            "display": null,
            "left": null
          }
        },
        "4c8fbd2551fd41a4ad4e192e703e06d2": {
          "model_module": "@jupyter-widgets/controls",
          "model_name": "DescriptionStyleModel",
          "state": {
            "_view_name": "StyleView",
            "_model_name": "DescriptionStyleModel",
            "description_width": "",
            "_view_module": "@jupyter-widgets/base",
            "_model_module_version": "1.5.0",
            "_view_count": null,
            "_view_module_version": "1.2.0",
            "_model_module": "@jupyter-widgets/controls"
          }
        },
        "5bd39846338343e9ac0dc35a6c394f99": {
          "model_module": "@jupyter-widgets/base",
          "model_name": "LayoutModel",
          "state": {
            "_view_name": "LayoutView",
            "grid_template_rows": null,
            "right": null,
            "justify_content": null,
            "_view_module": "@jupyter-widgets/base",
            "overflow": null,
            "_model_module_version": "1.2.0",
            "_view_count": null,
            "flex_flow": null,
            "width": null,
            "min_width": null,
            "border": null,
            "align_items": null,
            "bottom": null,
            "_model_module": "@jupyter-widgets/base",
            "top": null,
            "grid_column": null,
            "overflow_y": null,
            "overflow_x": null,
            "grid_auto_flow": null,
            "grid_area": null,
            "grid_template_columns": null,
            "flex": null,
            "_model_name": "LayoutModel",
            "justify_items": null,
            "grid_row": null,
            "max_height": null,
            "align_content": null,
            "visibility": null,
            "align_self": null,
            "height": null,
            "min_height": null,
            "padding": null,
            "grid_auto_rows": null,
            "grid_gap": null,
            "max_width": null,
            "order": null,
            "_view_module_version": "1.2.0",
            "grid_template_areas": null,
            "object_position": null,
            "object_fit": null,
            "grid_auto_columns": null,
            "margin": null,
            "display": null,
            "left": null
          }
        },
        "c36c18dad24f4bb78510d03fc82ebce1": {
          "model_module": "@jupyter-widgets/controls",
          "model_name": "HBoxModel",
          "state": {
            "_view_name": "HBoxView",
            "_dom_classes": [],
            "_model_name": "HBoxModel",
            "_view_module": "@jupyter-widgets/controls",
            "_model_module_version": "1.5.0",
            "_view_count": null,
            "_view_module_version": "1.5.0",
            "box_style": "",
            "layout": "IPY_MODEL_e428fbf8035f4a4eaff95ddb6ea3757f",
            "_model_module": "@jupyter-widgets/controls",
            "children": [
              "IPY_MODEL_a20f3ecc2e144d16a1ac93fdd436126c",
              "IPY_MODEL_8d4070e6576a410d8ba7cebb0c9b8abc"
            ]
          }
        },
        "e428fbf8035f4a4eaff95ddb6ea3757f": {
          "model_module": "@jupyter-widgets/base",
          "model_name": "LayoutModel",
          "state": {
            "_view_name": "LayoutView",
            "grid_template_rows": null,
            "right": null,
            "justify_content": null,
            "_view_module": "@jupyter-widgets/base",
            "overflow": null,
            "_model_module_version": "1.2.0",
            "_view_count": null,
            "flex_flow": null,
            "width": null,
            "min_width": null,
            "border": null,
            "align_items": null,
            "bottom": null,
            "_model_module": "@jupyter-widgets/base",
            "top": null,
            "grid_column": null,
            "overflow_y": null,
            "overflow_x": null,
            "grid_auto_flow": null,
            "grid_area": null,
            "grid_template_columns": null,
            "flex": null,
            "_model_name": "LayoutModel",
            "justify_items": null,
            "grid_row": null,
            "max_height": null,
            "align_content": null,
            "visibility": null,
            "align_self": null,
            "height": null,
            "min_height": null,
            "padding": null,
            "grid_auto_rows": null,
            "grid_gap": null,
            "max_width": null,
            "order": null,
            "_view_module_version": "1.2.0",
            "grid_template_areas": null,
            "object_position": null,
            "object_fit": null,
            "grid_auto_columns": null,
            "margin": null,
            "display": null,
            "left": null
          }
        },
        "a20f3ecc2e144d16a1ac93fdd436126c": {
          "model_module": "@jupyter-widgets/controls",
          "model_name": "IntProgressModel",
          "state": {
            "_view_name": "ProgressView",
            "style": "IPY_MODEL_03d2913e6dac4bc2875c73563353a061",
            "_dom_classes": [],
            "description": "epoch 6",
            "_model_name": "IntProgressModel",
            "bar_style": "success",
            "max": 905,
            "_view_module": "@jupyter-widgets/controls",
            "_model_module_version": "1.5.0",
            "value": 905,
            "_view_count": null,
            "_view_module_version": "1.5.0",
            "orientation": "horizontal",
            "min": 0,
            "description_tooltip": null,
            "_model_module": "@jupyter-widgets/controls",
            "layout": "IPY_MODEL_d22b258d88e24298afacd53a94ad40d0"
          }
        },
        "8d4070e6576a410d8ba7cebb0c9b8abc": {
          "model_module": "@jupyter-widgets/controls",
          "model_name": "HTMLModel",
          "state": {
            "_view_name": "HTMLView",
            "style": "IPY_MODEL_323d341a61a74555afc26ab45e035002",
            "_dom_classes": [],
            "description": "",
            "_model_name": "HTMLModel",
            "placeholder": "​",
            "_view_module": "@jupyter-widgets/controls",
            "_model_module_version": "1.5.0",
            "value": "100% 905/905 [00:54&lt;00:00, 16.75it/s, loss=0.11236]",
            "_view_count": null,
            "_view_module_version": "1.5.0",
            "description_tooltip": null,
            "_model_module": "@jupyter-widgets/controls",
            "layout": "IPY_MODEL_4022cda55ab14b1d8f0c6f22d5ac4761"
          }
        },
        "03d2913e6dac4bc2875c73563353a061": {
          "model_module": "@jupyter-widgets/controls",
          "model_name": "ProgressStyleModel",
          "state": {
            "_view_name": "StyleView",
            "_model_name": "ProgressStyleModel",
            "description_width": "initial",
            "_view_module": "@jupyter-widgets/base",
            "_model_module_version": "1.5.0",
            "_view_count": null,
            "_view_module_version": "1.2.0",
            "bar_color": null,
            "_model_module": "@jupyter-widgets/controls"
          }
        },
        "d22b258d88e24298afacd53a94ad40d0": {
          "model_module": "@jupyter-widgets/base",
          "model_name": "LayoutModel",
          "state": {
            "_view_name": "LayoutView",
            "grid_template_rows": null,
            "right": null,
            "justify_content": null,
            "_view_module": "@jupyter-widgets/base",
            "overflow": null,
            "_model_module_version": "1.2.0",
            "_view_count": null,
            "flex_flow": null,
            "width": null,
            "min_width": null,
            "border": null,
            "align_items": null,
            "bottom": null,
            "_model_module": "@jupyter-widgets/base",
            "top": null,
            "grid_column": null,
            "overflow_y": null,
            "overflow_x": null,
            "grid_auto_flow": null,
            "grid_area": null,
            "grid_template_columns": null,
            "flex": null,
            "_model_name": "LayoutModel",
            "justify_items": null,
            "grid_row": null,
            "max_height": null,
            "align_content": null,
            "visibility": null,
            "align_self": null,
            "height": null,
            "min_height": null,
            "padding": null,
            "grid_auto_rows": null,
            "grid_gap": null,
            "max_width": null,
            "order": null,
            "_view_module_version": "1.2.0",
            "grid_template_areas": null,
            "object_position": null,
            "object_fit": null,
            "grid_auto_columns": null,
            "margin": null,
            "display": null,
            "left": null
          }
        },
        "323d341a61a74555afc26ab45e035002": {
          "model_module": "@jupyter-widgets/controls",
          "model_name": "DescriptionStyleModel",
          "state": {
            "_view_name": "StyleView",
            "_model_name": "DescriptionStyleModel",
            "description_width": "",
            "_view_module": "@jupyter-widgets/base",
            "_model_module_version": "1.5.0",
            "_view_count": null,
            "_view_module_version": "1.2.0",
            "_model_module": "@jupyter-widgets/controls"
          }
        },
        "4022cda55ab14b1d8f0c6f22d5ac4761": {
          "model_module": "@jupyter-widgets/base",
          "model_name": "LayoutModel",
          "state": {
            "_view_name": "LayoutView",
            "grid_template_rows": null,
            "right": null,
            "justify_content": null,
            "_view_module": "@jupyter-widgets/base",
            "overflow": null,
            "_model_module_version": "1.2.0",
            "_view_count": null,
            "flex_flow": null,
            "width": null,
            "min_width": null,
            "border": null,
            "align_items": null,
            "bottom": null,
            "_model_module": "@jupyter-widgets/base",
            "top": null,
            "grid_column": null,
            "overflow_y": null,
            "overflow_x": null,
            "grid_auto_flow": null,
            "grid_area": null,
            "grid_template_columns": null,
            "flex": null,
            "_model_name": "LayoutModel",
            "justify_items": null,
            "grid_row": null,
            "max_height": null,
            "align_content": null,
            "visibility": null,
            "align_self": null,
            "height": null,
            "min_height": null,
            "padding": null,
            "grid_auto_rows": null,
            "grid_gap": null,
            "max_width": null,
            "order": null,
            "_view_module_version": "1.2.0",
            "grid_template_areas": null,
            "object_position": null,
            "object_fit": null,
            "grid_auto_columns": null,
            "margin": null,
            "display": null,
            "left": null
          }
        },
        "1b860210c07843c19f322328f45aadf9": {
          "model_module": "@jupyter-widgets/controls",
          "model_name": "HBoxModel",
          "state": {
            "_view_name": "HBoxView",
            "_dom_classes": [],
            "_model_name": "HBoxModel",
            "_view_module": "@jupyter-widgets/controls",
            "_model_module_version": "1.5.0",
            "_view_count": null,
            "_view_module_version": "1.5.0",
            "box_style": "",
            "layout": "IPY_MODEL_9d7ef8d829f141378368c21ed6bcb3db",
            "_model_module": "@jupyter-widgets/controls",
            "children": [
              "IPY_MODEL_2262e8a35a284f1fb45518635d2a7616",
              "IPY_MODEL_bccf485303c34f6f93c13146f17e1a19"
            ]
          }
        },
        "9d7ef8d829f141378368c21ed6bcb3db": {
          "model_module": "@jupyter-widgets/base",
          "model_name": "LayoutModel",
          "state": {
            "_view_name": "LayoutView",
            "grid_template_rows": null,
            "right": null,
            "justify_content": null,
            "_view_module": "@jupyter-widgets/base",
            "overflow": null,
            "_model_module_version": "1.2.0",
            "_view_count": null,
            "flex_flow": null,
            "width": null,
            "min_width": null,
            "border": null,
            "align_items": null,
            "bottom": null,
            "_model_module": "@jupyter-widgets/base",
            "top": null,
            "grid_column": null,
            "overflow_y": null,
            "overflow_x": null,
            "grid_auto_flow": null,
            "grid_area": null,
            "grid_template_columns": null,
            "flex": null,
            "_model_name": "LayoutModel",
            "justify_items": null,
            "grid_row": null,
            "max_height": null,
            "align_content": null,
            "visibility": null,
            "align_self": null,
            "height": null,
            "min_height": null,
            "padding": null,
            "grid_auto_rows": null,
            "grid_gap": null,
            "max_width": null,
            "order": null,
            "_view_module_version": "1.2.0",
            "grid_template_areas": null,
            "object_position": null,
            "object_fit": null,
            "grid_auto_columns": null,
            "margin": null,
            "display": null,
            "left": null
          }
        },
        "2262e8a35a284f1fb45518635d2a7616": {
          "model_module": "@jupyter-widgets/controls",
          "model_name": "IntProgressModel",
          "state": {
            "_view_name": "ProgressView",
            "style": "IPY_MODEL_f383bc69fbf94807a394909ec7a2c850",
            "_dom_classes": [],
            "description": "epoch 7",
            "_model_name": "IntProgressModel",
            "bar_style": "success",
            "max": 905,
            "_view_module": "@jupyter-widgets/controls",
            "_model_module_version": "1.5.0",
            "value": 905,
            "_view_count": null,
            "_view_module_version": "1.5.0",
            "orientation": "horizontal",
            "min": 0,
            "description_tooltip": null,
            "_model_module": "@jupyter-widgets/controls",
            "layout": "IPY_MODEL_99db07f7b7664f329da8a6546475fd0a"
          }
        },
        "bccf485303c34f6f93c13146f17e1a19": {
          "model_module": "@jupyter-widgets/controls",
          "model_name": "HTMLModel",
          "state": {
            "_view_name": "HTMLView",
            "style": "IPY_MODEL_f322eecff9df49429a8d7a85b831e6df",
            "_dom_classes": [],
            "description": "",
            "_model_name": "HTMLModel",
            "placeholder": "​",
            "_view_module": "@jupyter-widgets/controls",
            "_model_module_version": "1.5.0",
            "value": "100% 905/905 [00:54&lt;00:00, 16.76it/s, loss=0.09923]",
            "_view_count": null,
            "_view_module_version": "1.5.0",
            "description_tooltip": null,
            "_model_module": "@jupyter-widgets/controls",
            "layout": "IPY_MODEL_8b061ef4687e4c43a36be54d8d37b470"
          }
        },
        "f383bc69fbf94807a394909ec7a2c850": {
          "model_module": "@jupyter-widgets/controls",
          "model_name": "ProgressStyleModel",
          "state": {
            "_view_name": "StyleView",
            "_model_name": "ProgressStyleModel",
            "description_width": "initial",
            "_view_module": "@jupyter-widgets/base",
            "_model_module_version": "1.5.0",
            "_view_count": null,
            "_view_module_version": "1.2.0",
            "bar_color": null,
            "_model_module": "@jupyter-widgets/controls"
          }
        },
        "99db07f7b7664f329da8a6546475fd0a": {
          "model_module": "@jupyter-widgets/base",
          "model_name": "LayoutModel",
          "state": {
            "_view_name": "LayoutView",
            "grid_template_rows": null,
            "right": null,
            "justify_content": null,
            "_view_module": "@jupyter-widgets/base",
            "overflow": null,
            "_model_module_version": "1.2.0",
            "_view_count": null,
            "flex_flow": null,
            "width": null,
            "min_width": null,
            "border": null,
            "align_items": null,
            "bottom": null,
            "_model_module": "@jupyter-widgets/base",
            "top": null,
            "grid_column": null,
            "overflow_y": null,
            "overflow_x": null,
            "grid_auto_flow": null,
            "grid_area": null,
            "grid_template_columns": null,
            "flex": null,
            "_model_name": "LayoutModel",
            "justify_items": null,
            "grid_row": null,
            "max_height": null,
            "align_content": null,
            "visibility": null,
            "align_self": null,
            "height": null,
            "min_height": null,
            "padding": null,
            "grid_auto_rows": null,
            "grid_gap": null,
            "max_width": null,
            "order": null,
            "_view_module_version": "1.2.0",
            "grid_template_areas": null,
            "object_position": null,
            "object_fit": null,
            "grid_auto_columns": null,
            "margin": null,
            "display": null,
            "left": null
          }
        },
        "f322eecff9df49429a8d7a85b831e6df": {
          "model_module": "@jupyter-widgets/controls",
          "model_name": "DescriptionStyleModel",
          "state": {
            "_view_name": "StyleView",
            "_model_name": "DescriptionStyleModel",
            "description_width": "",
            "_view_module": "@jupyter-widgets/base",
            "_model_module_version": "1.5.0",
            "_view_count": null,
            "_view_module_version": "1.2.0",
            "_model_module": "@jupyter-widgets/controls"
          }
        },
        "8b061ef4687e4c43a36be54d8d37b470": {
          "model_module": "@jupyter-widgets/base",
          "model_name": "LayoutModel",
          "state": {
            "_view_name": "LayoutView",
            "grid_template_rows": null,
            "right": null,
            "justify_content": null,
            "_view_module": "@jupyter-widgets/base",
            "overflow": null,
            "_model_module_version": "1.2.0",
            "_view_count": null,
            "flex_flow": null,
            "width": null,
            "min_width": null,
            "border": null,
            "align_items": null,
            "bottom": null,
            "_model_module": "@jupyter-widgets/base",
            "top": null,
            "grid_column": null,
            "overflow_y": null,
            "overflow_x": null,
            "grid_auto_flow": null,
            "grid_area": null,
            "grid_template_columns": null,
            "flex": null,
            "_model_name": "LayoutModel",
            "justify_items": null,
            "grid_row": null,
            "max_height": null,
            "align_content": null,
            "visibility": null,
            "align_self": null,
            "height": null,
            "min_height": null,
            "padding": null,
            "grid_auto_rows": null,
            "grid_gap": null,
            "max_width": null,
            "order": null,
            "_view_module_version": "1.2.0",
            "grid_template_areas": null,
            "object_position": null,
            "object_fit": null,
            "grid_auto_columns": null,
            "margin": null,
            "display": null,
            "left": null
          }
        },
        "42919acc48da450ea1059fd47a80b4f8": {
          "model_module": "@jupyter-widgets/controls",
          "model_name": "HBoxModel",
          "state": {
            "_view_name": "HBoxView",
            "_dom_classes": [],
            "_model_name": "HBoxModel",
            "_view_module": "@jupyter-widgets/controls",
            "_model_module_version": "1.5.0",
            "_view_count": null,
            "_view_module_version": "1.5.0",
            "box_style": "",
            "layout": "IPY_MODEL_a7e21f8cdff84ae9a2ee2a36c3c05a9f",
            "_model_module": "@jupyter-widgets/controls",
            "children": [
              "IPY_MODEL_9d366372a92e45fe8059b081246d1e45",
              "IPY_MODEL_acf9f432ae4e4e2fa370b961173957a0"
            ]
          }
        },
        "a7e21f8cdff84ae9a2ee2a36c3c05a9f": {
          "model_module": "@jupyter-widgets/base",
          "model_name": "LayoutModel",
          "state": {
            "_view_name": "LayoutView",
            "grid_template_rows": null,
            "right": null,
            "justify_content": null,
            "_view_module": "@jupyter-widgets/base",
            "overflow": null,
            "_model_module_version": "1.2.0",
            "_view_count": null,
            "flex_flow": null,
            "width": null,
            "min_width": null,
            "border": null,
            "align_items": null,
            "bottom": null,
            "_model_module": "@jupyter-widgets/base",
            "top": null,
            "grid_column": null,
            "overflow_y": null,
            "overflow_x": null,
            "grid_auto_flow": null,
            "grid_area": null,
            "grid_template_columns": null,
            "flex": null,
            "_model_name": "LayoutModel",
            "justify_items": null,
            "grid_row": null,
            "max_height": null,
            "align_content": null,
            "visibility": null,
            "align_self": null,
            "height": null,
            "min_height": null,
            "padding": null,
            "grid_auto_rows": null,
            "grid_gap": null,
            "max_width": null,
            "order": null,
            "_view_module_version": "1.2.0",
            "grid_template_areas": null,
            "object_position": null,
            "object_fit": null,
            "grid_auto_columns": null,
            "margin": null,
            "display": null,
            "left": null
          }
        },
        "9d366372a92e45fe8059b081246d1e45": {
          "model_module": "@jupyter-widgets/controls",
          "model_name": "IntProgressModel",
          "state": {
            "_view_name": "ProgressView",
            "style": "IPY_MODEL_59f7340fd9a946a082df277f1905f5dd",
            "_dom_classes": [],
            "description": "epoch 8",
            "_model_name": "IntProgressModel",
            "bar_style": "success",
            "max": 905,
            "_view_module": "@jupyter-widgets/controls",
            "_model_module_version": "1.5.0",
            "value": 905,
            "_view_count": null,
            "_view_module_version": "1.5.0",
            "orientation": "horizontal",
            "min": 0,
            "description_tooltip": null,
            "_model_module": "@jupyter-widgets/controls",
            "layout": "IPY_MODEL_4f90aa7500d04536bf7bd924b2027a7a"
          }
        },
        "acf9f432ae4e4e2fa370b961173957a0": {
          "model_module": "@jupyter-widgets/controls",
          "model_name": "HTMLModel",
          "state": {
            "_view_name": "HTMLView",
            "style": "IPY_MODEL_82055683dcf84e66b432bc361a25a373",
            "_dom_classes": [],
            "description": "",
            "_model_name": "HTMLModel",
            "placeholder": "​",
            "_view_module": "@jupyter-widgets/controls",
            "_model_module_version": "1.5.0",
            "value": "100% 905/905 [00:54&lt;00:00, 16.67it/s, loss=0.08730]",
            "_view_count": null,
            "_view_module_version": "1.5.0",
            "description_tooltip": null,
            "_model_module": "@jupyter-widgets/controls",
            "layout": "IPY_MODEL_c9cd487dfacc4c5a85f24457d8e33fc9"
          }
        },
        "59f7340fd9a946a082df277f1905f5dd": {
          "model_module": "@jupyter-widgets/controls",
          "model_name": "ProgressStyleModel",
          "state": {
            "_view_name": "StyleView",
            "_model_name": "ProgressStyleModel",
            "description_width": "initial",
            "_view_module": "@jupyter-widgets/base",
            "_model_module_version": "1.5.0",
            "_view_count": null,
            "_view_module_version": "1.2.0",
            "bar_color": null,
            "_model_module": "@jupyter-widgets/controls"
          }
        },
        "4f90aa7500d04536bf7bd924b2027a7a": {
          "model_module": "@jupyter-widgets/base",
          "model_name": "LayoutModel",
          "state": {
            "_view_name": "LayoutView",
            "grid_template_rows": null,
            "right": null,
            "justify_content": null,
            "_view_module": "@jupyter-widgets/base",
            "overflow": null,
            "_model_module_version": "1.2.0",
            "_view_count": null,
            "flex_flow": null,
            "width": null,
            "min_width": null,
            "border": null,
            "align_items": null,
            "bottom": null,
            "_model_module": "@jupyter-widgets/base",
            "top": null,
            "grid_column": null,
            "overflow_y": null,
            "overflow_x": null,
            "grid_auto_flow": null,
            "grid_area": null,
            "grid_template_columns": null,
            "flex": null,
            "_model_name": "LayoutModel",
            "justify_items": null,
            "grid_row": null,
            "max_height": null,
            "align_content": null,
            "visibility": null,
            "align_self": null,
            "height": null,
            "min_height": null,
            "padding": null,
            "grid_auto_rows": null,
            "grid_gap": null,
            "max_width": null,
            "order": null,
            "_view_module_version": "1.2.0",
            "grid_template_areas": null,
            "object_position": null,
            "object_fit": null,
            "grid_auto_columns": null,
            "margin": null,
            "display": null,
            "left": null
          }
        },
        "82055683dcf84e66b432bc361a25a373": {
          "model_module": "@jupyter-widgets/controls",
          "model_name": "DescriptionStyleModel",
          "state": {
            "_view_name": "StyleView",
            "_model_name": "DescriptionStyleModel",
            "description_width": "",
            "_view_module": "@jupyter-widgets/base",
            "_model_module_version": "1.5.0",
            "_view_count": null,
            "_view_module_version": "1.2.0",
            "_model_module": "@jupyter-widgets/controls"
          }
        },
        "c9cd487dfacc4c5a85f24457d8e33fc9": {
          "model_module": "@jupyter-widgets/base",
          "model_name": "LayoutModel",
          "state": {
            "_view_name": "LayoutView",
            "grid_template_rows": null,
            "right": null,
            "justify_content": null,
            "_view_module": "@jupyter-widgets/base",
            "overflow": null,
            "_model_module_version": "1.2.0",
            "_view_count": null,
            "flex_flow": null,
            "width": null,
            "min_width": null,
            "border": null,
            "align_items": null,
            "bottom": null,
            "_model_module": "@jupyter-widgets/base",
            "top": null,
            "grid_column": null,
            "overflow_y": null,
            "overflow_x": null,
            "grid_auto_flow": null,
            "grid_area": null,
            "grid_template_columns": null,
            "flex": null,
            "_model_name": "LayoutModel",
            "justify_items": null,
            "grid_row": null,
            "max_height": null,
            "align_content": null,
            "visibility": null,
            "align_self": null,
            "height": null,
            "min_height": null,
            "padding": null,
            "grid_auto_rows": null,
            "grid_gap": null,
            "max_width": null,
            "order": null,
            "_view_module_version": "1.2.0",
            "grid_template_areas": null,
            "object_position": null,
            "object_fit": null,
            "grid_auto_columns": null,
            "margin": null,
            "display": null,
            "left": null
          }
        },
        "7b42c17a95a24911ba8a091a7d69065a": {
          "model_module": "@jupyter-widgets/controls",
          "model_name": "HBoxModel",
          "state": {
            "_view_name": "HBoxView",
            "_dom_classes": [],
            "_model_name": "HBoxModel",
            "_view_module": "@jupyter-widgets/controls",
            "_model_module_version": "1.5.0",
            "_view_count": null,
            "_view_module_version": "1.5.0",
            "box_style": "",
            "layout": "IPY_MODEL_6ceb3cc3acb34eab8d7f0187f18799f0",
            "_model_module": "@jupyter-widgets/controls",
            "children": [
              "IPY_MODEL_dace30cd83ef41039c0acc09e4f78619",
              "IPY_MODEL_f668bb2dc9b346f1b91f1187e745ab3c"
            ]
          }
        },
        "6ceb3cc3acb34eab8d7f0187f18799f0": {
          "model_module": "@jupyter-widgets/base",
          "model_name": "LayoutModel",
          "state": {
            "_view_name": "LayoutView",
            "grid_template_rows": null,
            "right": null,
            "justify_content": null,
            "_view_module": "@jupyter-widgets/base",
            "overflow": null,
            "_model_module_version": "1.2.0",
            "_view_count": null,
            "flex_flow": null,
            "width": null,
            "min_width": null,
            "border": null,
            "align_items": null,
            "bottom": null,
            "_model_module": "@jupyter-widgets/base",
            "top": null,
            "grid_column": null,
            "overflow_y": null,
            "overflow_x": null,
            "grid_auto_flow": null,
            "grid_area": null,
            "grid_template_columns": null,
            "flex": null,
            "_model_name": "LayoutModel",
            "justify_items": null,
            "grid_row": null,
            "max_height": null,
            "align_content": null,
            "visibility": null,
            "align_self": null,
            "height": null,
            "min_height": null,
            "padding": null,
            "grid_auto_rows": null,
            "grid_gap": null,
            "max_width": null,
            "order": null,
            "_view_module_version": "1.2.0",
            "grid_template_areas": null,
            "object_position": null,
            "object_fit": null,
            "grid_auto_columns": null,
            "margin": null,
            "display": null,
            "left": null
          }
        },
        "dace30cd83ef41039c0acc09e4f78619": {
          "model_module": "@jupyter-widgets/controls",
          "model_name": "IntProgressModel",
          "state": {
            "_view_name": "ProgressView",
            "style": "IPY_MODEL_02a8ffdf7315481787edd21afad87f34",
            "_dom_classes": [],
            "description": "epoch 9",
            "_model_name": "IntProgressModel",
            "bar_style": "success",
            "max": 905,
            "_view_module": "@jupyter-widgets/controls",
            "_model_module_version": "1.5.0",
            "value": 905,
            "_view_count": null,
            "_view_module_version": "1.5.0",
            "orientation": "horizontal",
            "min": 0,
            "description_tooltip": null,
            "_model_module": "@jupyter-widgets/controls",
            "layout": "IPY_MODEL_663c562fdc0d41558c37699c20c87b73"
          }
        },
        "f668bb2dc9b346f1b91f1187e745ab3c": {
          "model_module": "@jupyter-widgets/controls",
          "model_name": "HTMLModel",
          "state": {
            "_view_name": "HTMLView",
            "style": "IPY_MODEL_c2dd852360a3485eb01a75c311b868ae",
            "_dom_classes": [],
            "description": "",
            "_model_name": "HTMLModel",
            "placeholder": "​",
            "_view_module": "@jupyter-widgets/controls",
            "_model_module_version": "1.5.0",
            "value": "100% 905/905 [00:54&lt;00:00, 16.68it/s, loss=0.07674]",
            "_view_count": null,
            "_view_module_version": "1.5.0",
            "description_tooltip": null,
            "_model_module": "@jupyter-widgets/controls",
            "layout": "IPY_MODEL_2175ad5d7d82434c8fb6e0f696028f37"
          }
        },
        "02a8ffdf7315481787edd21afad87f34": {
          "model_module": "@jupyter-widgets/controls",
          "model_name": "ProgressStyleModel",
          "state": {
            "_view_name": "StyleView",
            "_model_name": "ProgressStyleModel",
            "description_width": "initial",
            "_view_module": "@jupyter-widgets/base",
            "_model_module_version": "1.5.0",
            "_view_count": null,
            "_view_module_version": "1.2.0",
            "bar_color": null,
            "_model_module": "@jupyter-widgets/controls"
          }
        },
        "663c562fdc0d41558c37699c20c87b73": {
          "model_module": "@jupyter-widgets/base",
          "model_name": "LayoutModel",
          "state": {
            "_view_name": "LayoutView",
            "grid_template_rows": null,
            "right": null,
            "justify_content": null,
            "_view_module": "@jupyter-widgets/base",
            "overflow": null,
            "_model_module_version": "1.2.0",
            "_view_count": null,
            "flex_flow": null,
            "width": null,
            "min_width": null,
            "border": null,
            "align_items": null,
            "bottom": null,
            "_model_module": "@jupyter-widgets/base",
            "top": null,
            "grid_column": null,
            "overflow_y": null,
            "overflow_x": null,
            "grid_auto_flow": null,
            "grid_area": null,
            "grid_template_columns": null,
            "flex": null,
            "_model_name": "LayoutModel",
            "justify_items": null,
            "grid_row": null,
            "max_height": null,
            "align_content": null,
            "visibility": null,
            "align_self": null,
            "height": null,
            "min_height": null,
            "padding": null,
            "grid_auto_rows": null,
            "grid_gap": null,
            "max_width": null,
            "order": null,
            "_view_module_version": "1.2.0",
            "grid_template_areas": null,
            "object_position": null,
            "object_fit": null,
            "grid_auto_columns": null,
            "margin": null,
            "display": null,
            "left": null
          }
        },
        "c2dd852360a3485eb01a75c311b868ae": {
          "model_module": "@jupyter-widgets/controls",
          "model_name": "DescriptionStyleModel",
          "state": {
            "_view_name": "StyleView",
            "_model_name": "DescriptionStyleModel",
            "description_width": "",
            "_view_module": "@jupyter-widgets/base",
            "_model_module_version": "1.5.0",
            "_view_count": null,
            "_view_module_version": "1.2.0",
            "_model_module": "@jupyter-widgets/controls"
          }
        },
        "2175ad5d7d82434c8fb6e0f696028f37": {
          "model_module": "@jupyter-widgets/base",
          "model_name": "LayoutModel",
          "state": {
            "_view_name": "LayoutView",
            "grid_template_rows": null,
            "right": null,
            "justify_content": null,
            "_view_module": "@jupyter-widgets/base",
            "overflow": null,
            "_model_module_version": "1.2.0",
            "_view_count": null,
            "flex_flow": null,
            "width": null,
            "min_width": null,
            "border": null,
            "align_items": null,
            "bottom": null,
            "_model_module": "@jupyter-widgets/base",
            "top": null,
            "grid_column": null,
            "overflow_y": null,
            "overflow_x": null,
            "grid_auto_flow": null,
            "grid_area": null,
            "grid_template_columns": null,
            "flex": null,
            "_model_name": "LayoutModel",
            "justify_items": null,
            "grid_row": null,
            "max_height": null,
            "align_content": null,
            "visibility": null,
            "align_self": null,
            "height": null,
            "min_height": null,
            "padding": null,
            "grid_auto_rows": null,
            "grid_gap": null,
            "max_width": null,
            "order": null,
            "_view_module_version": "1.2.0",
            "grid_template_areas": null,
            "object_position": null,
            "object_fit": null,
            "grid_auto_columns": null,
            "margin": null,
            "display": null,
            "left": null
          }
        }
      }
    }
  },
  "cells": [
    {
      "cell_type": "markdown",
      "metadata": {
        "id": "_8_9PlOmywgx",
        "colab_type": "text"
      },
      "source": [
        "# Assignment 6\n",
        "\n",
        "[3 points] Delelop language model, which generates texts from wikipedia.   \n",
        "Use WikiText-2 dataset, also available in `torchtext.datasets`.  \n",
        "Use `sentencepiece` or `tokenizers` library for text tokenization. Pay attention to vocab size, probably subword tokens are better.    \n",
        "Your model should be autogressive RNN.  \n",
        "[1 point] Plot train and validation loss depending on the number of iterations of gradient decent.  \n",
        "[1 point] Try to use together (`sentencepiece` or `tokenizers`), `torchtext.datasets`, and `torchtext.data.BPTTIterator`  \n",
        "\n",
        "<img src=\"https://github.com/thedenaas/hse_seminars/blob/master/2019/seminar_9/images/lm.jpg?raw=1\" style=\"height:300px\">\n",
        "\n",
        "Text generation should be terminated when either max length is reached or terminal symbol is generated.  \n",
        "Explore several inference techniques:\n",
        "1. [1 point] Argmax\n",
        "1. [1 point] Beamsearch\n",
        "1. [1 point] Sampling from probabilty distribution with temperature\n",
        "1. [1 point] Nucleus sampling\n",
        "1. [1 point] Top-k sampling\n",
        "\n",
        "\n",
        "For every method you should provide implemented code and generated examples. Each example must contain at least 10 words (not subword tokens).\n",
        "\n",
        "Readings:\n",
        "https://arxiv.org/abs/1904.09751"
      ]
    },
    {
      "cell_type": "code",
      "metadata": {
        "id": "HpdjhMlfDptT",
        "colab_type": "code",
        "outputId": "4eafa741-3487-4e67-f734-40ad16e700ef",
        "colab": {
          "base_uri": "https://localhost:8080/",
          "height": 54
        }
      },
      "source": [
        "!pip install tokenizers"
      ],
      "execution_count": 1,
      "outputs": [
        {
          "output_type": "stream",
          "text": [
            "Requirement already satisfied: tokenizers in /usr/local/lib/python3.6/dist-packages (0.2.1)\n"
          ],
          "name": "stdout"
        }
      ]
    },
    {
      "cell_type": "code",
      "metadata": {
        "id": "4DK91B8O7WCF",
        "colab_type": "code",
        "colab": {}
      },
      "source": [
        "import numpy as np\n",
        "import pandas as pd\n",
        "import matplotlib.pyplot as plt\n",
        "import re\n",
        "from tqdm import tqdm_notebook\n",
        "\n",
        "import torch\n",
        "import torch.nn as nn\n",
        "import torch.optim as optim\n",
        "\n",
        "from torchtext.datasets import WikiText2\n",
        "from torchtext import data\n",
        "\n",
        "from tokenizers import SentencePieceBPETokenizer\n",
        "\n",
        "device = torch.device(\"cuda\" if torch.cuda.is_available() else \"cpu\")"
      ],
      "execution_count": 0,
      "outputs": []
    },
    {
      "cell_type": "code",
      "metadata": {
        "id": "uGTB7f1l0AKc",
        "colab_type": "code",
        "outputId": "5efd0282-326f-4575-beea-73a1eb7513c9",
        "colab": {
          "base_uri": "https://localhost:8080/",
          "height": 34
        }
      },
      "source": [
        "BATCH_SIZE = 64\n",
        "MAX_SEQ_LENGTH = 35\n",
        "device"
      ],
      "execution_count": 3,
      "outputs": [
        {
          "output_type": "execute_result",
          "data": {
            "text/plain": [
              "device(type='cuda')"
            ]
          },
          "metadata": {
            "tags": []
          },
          "execution_count": 3
        }
      ]
    },
    {
      "cell_type": "code",
      "metadata": {
        "id": "TBlTWymP_1ok",
        "colab_type": "code",
        "outputId": "7d2d20e5-b719-42e2-e7d3-fcfc2acb18c0",
        "colab": {
          "base_uri": "https://localhost:8080/",
          "height": 255
        }
      },
      "source": [
        "!wget https://s3.amazonaws.com/research.metamind.io/wikitext/wikitext-2-v1.zip\n",
        "!unzip 'wikitext-2-v1.zip'"
      ],
      "execution_count": 4,
      "outputs": [
        {
          "output_type": "stream",
          "text": [
            "--2020-02-02 19:34:20--  https://s3.amazonaws.com/research.metamind.io/wikitext/wikitext-2-v1.zip\n",
            "Resolving s3.amazonaws.com (s3.amazonaws.com)... 52.217.15.30\n",
            "Connecting to s3.amazonaws.com (s3.amazonaws.com)|52.217.15.30|:443... connected.\n",
            "HTTP request sent, awaiting response... 200 OK\n",
            "Length: 4475746 (4.3M) [application/zip]\n",
            "Saving to: ‘wikitext-2-v1.zip.2’\n",
            "\n",
            "wikitext-2-v1.zip.2 100%[===================>]   4.27M  2.45MB/s    in 1.7s    \n",
            "\n",
            "2020-02-02 19:34:23 (2.45 MB/s) - ‘wikitext-2-v1.zip.2’ saved [4475746/4475746]\n",
            "\n",
            "Archive:  wikitext-2-v1.zip\n",
            "replace wikitext-2/wiki.test.tokens? [y]es, [n]o, [A]ll, [N]one, [r]ename: N\n"
          ],
          "name": "stdout"
        }
      ]
    },
    {
      "cell_type": "markdown",
      "metadata": {
        "id": "cYREGKk86nmw",
        "colab_type": "text"
      },
      "source": [
        "# Data preprocessing and loading"
      ]
    },
    {
      "cell_type": "markdown",
      "metadata": {
        "id": "zcywr2nR6wTO",
        "colab_type": "text"
      },
      "source": [
        "First, we need to train sentencepiece tokenizer on our data. \n",
        "\n",
        "Based on: http://mlexplained.com/2018/02/15/language-modeling-tutorial-in-torchtext-practical-torchtext-part-2/"
      ]
    },
    {
      "cell_type": "code",
      "metadata": {
        "id": "qlAabHL66sqE",
        "colab_type": "code",
        "colab": {}
      },
      "source": [
        "def open_file(name):\n",
        "    with open(name, 'r') as file:\n",
        "        text = file.read()\n",
        "    return text\n",
        "\n",
        "def save_file(text, name):\n",
        "    with open('/content/{}.txt'.format(name), 'w') as file:\n",
        "        file.write(text)\n",
        "\n",
        "def clean_data(text):\n",
        "    text = re.sub(r'\\n', ' ', text)\n",
        "    text = re.sub(r'&[a-z]{0,7};', ' ', text)\n",
        "    text = re.sub(r'\\s{2,10}', ' ', text)\n",
        "    text = re.sub(r'\\s{2,10}', ' ', text)\n",
        "    text = re.sub(r'\\\\\\\\x\\d{1,4}', '', text)\n",
        "    text = re.sub(r'=\\s.{3,15}=\\s', '<start>', text)\n",
        "    text = re.sub(r'\\s@', ' ', text)\n",
        "    text = re.sub(r'@\\s', ' ', text)\n",
        "    return text\n",
        "\n",
        "def special_tokens(text):\n",
        "    \"\"\"\n",
        "    Adds <eos> token if eos symbol occures.\n",
        "    \"\"\"\n",
        "    eos = [' .', ' !', ' ?', ' ? !', ' \\'n']\n",
        "    eos_token = '<eos>'\n",
        "    for element in eos:\n",
        "        text = text.replace(element, ' ' + eos_token + ' ')\n",
        "    text = re.sub(r'<eos>\\s{2,10}<eos>', '<eos>', text)\n",
        "    #text = re.sub(r'<eos>', '<eos> <start>', text)\n",
        "    while '  ' in text:\n",
        "        text = re.sub(r'\\s{2,10}', ' ', text)\n",
        "    return text"
      ],
      "execution_count": 0,
      "outputs": []
    },
    {
      "cell_type": "code",
      "metadata": {
        "id": "OQPUorrt67cz",
        "colab_type": "code",
        "colab": {}
      },
      "source": [
        "wiki_train = open_file('/content/wikitext-2/wiki.train.tokens')\n",
        "wiki_train = clean_data(wiki_train)\n",
        "wiki_train = special_tokens(wiki_train)\n",
        "save_file(wiki_train, 'wiki_train')\n",
        "\n",
        "wiki_valid = open_file('/content/wikitext-2/wiki.valid.tokens')\n",
        "wiki_valid = clean_data(wiki_valid)\n",
        "wiki_valid = special_tokens(wiki_valid)\n",
        "save_file(wiki_train, 'wiki_valid')"
      ],
      "execution_count": 0,
      "outputs": []
    },
    {
      "cell_type": "markdown",
      "metadata": {
        "id": "OvNnbcKd5AXY",
        "colab_type": "text"
      },
      "source": [
        "No test data used to train tokenizer and to build vocab. "
      ]
    },
    {
      "cell_type": "code",
      "metadata": {
        "id": "TU8U85tB7NEG",
        "colab_type": "code",
        "outputId": "86f0b779-71d5-4821-ee75-1d77dec576f9",
        "colab": {
          "base_uri": "https://localhost:8080/",
          "height": 54
        }
      },
      "source": [
        "tokenizer = SentencePieceBPETokenizer()\n",
        "tokenizer.train(['/content/wiki_train.txt', '/content/wiki_valid.txt'], special_tokens=['<eos>', '<unk>', '<start>'], vocab_size=30000)\n",
        "tokenizer"
      ],
      "execution_count": 7,
      "outputs": [
        {
          "output_type": "execute_result",
          "data": {
            "text/plain": [
              "Tokenizer(vocabulary_size=30000, model=SentencePieceBPE, unk_token=<unk>, replacement=▁, add_prefix_space=True, dropout=None)"
            ]
          },
          "metadata": {
            "tags": []
          },
          "execution_count": 7
        }
      ]
    },
    {
      "cell_type": "code",
      "metadata": {
        "id": "S9LAAmDj8GA7",
        "colab_type": "code",
        "colab": {}
      },
      "source": [
        "def tokenize(text, tokenizer=tokenizer):\n",
        "    text = clean_data(text)\n",
        "    text = special_tokens(text)\n",
        "    return tokenizer.encode(text).tokens"
      ],
      "execution_count": 0,
      "outputs": []
    },
    {
      "cell_type": "code",
      "metadata": {
        "id": "XuOi1ZIz8G1V",
        "colab_type": "code",
        "outputId": "438b7f41-49c3-479f-ae01-739b3195f64c",
        "colab": {
          "base_uri": "https://localhost:8080/",
          "height": 50
        }
      },
      "source": [
        "TEXT = data.Field(sequential=True, include_lengths=False, batch_first=True, tokenize=tokenize,lower=True, pad_first=True)\n",
        "train, valid, test = WikiText2.splits(TEXT)\n",
        "\n",
        "TEXT.build_vocab(train, valid, unk_init = torch.Tensor.normal_, vectors='glove.6B.200d')\n",
        "vocab = TEXT.vocab\n",
        "\n",
        "print('Vocab size:', len(TEXT.vocab.itos))\n",
        "TEXT.vocab.itos[:10]"
      ],
      "execution_count": 9,
      "outputs": [
        {
          "output_type": "stream",
          "text": [
            "Vocab size: 22773\n"
          ],
          "name": "stdout"
        },
        {
          "output_type": "execute_result",
          "data": {
            "text/plain": [
              "['<unk>', '<pad>', '▁', '▁the', '<eos>', '▁,', '▁of', '▁and', '▁in', '▁to']"
            ]
          },
          "metadata": {
            "tags": []
          },
          "execution_count": 9
        }
      ]
    },
    {
      "cell_type": "code",
      "metadata": {
        "id": "laUe2SJJ8pdh",
        "colab_type": "code",
        "outputId": "c7c17920-6277-4627-9e75-d3727a679997",
        "colab": {
          "base_uri": "https://localhost:8080/",
          "height": 34
        }
      },
      "source": [
        "train_iterator, valid_iterator, test_iterator = data.BPTTIterator.splits(\n",
        "    (train, valid, test),\n",
        "    batch_size=BATCH_SIZE,\n",
        "    bptt_len=40,\n",
        "    device=device,\n",
        "    repeat=False)\n",
        "\n",
        "b = next(iter(train_iterator)); vars(b).keys()"
      ],
      "execution_count": 10,
      "outputs": [
        {
          "output_type": "execute_result",
          "data": {
            "text/plain": [
              "dict_keys(['batch_size', 'dataset', 'fields', 'text', 'target'])"
            ]
          },
          "metadata": {
            "tags": []
          },
          "execution_count": 10
        }
      ]
    },
    {
      "cell_type": "markdown",
      "metadata": {
        "id": "xIPFUbBgDABN",
        "colab_type": "text"
      },
      "source": [
        "# Model"
      ]
    },
    {
      "cell_type": "code",
      "metadata": {
        "id": "1yq0hNtDC1KW",
        "colab_type": "code",
        "colab": {}
      },
      "source": [
        "class MyModel(nn.Module):\n",
        "    \n",
        "    def __init__(self, vocab_size, embed_size, hidden_size):\n",
        "        super(MyModel, self).__init__()\n",
        "        self.embedding = nn.Embedding(vocab_size, embed_size)\n",
        "        \n",
        "        self.rnn = nn.LSTM(input_size=embed_size,\n",
        "                           hidden_size=hidden_size,\n",
        "                           bidirectional=True,\n",
        "                           batch_first=True,\n",
        "                          )\n",
        "        \n",
        "        self.fc = nn.Linear(hidden_size * 2, vocab_size)\n",
        "        \n",
        "        self.init_weights()\n",
        "        \n",
        "    def init_weights(self):\n",
        "        nn.init.uniform_(self.embedding.weight)\n",
        "        nn.init.xavier_uniform_(self.fc.weight)\n",
        "        nn.init.zeros_(self.fc.bias)\n",
        "        \n",
        "    def forward(self, batch):\n",
        "\n",
        "        #print('batch.text', batch.text.size())\n",
        "        \n",
        "        x = batch.text.T if hasattr(batch, 'text') else batch # because later we pass Tensor here\n",
        "\n",
        "        #print('transposed batch.text size', batch.text.T.size())\n",
        "        \n",
        "        x = self.embedding(x)\n",
        "        #print('X.SIZE', x.size())            \n",
        "        x, _ = self.rnn(x)\n",
        "        x = self.fc(x)\n",
        "\n",
        "        return x.transpose(1,2)"
      ],
      "execution_count": 0,
      "outputs": []
    },
    {
      "cell_type": "code",
      "metadata": {
        "id": "dSuRjcyIwvvS",
        "colab_type": "code",
        "colab": {}
      },
      "source": [
        "def _train_epoch(model, iterator, optimizer, criterion, curr_epoch):\n",
        "\n",
        "    model.train()\n",
        "\n",
        "    running_loss = 0\n",
        "    losses = []\n",
        "\n",
        "    n_batches = len(iterator)\n",
        "    iterator = tqdm_notebook(iterator, total=n_batches, desc='epoch %d' % (curr_epoch), leave=True)\n",
        "\n",
        "    for i, batch in enumerate(iterator):\n",
        "        optimizer.zero_grad()\n",
        "\n",
        "        pred = model(batch)\n",
        "        #print('pred.size', pred.size())\n",
        "        #print('batch.target.size()', batch.target.size())\n",
        "        #print('batch.target.T', batch.target.T.size())\n",
        "        loss = criterion(pred, batch.target.T)\n",
        "        losses.append(loss.item())\n",
        "        loss.backward()\n",
        "        optimizer.step()\n",
        "\n",
        "        curr_loss = loss.data.cpu().detach().item()\n",
        "        \n",
        "        loss_smoothing = i / (i+1)\n",
        "        running_loss = loss_smoothing * running_loss + (1 - loss_smoothing) * curr_loss\n",
        "\n",
        "        iterator.set_postfix(loss='%.5f' % running_loss)\n",
        "\n",
        "    return running_loss, losses\n",
        "\n",
        "def _test_epoch(model, iterator, criterion):\n",
        "    model.eval()\n",
        "    epoch_loss = 0\n",
        "    losses = []\n",
        "\n",
        "    n_batches = len(iterator)\n",
        "    with torch.no_grad():\n",
        "        for batch in iterator:\n",
        "            pred = model(batch)\n",
        "            loss = criterion(pred, batch.target.T)\n",
        "            losses.append(loss.item())\n",
        "            epoch_loss += loss.data.item()\n",
        "\n",
        "    return epoch_loss / n_batches, losses\n",
        "\n",
        "def nn_train(model, train_iterator, valid_iterator, criterion, optimizer, n_epochs=100,\n",
        "          scheduler=None, early_stopping=0):\n",
        "\n",
        "    model = model.to(device)\n",
        "    criterion = criterion.to(device)\n",
        "    \n",
        "    prev_loss = 100500\n",
        "    es_epochs = 0\n",
        "    best_epoch = None\n",
        "    history = pd.DataFrame()\n",
        "\n",
        "    train_losses = []\n",
        "    valid_losses = []\n",
        "\n",
        "    for epoch in range(n_epochs):\n",
        "        train_loss, epoch_tl = _train_epoch(model, train_iterator, optimizer, criterion, epoch)\n",
        "        valid_loss,  epoch_vl = _test_epoch(model, valid_iterator, criterion)\n",
        "        \n",
        "        train_losses.extend(epoch_tl)\n",
        "        valid_losses.extend(epoch_vl)\n",
        "\n",
        "        print('validation loss %.5f' % valid_loss)\n",
        "\n",
        "        record = {'epoch': epoch, 'train_loss': train_loss, 'valid_loss': valid_loss}\n",
        "        history = history.append(record, ignore_index=True)\n",
        "\n",
        "        if early_stopping > 0:\n",
        "            if valid_loss > prev_loss:\n",
        "                es_epochs += 1\n",
        "            else:\n",
        "                es_epochs = 0\n",
        "\n",
        "            if es_epochs >= early_stopping:\n",
        "                best_epoch = history[history.valid_loss == history.valid_loss.min()].iloc[0]\n",
        "                print('Early stopping! best epoch: %d val %.5f' % (best_epoch['epoch'], best_epoch['valid_loss']))\n",
        "                break\n",
        "\n",
        "            prev_loss = min(prev_loss, valid_loss)\n",
        "    return history, train_losses, valid_losses"
      ],
      "execution_count": 0,
      "outputs": []
    },
    {
      "cell_type": "code",
      "metadata": {
        "id": "BxnQgUhTwLEU",
        "colab_type": "code",
        "colab": {}
      },
      "source": [
        "model = MyModel(vocab_size=len(TEXT.vocab.itos),\n",
        "                embed_size=200,\n",
        "                hidden_size=128,\n",
        "               )\n",
        "\n",
        "model.embedding.weight.data.copy_(TEXT.vocab.vectors);\n",
        "\n",
        "optimizer = optim.Adam(model.parameters())\n",
        "# scheduler = optim.lr_scheduler.ReduceLROnPlateau(optimizer, patience=5, verbose=True, cooldown=5)\n",
        "scheduler = optim.lr_scheduler.CosineAnnealingLR(optimizer, T_max=5)\n",
        "\n",
        "# padding does not count into loss\n",
        "criterion = nn.CrossEntropyLoss(ignore_index=1)"
      ],
      "execution_count": 0,
      "outputs": []
    },
    {
      "cell_type": "code",
      "metadata": {
        "id": "-QDjHvLbwuZY",
        "colab_type": "code",
        "outputId": "367c8a3d-091c-4141-e093-a62825d36018",
        "colab": {
          "base_uri": "https://localhost:8080/",
          "height": 673,
          "referenced_widgets": [
            "a509b8a510154448aa47e203afe3e16e",
            "fc69251f5629476d90184b319b98ea4e",
            "772528e1a1eb45199429ab16f0ddd325",
            "6e4e9f735550427cad808fe5c5c5cba3",
            "d9b14b0f6cc845a5b7e460b7d6ab1021",
            "b0c4539280f74c0cb24b7fdcd610b57a",
            "012a8bd168564dba9cc5ca542349a5c8",
            "7b3d3179f38241b5ad1ed885388dfd68",
            "3a57549612af4752ac4338da47ed1c44",
            "f561a569b0614d54a5f6ef8401efd147",
            "88010430154b40fd9a7cf966d307a55b",
            "42eb660ed1c740829f26ce2b2e47a16a",
            "392804e46b334993a16af42971a2f903",
            "c9076c8fed9d4e1aa9d1145ea20a8c70",
            "8144b5535f254f91893898af6913867f",
            "835378c36a644768867b9f87e5e14af2",
            "b844d78b5d0945c6b3c672bf1ee4d3a7",
            "d16ccc2c1d254421996d7b6ada3269be",
            "548dcf09de8849c5b106f7d547f152ce",
            "6815341b36dd42f89beeef933aedf1af",
            "6e8471ed28e046d49818ca789a0656e4",
            "7b0d50be229a44ab892c14fad5b8dc78",
            "b84f19cdec534bdc84103d336d74378c",
            "2e754cc321204dd0adef7eb8f37d3c7b",
            "0c0548c5e26744cb98c57eb333b8ba00",
            "6c03fe8730d44e93beeac4011e340764",
            "668f0d968c7445468b9cab89da8d2fee",
            "a929c565e3af4c13bc16e9f1ad6c7789",
            "a8dc530d3d35493c850eedc92283c595",
            "346ea4a08f3e4842ab07a749a327b0b7",
            "c6145cc3a8c24ddb8fcfd6007f9856da",
            "ea0009bca3554c729e6c5f96d36322b4",
            "27216be6611244e2978db977ca08ea7a",
            "7b35f7d63aee46449f0ba66d9edaa436",
            "53d2d6b43f8743399c1745ca7e4b6c00",
            "9a1b3328690742c6b9ac28d74c4e0413",
            "af0dbf51bb9d4de8ad37bbdc737a8a90",
            "8f9be519bb1c486a83365e989bdc4273",
            "efac525e99b1436e8ce6cd5b3c8b2d3d",
            "b3bfaa3c2ab6455fb63c1157a05bfe5e",
            "be76f989d1084d208310b3a6b39a057a",
            "b9bb1cd1a0754a77baabc64c92271984",
            "13aba7fd5bbd42149915f16f658a232a",
            "08a27e925e0541acab19b02aafe162c5",
            "fbbfb796aef4431cbd54f4c96d6d5cd3",
            "15204704f1874623885d854898cadc13",
            "4c8fbd2551fd41a4ad4e192e703e06d2",
            "5bd39846338343e9ac0dc35a6c394f99",
            "c36c18dad24f4bb78510d03fc82ebce1",
            "e428fbf8035f4a4eaff95ddb6ea3757f",
            "a20f3ecc2e144d16a1ac93fdd436126c",
            "8d4070e6576a410d8ba7cebb0c9b8abc",
            "03d2913e6dac4bc2875c73563353a061",
            "d22b258d88e24298afacd53a94ad40d0",
            "323d341a61a74555afc26ab45e035002",
            "4022cda55ab14b1d8f0c6f22d5ac4761",
            "1b860210c07843c19f322328f45aadf9",
            "9d7ef8d829f141378368c21ed6bcb3db",
            "2262e8a35a284f1fb45518635d2a7616",
            "bccf485303c34f6f93c13146f17e1a19",
            "f383bc69fbf94807a394909ec7a2c850",
            "99db07f7b7664f329da8a6546475fd0a",
            "f322eecff9df49429a8d7a85b831e6df",
            "8b061ef4687e4c43a36be54d8d37b470",
            "42919acc48da450ea1059fd47a80b4f8",
            "a7e21f8cdff84ae9a2ee2a36c3c05a9f",
            "9d366372a92e45fe8059b081246d1e45",
            "acf9f432ae4e4e2fa370b961173957a0",
            "59f7340fd9a946a082df277f1905f5dd",
            "4f90aa7500d04536bf7bd924b2027a7a",
            "82055683dcf84e66b432bc361a25a373",
            "c9cd487dfacc4c5a85f24457d8e33fc9",
            "7b42c17a95a24911ba8a091a7d69065a",
            "6ceb3cc3acb34eab8d7f0187f18799f0",
            "dace30cd83ef41039c0acc09e4f78619",
            "f668bb2dc9b346f1b91f1187e745ab3c",
            "02a8ffdf7315481787edd21afad87f34",
            "663c562fdc0d41558c37699c20c87b73",
            "c2dd852360a3485eb01a75c311b868ae",
            "2175ad5d7d82434c8fb6e0f696028f37"
          ]
        }
      },
      "source": [
        "history, train_losses, valid_losses = nn_train(model, train_iterator, valid_iterator, criterion, optimizer, scheduler=scheduler, \n",
        "        n_epochs=10, early_stopping=2)"
      ],
      "execution_count": 14,
      "outputs": [
        {
          "output_type": "display_data",
          "data": {
            "application/vnd.jupyter.widget-view+json": {
              "model_id": "a509b8a510154448aa47e203afe3e16e",
              "version_minor": 0,
              "version_major": 2
            },
            "text/plain": [
              "HBox(children=(IntProgress(value=0, description='epoch 0', max=905, style=ProgressStyle(description_width='ini…"
            ]
          },
          "metadata": {
            "tags": []
          }
        },
        {
          "output_type": "stream",
          "text": [
            "\n",
            "validation loss 1.83844\n"
          ],
          "name": "stdout"
        },
        {
          "output_type": "display_data",
          "data": {
            "application/vnd.jupyter.widget-view+json": {
              "model_id": "3a57549612af4752ac4338da47ed1c44",
              "version_minor": 0,
              "version_major": 2
            },
            "text/plain": [
              "HBox(children=(IntProgress(value=0, description='epoch 1', max=905, style=ProgressStyle(description_width='ini…"
            ]
          },
          "metadata": {
            "tags": []
          }
        },
        {
          "output_type": "stream",
          "text": [
            "\n",
            "validation loss 0.64746\n"
          ],
          "name": "stdout"
        },
        {
          "output_type": "display_data",
          "data": {
            "application/vnd.jupyter.widget-view+json": {
              "model_id": "b844d78b5d0945c6b3c672bf1ee4d3a7",
              "version_minor": 0,
              "version_major": 2
            },
            "text/plain": [
              "HBox(children=(IntProgress(value=0, description='epoch 2', max=905, style=ProgressStyle(description_width='ini…"
            ]
          },
          "metadata": {
            "tags": []
          }
        },
        {
          "output_type": "stream",
          "text": [
            "\n",
            "validation loss 0.33055\n"
          ],
          "name": "stdout"
        },
        {
          "output_type": "display_data",
          "data": {
            "application/vnd.jupyter.widget-view+json": {
              "model_id": "0c0548c5e26744cb98c57eb333b8ba00",
              "version_minor": 0,
              "version_major": 2
            },
            "text/plain": [
              "HBox(children=(IntProgress(value=0, description='epoch 3', max=905, style=ProgressStyle(description_width='ini…"
            ]
          },
          "metadata": {
            "tags": []
          }
        },
        {
          "output_type": "stream",
          "text": [
            "\n",
            "validation loss 0.23326\n"
          ],
          "name": "stdout"
        },
        {
          "output_type": "display_data",
          "data": {
            "application/vnd.jupyter.widget-view+json": {
              "model_id": "27216be6611244e2978db977ca08ea7a",
              "version_minor": 0,
              "version_major": 2
            },
            "text/plain": [
              "HBox(children=(IntProgress(value=0, description='epoch 4', max=905, style=ProgressStyle(description_width='ini…"
            ]
          },
          "metadata": {
            "tags": []
          }
        },
        {
          "output_type": "stream",
          "text": [
            "\n",
            "validation loss 0.20030\n"
          ],
          "name": "stdout"
        },
        {
          "output_type": "display_data",
          "data": {
            "application/vnd.jupyter.widget-view+json": {
              "model_id": "be76f989d1084d208310b3a6b39a057a",
              "version_minor": 0,
              "version_major": 2
            },
            "text/plain": [
              "HBox(children=(IntProgress(value=0, description='epoch 5', max=905, style=ProgressStyle(description_width='ini…"
            ]
          },
          "metadata": {
            "tags": []
          }
        },
        {
          "output_type": "stream",
          "text": [
            "\n",
            "validation loss 0.18704\n"
          ],
          "name": "stdout"
        },
        {
          "output_type": "display_data",
          "data": {
            "application/vnd.jupyter.widget-view+json": {
              "model_id": "c36c18dad24f4bb78510d03fc82ebce1",
              "version_minor": 0,
              "version_major": 2
            },
            "text/plain": [
              "HBox(children=(IntProgress(value=0, description='epoch 6', max=905, style=ProgressStyle(description_width='ini…"
            ]
          },
          "metadata": {
            "tags": []
          }
        },
        {
          "output_type": "stream",
          "text": [
            "\n",
            "validation loss 0.18092\n"
          ],
          "name": "stdout"
        },
        {
          "output_type": "display_data",
          "data": {
            "application/vnd.jupyter.widget-view+json": {
              "model_id": "1b860210c07843c19f322328f45aadf9",
              "version_minor": 0,
              "version_major": 2
            },
            "text/plain": [
              "HBox(children=(IntProgress(value=0, description='epoch 7', max=905, style=ProgressStyle(description_width='ini…"
            ]
          },
          "metadata": {
            "tags": []
          }
        },
        {
          "output_type": "stream",
          "text": [
            "\n",
            "validation loss 0.17846\n"
          ],
          "name": "stdout"
        },
        {
          "output_type": "display_data",
          "data": {
            "application/vnd.jupyter.widget-view+json": {
              "model_id": "42919acc48da450ea1059fd47a80b4f8",
              "version_minor": 0,
              "version_major": 2
            },
            "text/plain": [
              "HBox(children=(IntProgress(value=0, description='epoch 8', max=905, style=ProgressStyle(description_width='ini…"
            ]
          },
          "metadata": {
            "tags": []
          }
        },
        {
          "output_type": "stream",
          "text": [
            "\n",
            "validation loss 0.17823\n"
          ],
          "name": "stdout"
        },
        {
          "output_type": "display_data",
          "data": {
            "application/vnd.jupyter.widget-view+json": {
              "model_id": "7b42c17a95a24911ba8a091a7d69065a",
              "version_minor": 0,
              "version_major": 2
            },
            "text/plain": [
              "HBox(children=(IntProgress(value=0, description='epoch 9', max=905, style=ProgressStyle(description_width='ini…"
            ]
          },
          "metadata": {
            "tags": []
          }
        },
        {
          "output_type": "stream",
          "text": [
            "\n",
            "validation loss 0.17931\n"
          ],
          "name": "stdout"
        }
      ]
    },
    {
      "cell_type": "code",
      "metadata": {
        "id": "kMuvJK3_A_aJ",
        "colab_type": "code",
        "colab": {}
      },
      "source": [
        "torch.save(model.state_dict(), '/content/model')"
      ],
      "execution_count": 0,
      "outputs": []
    },
    {
      "cell_type": "code",
      "metadata": {
        "id": "nXJsg3U2QWdR",
        "colab_type": "code",
        "outputId": "b1d3416e-fd82-4114-dc19-af002b20dec1",
        "colab": {
          "base_uri": "https://localhost:8080/",
          "height": 343
        }
      },
      "source": [
        "history"
      ],
      "execution_count": 16,
      "outputs": [
        {
          "output_type": "execute_result",
          "data": {
            "text/html": [
              "<div>\n",
              "<style scoped>\n",
              "    .dataframe tbody tr th:only-of-type {\n",
              "        vertical-align: middle;\n",
              "    }\n",
              "\n",
              "    .dataframe tbody tr th {\n",
              "        vertical-align: top;\n",
              "    }\n",
              "\n",
              "    .dataframe thead th {\n",
              "        text-align: right;\n",
              "    }\n",
              "</style>\n",
              "<table border=\"1\" class=\"dataframe\">\n",
              "  <thead>\n",
              "    <tr style=\"text-align: right;\">\n",
              "      <th></th>\n",
              "      <th>epoch</th>\n",
              "      <th>train_loss</th>\n",
              "      <th>valid_loss</th>\n",
              "    </tr>\n",
              "  </thead>\n",
              "  <tbody>\n",
              "    <tr>\n",
              "      <th>0</th>\n",
              "      <td>0.0</td>\n",
              "      <td>3.918144</td>\n",
              "      <td>1.838442</td>\n",
              "    </tr>\n",
              "    <tr>\n",
              "      <th>1</th>\n",
              "      <td>1.0</td>\n",
              "      <td>1.233595</td>\n",
              "      <td>0.647463</td>\n",
              "    </tr>\n",
              "    <tr>\n",
              "      <th>2</th>\n",
              "      <td>2.0</td>\n",
              "      <td>0.459472</td>\n",
              "      <td>0.330551</td>\n",
              "    </tr>\n",
              "    <tr>\n",
              "      <th>3</th>\n",
              "      <td>3.0</td>\n",
              "      <td>0.223512</td>\n",
              "      <td>0.233257</td>\n",
              "    </tr>\n",
              "    <tr>\n",
              "      <th>4</th>\n",
              "      <td>4.0</td>\n",
              "      <td>0.153609</td>\n",
              "      <td>0.200296</td>\n",
              "    </tr>\n",
              "    <tr>\n",
              "      <th>5</th>\n",
              "      <td>5.0</td>\n",
              "      <td>0.127913</td>\n",
              "      <td>0.187044</td>\n",
              "    </tr>\n",
              "    <tr>\n",
              "      <th>6</th>\n",
              "      <td>6.0</td>\n",
              "      <td>0.112364</td>\n",
              "      <td>0.180924</td>\n",
              "    </tr>\n",
              "    <tr>\n",
              "      <th>7</th>\n",
              "      <td>7.0</td>\n",
              "      <td>0.099231</td>\n",
              "      <td>0.178459</td>\n",
              "    </tr>\n",
              "    <tr>\n",
              "      <th>8</th>\n",
              "      <td>8.0</td>\n",
              "      <td>0.087295</td>\n",
              "      <td>0.178232</td>\n",
              "    </tr>\n",
              "    <tr>\n",
              "      <th>9</th>\n",
              "      <td>9.0</td>\n",
              "      <td>0.076741</td>\n",
              "      <td>0.179306</td>\n",
              "    </tr>\n",
              "  </tbody>\n",
              "</table>\n",
              "</div>"
            ],
            "text/plain": [
              "   epoch  train_loss  valid_loss\n",
              "0    0.0    3.918144    1.838442\n",
              "1    1.0    1.233595    0.647463\n",
              "2    2.0    0.459472    0.330551\n",
              "3    3.0    0.223512    0.233257\n",
              "4    4.0    0.153609    0.200296\n",
              "5    5.0    0.127913    0.187044\n",
              "6    6.0    0.112364    0.180924\n",
              "7    7.0    0.099231    0.178459\n",
              "8    8.0    0.087295    0.178232\n",
              "9    9.0    0.076741    0.179306"
            ]
          },
          "metadata": {
            "tags": []
          },
          "execution_count": 16
        }
      ]
    },
    {
      "cell_type": "code",
      "metadata": {
        "id": "hxweudGrfoE6",
        "colab_type": "code",
        "outputId": "f9c85f8f-e6fd-4cae-d147-5cc618c4799f",
        "colab": {
          "base_uri": "https://localhost:8080/",
          "height": 393
        }
      },
      "source": [
        "plt.figure(figsize=(10,6))\n",
        "plt.plot(np.arange(len(history['train_loss'])), history['train_loss'], label='Train')\n",
        "plt.plot(np.arange(len(history['valid_loss'])), history['valid_loss'], label='Valid')\n",
        "plt.xlabel('Epochs', fontsize=15)\n",
        "plt.ylabel('Loss', fontsize=15)\n",
        "plt.legend(fontsize='x-large')\n",
        "plt.show()"
      ],
      "execution_count": 17,
      "outputs": [
        {
          "output_type": "display_data",
          "data": {
            "image/png": "[encoded data removed]",
            "text/plain": [
              "<Figure size 720x432 with 1 Axes>"
            ]
          },
          "metadata": {
            "tags": []
          }
        }
      ]
    },
    {
      "cell_type": "code",
      "metadata": {
        "id": "X_RQB3FEV7gM",
        "colab_type": "code",
        "colab": {}
      },
      "source": [
        "# because of different lengths I make validation_losses more like training losses to plot them in the same scale\n",
        "new_val = [el for el in valid_losses for i in range(10)]"
      ],
      "execution_count": 0,
      "outputs": []
    },
    {
      "cell_type": "code",
      "metadata": {
        "id": "eJwXXcNIMvZP",
        "colab_type": "code",
        "outputId": "1bbc5f4d-9044-4537-dfd9-415e2d7a5a45",
        "colab": {
          "base_uri": "https://localhost:8080/",
          "height": 409
        }
      },
      "source": [
        "plt.figure(figsize=(10,6))\n",
        "plt.plot(new_val, label='Validation loss')\n",
        "plt.plot(train_losses, label='Training loss')\n",
        "plt.ylabel('Loss', fontsize=15)\n",
        "plt.xlabel('№ of Iteration', fontsize=15)\n",
        "plt.title('Train and validation loss depending on the number of iterations of gradient decent.', fontsize=13)\n",
        "plt.legend(fontsize='x-large', shadow=True)\n",
        "plt.show()"
      ],
      "execution_count": 19,
      "outputs": [
        {
          "output_type": "display_data",
          "data": {
            "image/png": "[encoded data removed]",
            "text/plain": [
              "<Figure size 720x432 with 1 Axes>"
            ]
          },
          "metadata": {
            "tags": []
          }
        }
      ]
    },
    {
      "cell_type": "markdown",
      "metadata": {
        "id": "Zon423L26TdY",
        "colab_type": "text"
      },
      "source": [
        "# Prediction"
      ]
    },
    {
      "cell_type": "code",
      "metadata": {
        "id": "5S7w0svAUhlZ",
        "colab_type": "code",
        "colab": {}
      },
      "source": [
        "def decode(sequence):\n",
        "    return [vocab.itos[token] for token in sequence]"
      ],
      "execution_count": 0,
      "outputs": []
    },
    {
      "cell_type": "code",
      "metadata": {
        "id": "rqCGvRt1GoQ6",
        "colab_type": "code",
        "colab": {}
      },
      "source": [
        "def make_text(sequence):\n",
        "    \n",
        "    text = ''\n",
        "\n",
        "    for element in sequence:\n",
        "        if element.startswith('▁'):\n",
        "            text += element[1:] if len(element) > 1 else ' '\n",
        "        else:\n",
        "            text += element\n",
        "        text += ' '\n",
        "    text = re.sub(r'\\s{2,5}', ' ', text)\n",
        "    return text"
      ],
      "execution_count": 0,
      "outputs": []
    },
    {
      "cell_type": "code",
      "metadata": {
        "id": "4j__Xq5U8kaZ",
        "colab_type": "code",
        "colab": {}
      },
      "source": [
        "def predict(start_tokens, prediction_type, \n",
        "            model=model, max_length=MAX_SEQ_LENGTH, eos_id=vocab.stoi['<eos>']):\n",
        "    \"\"\"\n",
        "    Returns sequence of ids\n",
        "    \"\"\"\n",
        "    \n",
        "    result_ids = start_tokens.tolist()\n",
        "    counter = 0\n",
        "    \n",
        "    start_tokens = start_tokens.unsqueeze(0)\n",
        "\n",
        "    with torch.no_grad():\n",
        "        while counter < max_length:        \n",
        "            \n",
        "            pred = model(start_tokens) # size: batch_size, vocab_size, seq_length\n",
        "            pred = pred.transpose(1,2) # size: batch_size, seq_length, vocab_size\n",
        "            pred_id = prediction_type(pred) #TOKEN_ID\n",
        "            result_ids.append(pred_id)\n",
        "            start_tokens = torch.cat((start_tokens, \n",
        "                                      torch.tensor([pred_id]).unsqueeze(0).T.to(device)), \n",
        "                                      dim=1)\n",
        "\n",
        "            counter += 1\n",
        "\n",
        "            if (counter >= 10) and (pred_id == eos_id):\n",
        "                return result_ids\n",
        "    return result_ids"
      ],
      "execution_count": 0,
      "outputs": []
    },
    {
      "cell_type": "code",
      "metadata": {
        "id": "VIbuByJd6Wsg",
        "colab_type": "code",
        "outputId": "1585da14-5370-41c2-fe8e-f608c7106373",
        "colab": {
          "base_uri": "https://localhost:8080/",
          "height": 168
        }
      },
      "source": [
        "to_predict = [] # these are the sentences we will be predicting on\n",
        "for i, batch in enumerate(test_iterator):\n",
        "    if i % 13 == 0 and i > 0:\n",
        "        to_predict.append(batch.text[:3, 1])\n",
        "to_predict.append(torch.tensor([47]).to(device))\n",
        "\n",
        "for example in to_predict:\n",
        "    print(decode(example))"
      ],
      "execution_count": 23,
      "outputs": [
        {
          "output_type": "stream",
          "text": [
            "['▁all', '▁the', '▁']\n",
            "['<eos>', '▁du', '▁fu']\n",
            "['▁i', '▁learn', '▁the']\n",
            "['▁well', '▁in', '▁translation']\n",
            "['▁\"', '▁on', '▁both']\n",
            "['▁', '<eos>', '▁by']\n",
            "['▁debut', '▁at', '▁number']\n",
            "['▁inspired', '▁by', '▁the']\n",
            "['<start>']\n"
          ],
          "name": "stdout"
        }
      ]
    },
    {
      "cell_type": "code",
      "metadata": {
        "id": "4E79X38pQtVH",
        "colab_type": "code",
        "colab": {}
      },
      "source": [
        "def show_predictions(to_predict, pred_func, model, decode=decode, make_text=make_text):\n",
        "    for el in to_predict:\n",
        "        text_ids = predict(start_tokens=el, prediction_type=pred_func, model=model)\n",
        "        tokens_list = decode(text_ids)\n",
        "        \n",
        "        initial = tokens_list[:len(el)]\n",
        "        generated = tokens_list[len(el):]\n",
        "        print('Initial Text: ', make_text(initial))\n",
        "        print('Generated Text: ', make_text(generated))\n",
        "        print('')\n",
        "        #print(len(text_ids), decode(text_ids))\n",
        "        #print(make_text(decode(text_ids)))"
      ],
      "execution_count": 0,
      "outputs": []
    },
    {
      "cell_type": "markdown",
      "metadata": {
        "id": "EmeRXNVTVP3f",
        "colab_type": "text"
      },
      "source": [
        "## [1 point] Argmax prediction"
      ]
    },
    {
      "cell_type": "code",
      "metadata": {
        "id": "y5niOe1FHZQz",
        "colab_type": "code",
        "colab": {}
      },
      "source": [
        "def argmax_pred(tensor_out):\n",
        "    tokens_probs = torch.softmax(tensor_out, dim=2) # dim = 1 if not transpose\n",
        "    #pred_id = torch.argmax(tokens_probs[0, :, -1]).item() if not transpose\n",
        "    pred_id = torch.argmax(tokens_probs[0, -1, :]).item()\n",
        "    return pred_id"
      ],
      "execution_count": 0,
      "outputs": []
    },
    {
      "cell_type": "code",
      "metadata": {
        "id": "R_ZDNSkzJxQ4",
        "colab_type": "code",
        "outputId": "e082dd73-a6c0-4666-e7b5-18f42b170ebe",
        "colab": {
          "base_uri": "https://localhost:8080/",
          "height": 490
        }
      },
      "source": [
        "show_predictions(to_predict, argmax_pred, model)"
      ],
      "execution_count": 26,
      "outputs": [
        {
          "output_type": "stream",
          "text": [
            "Initial Text:  all the \n",
            "Generated Text:  <unk> <unk> <eos> the next four of the <unk> <unk> <eos> \n",
            "\n",
            "Initial Text:  <eos> du fu \n",
            "Generated Text:  y ( r & b company <eos> the first - century physicist , the first world war ii , the qedarites are nest and the first world <unk> and the <unk> \n",
            "\n",
            "Initial Text:  i learn the \n",
            "Generated Text:  first in the new command <eos> the first ai in the first time that the first season was written by the first time that the first time that the first time that the qedarites \n",
            "\n",
            "Initial Text:  well in translation \n",
            "Generated Text:  in the san francisco león león nuzman nuzman nuzman nuzman after the first time that the first world war , the first in the release of the first time , the first time that the \n",
            "\n",
            "Initial Text:  \" on both \n",
            "Generated Text:  the final final restrictions of the <unk> <eos> \n",
            "\n",
            "Initial Text:   <eos> by \n",
            "Generated Text:  the first time that the first time that the qedarites ceased to the new york times notes that the qedarites ceased to the <unk> <eos> \n",
            "\n",
            "Initial Text:  debut at number \n",
            "Generated Text:  of the first time that the first world war , the first of the gods must solve in the seventeenth century <eos> \n",
            "\n",
            "Initial Text:  inspired by the \n",
            "Generated Text:  first time that the qedarites ceased to the new franchise <eos> \n",
            "\n",
            "Initial Text:  <start> \n",
            "Generated Text:  = = <eos> <eos> <eos> <eos> \n",
            "\n"
          ],
          "name": "stdout"
        }
      ]
    },
    {
      "cell_type": "markdown",
      "metadata": {
        "id": "l46AHKOQaiv1",
        "colab_type": "text"
      },
      "source": [
        "## [1 point] Beamsearch"
      ]
    },
    {
      "cell_type": "code",
      "metadata": {
        "id": "DxmO_6X10oH9",
        "colab_type": "code",
        "colab": {}
      },
      "source": [
        "def beam_search(input_seq, lm=model, max_len=MAX_SEQ_LENGTH, k=3, tau=1, end_token=vocab.stoi['<eos>']):\n",
        "    \"\"\"\n",
        "    generate sequence from language model *lm* conditioned on input_seq\n",
        "    input_seq: sequence of token ids for conditioning\n",
        "    lm: language model\n",
        "    max_len: max generated sequence length\n",
        "    k: size of beam\n",
        "    tau: temperature\n",
        "    \"\"\"\n",
        "    \n",
        "    #input_seq = input_seq.tolist()\n",
        "    beam = [(input_seq,0)]\n",
        "    \n",
        "    for i in range(max_len):\n",
        "        candidates = []\n",
        "        candidates_proba = []\n",
        "        for snt, snt_proba in beam:\n",
        "            if snt[-1] == end_token:\n",
        "              candidates.append(snt)\n",
        "              candidates_proba.append(snt_proba)\n",
        "            else:   \n",
        "                proba = model(snt.unsqueeze(0))\n",
        "                best_k = torch.argsort(proba, dim=2, descending=True)[0,-1,:][:k]\n",
        "                candidates.extend([torch.cat((snt, element.unsqueeze(0))) for element in best_k])\n",
        "                probs = torch.softmax(proba, dim=2)\n",
        "                candidates_proba.extend([snt_proba + probs[0,-1, el.unsqueeze(0).item()].item() for el in best_k])\n",
        "                \n",
        "\n",
        "                \n",
        "        beam = []\n",
        "        for i in np.argsort(candidates_proba)[::-1][:k]:\n",
        "          beam.append((candidates[i], candidates_proba[i]))\n",
        "    return beam"
      ],
      "execution_count": 0,
      "outputs": []
    },
    {
      "cell_type": "code",
      "metadata": {
        "id": "EaE5qFt51_o2",
        "colab_type": "code",
        "outputId": "717c14c9-f7f5-4ba8-802c-4a27c6d00e0f",
        "colab": {
          "base_uri": "https://localhost:8080/",
          "height": 1000
        }
      },
      "source": [
        "for el in to_predict:\n",
        "        beams = beam_search(input_seq=el, lm=model)\n",
        "        #print(text_ids)\n",
        "        #tokens_list = decode(text_ids)\n",
        "        for element in beams:\n",
        "            element = decode(element[0].tolist())\n",
        "            initial = element[:len(el)]\n",
        "            generated = element[len(el):]\n",
        "            print('Initial Text: ', make_text(initial))\n",
        "            print('Generated Text: ', make_text(generated))\n",
        "            print(' ')"
      ],
      "execution_count": 61,
      "outputs": [
        {
          "output_type": "stream",
          "text": [
            "Initial Text:  all the \n",
            "Generated Text:  <unk> the <eos> \n",
            " \n",
            "Initial Text:  all the \n",
            "Generated Text:   <unk> <eos> \n",
            " \n",
            "Initial Text:  all the \n",
            "Generated Text:  <unk> <unk> <eos> \n",
            " \n",
            "Initial Text:  <eos> du fu \n",
            "Generated Text:  <unk> <unk> <unk> <unk> <unk> <unk> <unk> <unk> <unk> <unk> <unk> <unk> <unk> <unk> <unk> <unk> <unk> <unk> <unk> <unk> <unk> <unk> <unk> <unk> <unk> <unk> <unk> <unk> <unk> <unk> <unk> <unk> <unk> <unk> <unk> \n",
            " \n",
            "Initial Text:  <eos> du fu \n",
            "Generated Text:   <unk> <unk> <unk> <unk> <unk> <unk> <unk> <unk> <unk> <unk> <unk> <unk> <unk> <unk> <unk> <unk> <unk> <unk> <unk> <unk> <unk> <unk> <unk> <unk> <unk> <unk> <unk> <unk> <unk> <unk> <unk> <unk> <unk> <unk> \n",
            " \n",
            "Initial Text:  <eos> du fu \n",
            "Generated Text:  <unk> <unk> <unk> <unk> <unk> <unk> <unk> <unk> <unk> <unk> <unk> <unk> <unk> <unk> <unk> <unk> <unk> <unk> <unk> <unk> <unk> <unk> <unk> <unk> <unk> <unk> <unk> <unk> <unk> <unk> <unk> <unk> <unk> <unk> <pad> \n",
            " \n",
            "Initial Text:  i learn the \n",
            "Generated Text:  <unk> <unk> <unk> <unk> <unk> <unk> <unk> <unk> <unk> <unk> <unk> <unk> <unk> <unk> <unk> <unk> <unk> <unk> <unk> <unk> <unk> <unk> <unk> <unk> <unk> <unk> <unk> <unk> <unk> <unk> <unk> <unk> <unk> <unk> <unk> \n",
            " \n",
            "Initial Text:  i learn the \n",
            "Generated Text:  <unk> <unk> <unk> <unk> <unk> <unk> <unk> <unk> <unk> <unk> <unk> <unk> <unk> <unk> <unk> <unk> <unk> <unk> <unk> <unk> <unk> <unk> <unk> <unk> <unk> <unk> <unk> <unk> <unk> <unk> <unk> <unk> <unk> <unk> <pad> \n",
            " \n",
            "Initial Text:  i learn the \n",
            "Generated Text:  <unk> <unk> <unk> <unk> <unk> <unk> <unk> <unk> <unk> <unk> <unk> <unk> <unk> <unk> <unk> <unk> <unk> <unk> <unk> <unk> <unk> <unk> <unk> <unk> <unk> <unk> <unk> <unk> <unk> <unk> <unk> <unk> <unk> <unk> this \n",
            " \n",
            "Initial Text:  well in translation \n",
            "Generated Text:  <pad>              \n",
            " \n",
            "Initial Text:  well in translation \n",
            "Generated Text:  <pad>              <pad> \n",
            " \n",
            "Initial Text:  well in translation \n",
            "Generated Text:  <pad>             <pad> \n",
            " \n",
            "Initial Text:  \" on both \n",
            "Generated Text:   <unk> <unk> , of and <unk> <unk> a \" was - - on - - - - - - - - - - - - - - - - - - - - - \n",
            " \n",
            "Initial Text:  \" on both \n",
            "Generated Text:   <unk> <unk> , of and <unk> <unk> a \" was - - on - - - - - - - - - - - - - - - - - - on - - \n",
            " \n",
            "Initial Text:  \" on both \n",
            "Generated Text:   <unk> <unk> , of and <unk> <unk> a \" was - - on - - - - - - - - - - - - - on - - - - - - - \n",
            " \n",
            "Initial Text:   <eos> by \n",
            "Generated Text:  <pad> <pad> <pad> <pad> <pad> <pad> <pad> <pad> <pad> <pad> <pad> <pad> <pad> <pad> <pad> <pad> <pad> <pad> <pad> <pad> <pad> <pad> <pad> <pad> <pad> <pad> <pad> <pad> <pad> <pad> <pad> <pad> <pad> <pad> <pad> \n",
            " \n",
            "Initial Text:   <eos> by \n",
            "Generated Text:  <pad> <pad> <pad> <pad> <pad> <pad> <pad> <pad> <pad> <pad> <pad> <pad> <pad> <pad> <pad> <pad> <pad> <pad> <pad> <pad> <pad> <pad> <pad> <pad> <pad> <pad> <pad> <pad> <pad> <pad> <pad> <pad> <pad> <pad> \n",
            " \n",
            "Initial Text:   <eos> by \n",
            "Generated Text:  <pad> <pad> <pad> <pad> <pad> <pad> <pad> <pad> <pad> <pad> <pad> <pad> <pad> <pad> <pad> <pad> <pad> <pad> <pad> <pad> <pad> <pad> <pad> <pad> <pad> <pad> <pad> <pad> <pad> <pad> <pad> <pad> <pad> <pad> \n",
            " \n",
            "Initial Text:  debut at number \n",
            "Generated Text:  <unk> the <eos> \n",
            " \n",
            "Initial Text:  debut at number \n",
            "Generated Text:  <unk> <unk> <eos> \n",
            " \n",
            "Initial Text:  debut at number \n",
            "Generated Text:   <unk> <eos> \n",
            " \n",
            "Initial Text:  inspired by the \n",
            "Generated Text:  <pad>              \n",
            " \n",
            "Initial Text:  inspired by the \n",
            "Generated Text:  <pad>              <pad> \n",
            " \n",
            "Initial Text:  inspired by the \n",
            "Generated Text:  <pad>             <pad> \n",
            " \n",
            "Initial Text:  <start> \n",
            "Generated Text:  <unk> <pad> <pad> <pad> <pad> <pad> <pad> <pad> <pad> <pad> <pad> <pad> <pad> <pad> \" <pad> <pad> = <pad> = = = = <pad> = = = = = = = = = = \n",
            " \n",
            "Initial Text:  <start> \n",
            "Generated Text:  <unk> <pad> <pad> <pad> <pad> <pad> <pad> <pad> <pad> <pad> <pad> <pad> <pad> <pad> \" <pad> <pad> = <pad> = = = = <pad> = = = = = = = = = <pad> \n",
            " \n",
            "Initial Text:  <start> \n",
            "Generated Text:  <unk> <pad> <pad> <pad> <pad> <pad> <pad> <pad> <pad> <pad> <pad> <pad> <pad> <pad> \" <pad> <pad> = <pad> = = = = <pad> = = = = = = = <pad> = = \n",
            " \n"
          ],
          "name": "stdout"
        }
      ]
    },
    {
      "cell_type": "markdown",
      "metadata": {
        "id": "r1m0sEOyLniQ",
        "colab_type": "text"
      },
      "source": [
        "## [1 point] Sampling from probabilty distribution with temperature"
      ]
    },
    {
      "cell_type": "markdown",
      "metadata": {
        "id": "V7qLayVBL-kq",
        "colab_type": "text"
      },
      "source": [
        "Based on: https://towardsdatascience.com/how-to-sample-from-language-models-682bceb97277"
      ]
    },
    {
      "cell_type": "code",
      "metadata": {
        "id": "7FiK8DXFLrKw",
        "colab_type": "code",
        "colab": {}
      },
      "source": [
        "def sampling_with_temperature(tensor_out, temperature=.5): #size: batch_size, seq_length, vocab_size\n",
        "    tokens_probs = torch.softmax(tensor_out/temperature, dim=2)\n",
        "    pred_id = np.random.choice(len(vocab), 1, p=tokens_probs[0,-1,:].cpu().numpy())\n",
        "    return pred_id[0]"
      ],
      "execution_count": 0,
      "outputs": []
    },
    {
      "cell_type": "code",
      "metadata": {
        "id": "GvuvL3e5OWm-",
        "colab_type": "code",
        "outputId": "ab285c40-8a91-472d-bc64-e444f3552da2",
        "colab": {
          "base_uri": "https://localhost:8080/",
          "height": 490
        }
      },
      "source": [
        "show_predictions(to_predict, sampling_with_temperature, model)"
      ],
      "execution_count": 28,
      "outputs": [
        {
          "output_type": "stream",
          "text": [
            "Initial Text:  all the \n",
            "Generated Text:  <unk> - century , which are nest ling for the british archaeological , in the new franchise <eos> \n",
            "\n",
            "Initial Text:  <eos> du fu \n",
            "Generated Text:  y ( 2 ) , and the first of the modern times were incorporated into the new york times notes that the qedarites ceased to the new archaeological group , and the <unk> of \n",
            "\n",
            "Initial Text:  i learn the \n",
            "Generated Text:  first in the same time that the canadian attack on the first world championships was found <eos> \n",
            "\n",
            "Initial Text:  well in translation \n",
            "Generated Text:  in the final in the - century , the gods gods centuries in the san itar <unk> ) of the sun , the first time that the qedarites are nest and wounded <eos> \n",
            "\n",
            "Initial Text:  \" on both \n",
            "Generated Text:  ioc <unk> and the protagonist of the same name is the three - century house and the most powerful shot in the <unk> <eos> \n",
            "\n",
            "Initial Text:   <eos> by \n",
            "Generated Text:  a large herbivorous oo cause for the new command <eos> \n",
            "\n",
            "Initial Text:  debut at number \n",
            "Generated Text:  of the united kingdom of the release of the sydney in the south of the u.s. route is the power generation were moved to the original miniseries being <unk> , the first uncovered to \n",
            "\n",
            "Initial Text:  inspired by the \n",
            "Generated Text:  song , the next generation of the <unk> <unk> <eos> \n",
            "\n",
            "Initial Text:  <start> \n",
            "Generated Text:  = = <eos> <eos> <eos> the first - year deal deal deal a top tier for the main newspaper var ma in the summer of the san itar and the british archaeological \n",
            "\n"
          ],
          "name": "stdout"
        }
      ]
    },
    {
      "cell_type": "code",
      "metadata": {
        "id": "Py-99tBhVaGI",
        "colab_type": "code",
        "outputId": "03292cb5-d2ce-41e1-feef-c4b61bf8f52c",
        "colab": {
          "base_uri": "https://localhost:8080/",
          "height": 490
        }
      },
      "source": [
        "def sampling_with_temperature(tensor_out, temperature=.7): # with higher temperature generated sentences are more diverse\n",
        "    tokens_probs = torch.softmax(tensor_out/temperature, dim=2)\n",
        "    pred_id = np.random.choice(len(vocab), 1, p=tokens_probs[0,-1,:].cpu().numpy())\n",
        "    return pred_id[0]\n",
        "\n",
        "show_predictions(to_predict, sampling_with_temperature, model)"
      ],
      "execution_count": 29,
      "outputs": [
        {
          "output_type": "stream",
          "text": [
            "Initial Text:  all the \n",
            "Generated Text:  <unk> and the trium virate i in the main cave is little girl have been recorded by a new world tour <eos> \n",
            "\n",
            "Initial Text:  <eos> du fu \n",
            "Generated Text:   <unk> to the first ai in the area or which had bold er to humorous refere nda about the surface <eos> \n",
            "\n",
            "Initial Text:  i learn the \n",
            "Generated Text:  first basic monthly and was written by challenging <unk> <unk> ( <unk> ) <eos> \n",
            "\n",
            "Initial Text:  well in translation \n",
            "Generated Text:   <eos> <eos> the united states <eos> the first of the royal navy in 23 , the t ao were both fleets was struggling as a younger of the war <eos> \n",
            "\n",
            "Initial Text:  \" on both \n",
            "Generated Text:  adept again <eos> <eos> the missouri was documented of the graphics from the next generation were written in the original miniseries , lost , with the first - professional <unk> area \n",
            "\n",
            "Initial Text:   <eos> by \n",
            "Generated Text:  the new jersey , the missouri release that was a small figure in the country <eos> \n",
            "\n",
            "Initial Text:  debut at number \n",
            "Generated Text:  nine <eos> the azores man formed between the flemish anglo - canon canon was discovered in the early 20th century , which are thoroughly be a spirit made from the city of the english \n",
            "\n",
            "Initial Text:  inspired by the \n",
            "Generated Text:  breeding of the area of the soviet lithuanian style of the claim of between the <unk> , calling , but subs crib ers that the book of tanks to the \" pin ch ch \n",
            "\n",
            "Initial Text:  <start> \n",
            "Generated Text:  = = <eos> <eos> the rubble of the entire route is the same book of the release of 3 <eos> \n",
            "\n"
          ],
          "name": "stdout"
        }
      ]
    },
    {
      "cell_type": "markdown",
      "metadata": {
        "id": "q-cd2W3_UYsE",
        "colab_type": "text"
      },
      "source": [
        "## [1 point] Nucleus sampling"
      ]
    },
    {
      "cell_type": "code",
      "metadata": {
        "id": "1pVkak7dUiZY",
        "colab_type": "code",
        "outputId": "08683f39-3d3c-4b09-a4d4-b83d5706e694",
        "colab": {
          "base_uri": "https://localhost:8080/",
          "height": 490
        }
      },
      "source": [
        "def nucleus_pred(tensor_out, p=0.8):\n",
        "\n",
        "    sorted_idx = torch.argsort(tensor_out, dim=2, descending=True)[0,-1,:]\n",
        "    sorted_logits = torch.sort(tensor_out, dim=2, descending=True).values[0,-1,:]\n",
        "    \n",
        "    relative_probs = torch.cumsum(torch.softmax(sorted_logits, dim=-1), dim=0)\n",
        "    mask = relative_probs >= p \n",
        "    ind = torch.nonzero(mask)\n",
        "    ind = ind[-1,:]\n",
        "\n",
        "    to_random = sorted_idx[:ind+1]\n",
        "    \n",
        "    pred_id = np.random.choice(to_random.cpu().numpy(), 1, p=torch.softmax(sorted_logits[:ind+1], dim=0).cpu().numpy())\n",
        "    return pred_id[0]\n",
        "show_predictions(to_predict,nucleus_pred, model)"
      ],
      "execution_count": 30,
      "outputs": [
        {
          "output_type": "stream",
          "text": [
            "Initial Text:  all the \n",
            "Generated Text:  <unk> <unk> <unk> <eos> mole crickets a world outside of blow played in 100 5 <eos> \n",
            "\n",
            "Initial Text:  <eos> du fu \n",
            "Generated Text:  had to conduct all known as young relationships until they were treason , perf umes , \" the \" out of honours in life control <eos> \n",
            "\n",
            "Initial Text:  i learn the \n",
            "Generated Text:  year , 2006 <eos> it was a staple player to musician motor cult for jin to five <eos> \n",
            "\n",
            "Initial Text:  well in translation \n",
            "Generated Text:  in his journal roads of metalwork 's weakest of tintin succeeding <eos> \n",
            "\n",
            "Initial Text:  \" on both \n",
            "Generated Text:  the work on 12 and i - century matches <eos> \n",
            "\n",
            "Initial Text:   <eos> by \n",
            "Generated Text:  1972 of megalosaurus sources will employed each other calendar dole , the volcano <unk> is located in many delegates figures at the term ever 1993 alive to alter the album 's films on a \n",
            "\n",
            "Initial Text:  debut at number \n",
            "Generated Text:  dance sy mp fisher s so plans to their days in <unk> [ <unk> , with mother in , home and roads in hamar 56 , with brownish - kun <eos> \n",
            "\n",
            "Initial Text:  inspired by the \n",
            "Generated Text:  noisy miner genus in the pressure of the area for 6 , mexico in the strong winds , scott carpenter of 16 sim - off - west , the situation records represent that are many \n",
            "\n",
            "Initial Text:  <start> \n",
            "Generated Text:  team in an attempt due to invest her br ands and \" other male jenkins <unk> went on a series of reasoning was becoming recognized for the sector <eos> \n",
            "\n"
          ],
          "name": "stdout"
        }
      ]
    },
    {
      "cell_type": "code",
      "metadata": {
        "id": "_5aKR0h4z8r1",
        "colab_type": "code",
        "outputId": "bcc513d4-a883-4a26-86fe-bda9e4bfb3a5",
        "colab": {
          "base_uri": "https://localhost:8080/",
          "height": 490
        }
      },
      "source": [
        "def nucleus_pred(tensor_out, p=0.97):\n",
        "\n",
        "    sorted_idx = torch.argsort(tensor_out, dim=2, descending=True)[0,-1,:]\n",
        "    sorted_logits = torch.sort(tensor_out, dim=2, descending=True).values[0,-1,:]\n",
        "    \n",
        "    relative_probs = torch.cumsum(torch.softmax(sorted_logits, dim=-1), dim=0)\n",
        "    mask = relative_probs >= p \n",
        "    ind = torch.nonzero(mask)\n",
        "    ind = ind[-1,:]\n",
        "\n",
        "    to_random = sorted_idx[:ind+1]\n",
        "    \n",
        "    pred_id = np.random.choice(to_random.cpu().numpy(), 1, p=torch.softmax(sorted_logits[:ind+1], dim=0).cpu().numpy())\n",
        "    return pred_id[0]\n",
        "show_predictions(to_predict,nucleus_pred, model)"
      ],
      "execution_count": 31,
      "outputs": [
        {
          "output_type": "stream",
          "text": [
            "Initial Text:  all the \n",
            "Generated Text:  <unk> were more skeptical bearing the the gods of final fantasy overall <unk> <eos> \n",
            "\n",
            "Initial Text:  <eos> du fu \n",
            "Generated Text:  score of the animal jurchen supple ment ment , who discovered in his opponents in late august 1964 <eos> \n",
            "\n",
            "Initial Text:  i learn the \n",
            "Generated Text:  length of cambodia pl u u ' cot ron in their companions <eos> \n",
            "\n",
            "Initial Text:  well in translation \n",
            "Generated Text:  to play off its different goal since on june , indian 21st nomura , in 2015 <eos> \n",
            "\n",
            "Initial Text:  \" on both \n",
            "Generated Text:  names and there are inclined of endurance , it is a lot alike intelligent and episode word as \" ayurved ing , \" de jupiter and moved quickly to accept out to thee ga an \n",
            "\n",
            "Initial Text:   <eos> by \n",
            "Generated Text:  a signal effect for othello closely a cougar and realistic realistic conditional ries of brazilian government <eos> \n",
            "\n",
            "Initial Text:  debut at number \n",
            "Generated Text:  more vishnu , at the hnc <eos> mantell 's carson ahl eps - was written by a signal foot called poet heard u u int over 6 % of food to water flow and \n",
            "\n",
            "Initial Text:  inspired by the \n",
            "Generated Text:  number 20 voice actors actors end and continued to the sun in the audience of a ufo crests tend to chemical groups , making vanderbilt ened \" are any of his supreme star \" \n",
            "\n",
            "Initial Text:  <start> \n",
            "Generated Text:  himself contributed to a 35 manner that killed their pitching weight , sl ovenes and to show or make \" , c <eos> \n",
            "\n"
          ],
          "name": "stdout"
        }
      ]
    },
    {
      "cell_type": "markdown",
      "metadata": {
        "id": "g7URX297Ui7u",
        "colab_type": "text"
      },
      "source": [
        "## [1 point] Top-k sampling"
      ]
    },
    {
      "cell_type": "code",
      "metadata": {
        "id": "Dyqhj5-FUlfq",
        "colab_type": "code",
        "outputId": "3d9c12fb-ccf4-4132-da2f-67518feb0876",
        "colab": {
          "base_uri": "https://localhost:8080/",
          "height": 490
        }
      },
      "source": [
        "def top_k_pred(tensor_out, k=15):\n",
        "\n",
        "    sorted_idx = torch.argsort(tensor_out, dim=2, descending=True)[0,-1,:][:k]\n",
        "    sorted_logits = torch.sort(tensor_out, dim=2, descending=True).values[0,-1,:][:k]\n",
        "    relative_probs = torch.softmax(sorted_logits, dim=0)\n",
        "\n",
        "    pred_id = np.random.choice(sorted_idx.cpu().numpy(), 1, p=relative_probs.cpu().numpy())\n",
        "    return pred_id[0]\n",
        "\n",
        "show_predictions(to_predict,top_k_pred, model)"
      ],
      "execution_count": 32,
      "outputs": [
        {
          "output_type": "stream",
          "text": [
            "Initial Text:  all the \n",
            "Generated Text:  <unk> <unk> of the <unk> <eos> <eos> \n",
            "\n",
            "Initial Text:  <eos> du fu \n",
            "Generated Text:  y , which is mach inations , but it was written by critics on the british troops , and the first ai in the new york , a cougar - shaped tail : the song \n",
            "\n",
            "Initial Text:  i learn the \n",
            "Generated Text:  end of a continent of an easy , 000 or political issues , <eos> \n",
            "\n",
            "Initial Text:  well in translation \n",
            "Generated Text:  in 2007 , the canadian attack = = <eos> \n",
            "\n",
            "Initial Text:  \" on both \n",
            "Generated Text:  the first time that the <unk> and was present for the first time that the <unk> of the new bern ot , the entire period of 69th 's magnetic , who had not \n",
            "\n",
            "Initial Text:   <eos> by \n",
            "Generated Text:  a letter in the release of the sun were moved to the original miniseries <eos> \n",
            "\n",
            "Initial Text:  debut at number \n",
            "Generated Text:  on his career for the first few weeks , 000 <unk> , and the missouri - range - tank divisions the army army , with a son of the area and a new york \n",
            "\n",
            "Initial Text:  inspired by the \n",
            "Generated Text:  first south - year for the entire route - year 1909 , a new crusade line for qedarite and to pay share on the song of <eos> \n",
            "\n",
            "Initial Text:  <start> \n",
            "Generated Text:  <eos> <eos> during the early 20th century , a large sum - at home dad , the city of the san giacomo river road was a day of the first ai of the season \n",
            "\n"
          ],
          "name": "stdout"
        }
      ]
    },
    {
      "cell_type": "code",
      "metadata": {
        "id": "iNw0LCgVqQ1-",
        "colab_type": "code",
        "outputId": "7e3a4eac-a8c6-4666-f1aa-19170888cd5b",
        "colab": {
          "base_uri": "https://localhost:8080/",
          "height": 490
        }
      },
      "source": [
        "def top_k_pred(tensor_out, k=40):\n",
        "\n",
        "    sorted_idx = torch.argsort(tensor_out, dim=2, descending=True)[0,-1,:][:k]\n",
        "    sorted_logits = torch.sort(tensor_out, dim=2, descending=True).values[0,-1,:][:k]\n",
        "    relative_probs = torch.softmax(sorted_logits, dim=0)\n",
        "\n",
        "    pred_id = np.random.choice(sorted_idx.cpu().numpy(), 1, p=relative_probs.cpu().numpy())\n",
        "    return pred_id[0]\n",
        "\n",
        "show_predictions(to_predict,top_k_pred, model)"
      ],
      "execution_count": 33,
      "outputs": [
        {
          "output_type": "stream",
          "text": [
            "Initial Text:  all the \n",
            "Generated Text:  <unk> of the new est est relationship between david lloyd d aw and his career in <unk> 's <unk> <eos> \n",
            "\n",
            "Initial Text:  <eos> du fu \n",
            "Generated Text:  er began at 13 , the second grand canyon series of <unk> <unk> <unk> , during the evening - year - atlantic <eos> \n",
            "\n",
            "Initial Text:  i learn the \n",
            "Generated Text:  heart <eos> both ge ologists , he was built between its presence of the war , making us $ 3 million , <unk> <eos> \n",
            "\n",
            "Initial Text:  well in translation \n",
            "Generated Text:  of the <unk> <unk> and new accommodation <eos> \n",
            "\n",
            "Initial Text:  \" on both \n",
            "Generated Text:  adept old friends - game streak , which are likely put to re start the <unk> - eyed , but was given into something during the first world for the first time that the \n",
            "\n",
            "Initial Text:   <eos> by \n",
            "Generated Text:  1972 , the song song , was later that a result of options კ of the <unk> , but some dispute about the new testament , the sle are possessed of perception with \n",
            "\n",
            "Initial Text:  debut at number \n",
            "Generated Text:  nine from other birds <eos> instead , both adept and the school is banaras has the new zealand at number of the final and then scored between 0 <eos> \n",
            "\n",
            "Initial Text:  inspired by the \n",
            "Generated Text:  first time in mid in a number of a second edition of the series follows : \" he was to the power as \" hills <unk> \" in sust , 000 <unk> and \n",
            "\n",
            "Initial Text:  <start> \n",
            "Generated Text:  = = <eos> <eos> the next four churches was a major field from the portuguese names of this time , which are not know to be <unk> and the right - enhancing \n",
            "\n"
          ],
          "name": "stdout"
        }
      ]
    }
  ]
}