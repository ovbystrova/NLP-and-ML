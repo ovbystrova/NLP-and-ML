{
  "nbformat": 4,
  "nbformat_minor": 0,
  "metadata": {
    "kernelspec": {
      "name": "python3",
      "display_name": "Python 3"
    },
    "language_info": {
      "codemirror_mode": {
        "name": "ipython",
        "version": 3
      },
      "file_extension": ".py",
      "mimetype": "text/x-python",
      "name": "python",
      "nbconvert_exporter": "python",
      "pygments_lexer": "ipython3",
      "version": "3.7.6"
    },
    "colab": {
      "name": "Copy of RNN_LM_assignment_6.ipynb",
      "provenance": [],
      "collapsed_sections": [
        "eUGrp4JS7a1y",
        "N6X6ZfQVbj2h",
        "rYSrDkNVboRS",
        "bISfI0uAbsbB",
        "fqscWctubw9N"
      ]
    },
    "accelerator": "GPU",
    "widgets": {
      "application/vnd.jupyter.widget-state+json": {
        "965c2a2cf61c484596800ea0d4d79d73": {
          "model_module": "@jupyter-widgets/controls",
          "model_name": "HBoxModel",
          "state": {
            "_view_name": "HBoxView",
            "_dom_classes": [],
            "_model_name": "HBoxModel",
            "_view_module": "@jupyter-widgets/controls",
            "_model_module_version": "1.5.0",
            "_view_count": null,
            "_view_module_version": "1.5.0",
            "box_style": "",
            "layout": "IPY_MODEL_8bf3f04dbf8140dfbaadece5b1e35002",
            "_model_module": "@jupyter-widgets/controls",
            "children": [
              "IPY_MODEL_c65d204f13f7443b988ef506ca736491",
              "IPY_MODEL_536df08fb3a44305ada72d5e7d42a951"
            ]
          }
        },
        "8bf3f04dbf8140dfbaadece5b1e35002": {
          "model_module": "@jupyter-widgets/base",
          "model_name": "LayoutModel",
          "state": {
            "_view_name": "LayoutView",
            "grid_template_rows": null,
            "right": null,
            "justify_content": null,
            "_view_module": "@jupyter-widgets/base",
            "overflow": null,
            "_model_module_version": "1.2.0",
            "_view_count": null,
            "flex_flow": null,
            "width": null,
            "min_width": null,
            "border": null,
            "align_items": null,
            "bottom": null,
            "_model_module": "@jupyter-widgets/base",
            "top": null,
            "grid_column": null,
            "overflow_y": null,
            "overflow_x": null,
            "grid_auto_flow": null,
            "grid_area": null,
            "grid_template_columns": null,
            "flex": null,
            "_model_name": "LayoutModel",
            "justify_items": null,
            "grid_row": null,
            "max_height": null,
            "align_content": null,
            "visibility": null,
            "align_self": null,
            "height": null,
            "min_height": null,
            "padding": null,
            "grid_auto_rows": null,
            "grid_gap": null,
            "max_width": null,
            "order": null,
            "_view_module_version": "1.2.0",
            "grid_template_areas": null,
            "object_position": null,
            "object_fit": null,
            "grid_auto_columns": null,
            "margin": null,
            "display": null,
            "left": null
          }
        },
        "c65d204f13f7443b988ef506ca736491": {
          "model_module": "@jupyter-widgets/controls",
          "model_name": "IntProgressModel",
          "state": {
            "_view_name": "ProgressView",
            "style": "IPY_MODEL_8694506202574461bbfeec9bd4b97074",
            "_dom_classes": [],
            "description": "epoch 0",
            "_model_name": "IntProgressModel",
            "bar_style": "success",
            "max": 992,
            "_view_module": "@jupyter-widgets/controls",
            "_model_module_version": "1.5.0",
            "value": 992,
            "_view_count": null,
            "_view_module_version": "1.5.0",
            "orientation": "horizontal",
            "min": 0,
            "description_tooltip": null,
            "_model_module": "@jupyter-widgets/controls",
            "layout": "IPY_MODEL_66d4ac280fa1427baab9f9f06a1f2385"
          }
        },
        "536df08fb3a44305ada72d5e7d42a951": {
          "model_module": "@jupyter-widgets/controls",
          "model_name": "HTMLModel",
          "state": {
            "_view_name": "HTMLView",
            "style": "IPY_MODEL_fb56fef8823e46ce959c4ab4896d561c",
            "_dom_classes": [],
            "description": "",
            "_model_name": "HTMLModel",
            "placeholder": "​",
            "_view_module": "@jupyter-widgets/controls",
            "_model_module_version": "1.5.0",
            "value": "100% 992/992 [00:48&lt;00:00, 22.82it/s, loss=3.53349]",
            "_view_count": null,
            "_view_module_version": "1.5.0",
            "description_tooltip": null,
            "_model_module": "@jupyter-widgets/controls",
            "layout": "IPY_MODEL_6661409b0deb41b1a53c1f20ac109532"
          }
        },
        "8694506202574461bbfeec9bd4b97074": {
          "model_module": "@jupyter-widgets/controls",
          "model_name": "ProgressStyleModel",
          "state": {
            "_view_name": "StyleView",
            "_model_name": "ProgressStyleModel",
            "description_width": "initial",
            "_view_module": "@jupyter-widgets/base",
            "_model_module_version": "1.5.0",
            "_view_count": null,
            "_view_module_version": "1.2.0",
            "bar_color": null,
            "_model_module": "@jupyter-widgets/controls"
          }
        },
        "66d4ac280fa1427baab9f9f06a1f2385": {
          "model_module": "@jupyter-widgets/base",
          "model_name": "LayoutModel",
          "state": {
            "_view_name": "LayoutView",
            "grid_template_rows": null,
            "right": null,
            "justify_content": null,
            "_view_module": "@jupyter-widgets/base",
            "overflow": null,
            "_model_module_version": "1.2.0",
            "_view_count": null,
            "flex_flow": null,
            "width": null,
            "min_width": null,
            "border": null,
            "align_items": null,
            "bottom": null,
            "_model_module": "@jupyter-widgets/base",
            "top": null,
            "grid_column": null,
            "overflow_y": null,
            "overflow_x": null,
            "grid_auto_flow": null,
            "grid_area": null,
            "grid_template_columns": null,
            "flex": null,
            "_model_name": "LayoutModel",
            "justify_items": null,
            "grid_row": null,
            "max_height": null,
            "align_content": null,
            "visibility": null,
            "align_self": null,
            "height": null,
            "min_height": null,
            "padding": null,
            "grid_auto_rows": null,
            "grid_gap": null,
            "max_width": null,
            "order": null,
            "_view_module_version": "1.2.0",
            "grid_template_areas": null,
            "object_position": null,
            "object_fit": null,
            "grid_auto_columns": null,
            "margin": null,
            "display": null,
            "left": null
          }
        },
        "fb56fef8823e46ce959c4ab4896d561c": {
          "model_module": "@jupyter-widgets/controls",
          "model_name": "DescriptionStyleModel",
          "state": {
            "_view_name": "StyleView",
            "_model_name": "DescriptionStyleModel",
            "description_width": "",
            "_view_module": "@jupyter-widgets/base",
            "_model_module_version": "1.5.0",
            "_view_count": null,
            "_view_module_version": "1.2.0",
            "_model_module": "@jupyter-widgets/controls"
          }
        },
        "6661409b0deb41b1a53c1f20ac109532": {
          "model_module": "@jupyter-widgets/base",
          "model_name": "LayoutModel",
          "state": {
            "_view_name": "LayoutView",
            "grid_template_rows": null,
            "right": null,
            "justify_content": null,
            "_view_module": "@jupyter-widgets/base",
            "overflow": null,
            "_model_module_version": "1.2.0",
            "_view_count": null,
            "flex_flow": null,
            "width": null,
            "min_width": null,
            "border": null,
            "align_items": null,
            "bottom": null,
            "_model_module": "@jupyter-widgets/base",
            "top": null,
            "grid_column": null,
            "overflow_y": null,
            "overflow_x": null,
            "grid_auto_flow": null,
            "grid_area": null,
            "grid_template_columns": null,
            "flex": null,
            "_model_name": "LayoutModel",
            "justify_items": null,
            "grid_row": null,
            "max_height": null,
            "align_content": null,
            "visibility": null,
            "align_self": null,
            "height": null,
            "min_height": null,
            "padding": null,
            "grid_auto_rows": null,
            "grid_gap": null,
            "max_width": null,
            "order": null,
            "_view_module_version": "1.2.0",
            "grid_template_areas": null,
            "object_position": null,
            "object_fit": null,
            "grid_auto_columns": null,
            "margin": null,
            "display": null,
            "left": null
          }
        },
        "28016ca7be4e4f8a8dfd27cc4865a91b": {
          "model_module": "@jupyter-widgets/controls",
          "model_name": "HBoxModel",
          "state": {
            "_view_name": "HBoxView",
            "_dom_classes": [],
            "_model_name": "HBoxModel",
            "_view_module": "@jupyter-widgets/controls",
            "_model_module_version": "1.5.0",
            "_view_count": null,
            "_view_module_version": "1.5.0",
            "box_style": "",
            "layout": "IPY_MODEL_f8bc672a786d4d3e9cb0e1793c193be6",
            "_model_module": "@jupyter-widgets/controls",
            "children": [
              "IPY_MODEL_6277bb0b8fe344d4853b9c9950ad2531",
              "IPY_MODEL_505d70185c5b4d52a68763d3a45074bf"
            ]
          }
        },
        "f8bc672a786d4d3e9cb0e1793c193be6": {
          "model_module": "@jupyter-widgets/base",
          "model_name": "LayoutModel",
          "state": {
            "_view_name": "LayoutView",
            "grid_template_rows": null,
            "right": null,
            "justify_content": null,
            "_view_module": "@jupyter-widgets/base",
            "overflow": null,
            "_model_module_version": "1.2.0",
            "_view_count": null,
            "flex_flow": null,
            "width": null,
            "min_width": null,
            "border": null,
            "align_items": null,
            "bottom": null,
            "_model_module": "@jupyter-widgets/base",
            "top": null,
            "grid_column": null,
            "overflow_y": null,
            "overflow_x": null,
            "grid_auto_flow": null,
            "grid_area": null,
            "grid_template_columns": null,
            "flex": null,
            "_model_name": "LayoutModel",
            "justify_items": null,
            "grid_row": null,
            "max_height": null,
            "align_content": null,
            "visibility": null,
            "align_self": null,
            "height": null,
            "min_height": null,
            "padding": null,
            "grid_auto_rows": null,
            "grid_gap": null,
            "max_width": null,
            "order": null,
            "_view_module_version": "1.2.0",
            "grid_template_areas": null,
            "object_position": null,
            "object_fit": null,
            "grid_auto_columns": null,
            "margin": null,
            "display": null,
            "left": null
          }
        },
        "6277bb0b8fe344d4853b9c9950ad2531": {
          "model_module": "@jupyter-widgets/controls",
          "model_name": "IntProgressModel",
          "state": {
            "_view_name": "ProgressView",
            "style": "IPY_MODEL_589351dbfa564afd9b549ac38982e62a",
            "_dom_classes": [],
            "description": "epoch 1",
            "_model_name": "IntProgressModel",
            "bar_style": "success",
            "max": 992,
            "_view_module": "@jupyter-widgets/controls",
            "_model_module_version": "1.5.0",
            "value": 992,
            "_view_count": null,
            "_view_module_version": "1.5.0",
            "orientation": "horizontal",
            "min": 0,
            "description_tooltip": null,
            "_model_module": "@jupyter-widgets/controls",
            "layout": "IPY_MODEL_7eeaf496cecd4bdea6981731bbacc337"
          }
        },
        "505d70185c5b4d52a68763d3a45074bf": {
          "model_module": "@jupyter-widgets/controls",
          "model_name": "HTMLModel",
          "state": {
            "_view_name": "HTMLView",
            "style": "IPY_MODEL_c8951da0d9b245ad871e20160397c74c",
            "_dom_classes": [],
            "description": "",
            "_model_name": "HTMLModel",
            "placeholder": "​",
            "_view_module": "@jupyter-widgets/controls",
            "_model_module_version": "1.5.0",
            "value": "100% 992/992 [00:48&lt;00:00, 22.17it/s, loss=1.01638]",
            "_view_count": null,
            "_view_module_version": "1.5.0",
            "description_tooltip": null,
            "_model_module": "@jupyter-widgets/controls",
            "layout": "IPY_MODEL_4031f5b3a030456a80a3143dcbb444ed"
          }
        },
        "589351dbfa564afd9b549ac38982e62a": {
          "model_module": "@jupyter-widgets/controls",
          "model_name": "ProgressStyleModel",
          "state": {
            "_view_name": "StyleView",
            "_model_name": "ProgressStyleModel",
            "description_width": "initial",
            "_view_module": "@jupyter-widgets/base",
            "_model_module_version": "1.5.0",
            "_view_count": null,
            "_view_module_version": "1.2.0",
            "bar_color": null,
            "_model_module": "@jupyter-widgets/controls"
          }
        },
        "7eeaf496cecd4bdea6981731bbacc337": {
          "model_module": "@jupyter-widgets/base",
          "model_name": "LayoutModel",
          "state": {
            "_view_name": "LayoutView",
            "grid_template_rows": null,
            "right": null,
            "justify_content": null,
            "_view_module": "@jupyter-widgets/base",
            "overflow": null,
            "_model_module_version": "1.2.0",
            "_view_count": null,
            "flex_flow": null,
            "width": null,
            "min_width": null,
            "border": null,
            "align_items": null,
            "bottom": null,
            "_model_module": "@jupyter-widgets/base",
            "top": null,
            "grid_column": null,
            "overflow_y": null,
            "overflow_x": null,
            "grid_auto_flow": null,
            "grid_area": null,
            "grid_template_columns": null,
            "flex": null,
            "_model_name": "LayoutModel",
            "justify_items": null,
            "grid_row": null,
            "max_height": null,
            "align_content": null,
            "visibility": null,
            "align_self": null,
            "height": null,
            "min_height": null,
            "padding": null,
            "grid_auto_rows": null,
            "grid_gap": null,
            "max_width": null,
            "order": null,
            "_view_module_version": "1.2.0",
            "grid_template_areas": null,
            "object_position": null,
            "object_fit": null,
            "grid_auto_columns": null,
            "margin": null,
            "display": null,
            "left": null
          }
        },
        "c8951da0d9b245ad871e20160397c74c": {
          "model_module": "@jupyter-widgets/controls",
          "model_name": "DescriptionStyleModel",
          "state": {
            "_view_name": "StyleView",
            "_model_name": "DescriptionStyleModel",
            "description_width": "",
            "_view_module": "@jupyter-widgets/base",
            "_model_module_version": "1.5.0",
            "_view_count": null,
            "_view_module_version": "1.2.0",
            "_model_module": "@jupyter-widgets/controls"
          }
        },
        "4031f5b3a030456a80a3143dcbb444ed": {
          "model_module": "@jupyter-widgets/base",
          "model_name": "LayoutModel",
          "state": {
            "_view_name": "LayoutView",
            "grid_template_rows": null,
            "right": null,
            "justify_content": null,
            "_view_module": "@jupyter-widgets/base",
            "overflow": null,
            "_model_module_version": "1.2.0",
            "_view_count": null,
            "flex_flow": null,
            "width": null,
            "min_width": null,
            "border": null,
            "align_items": null,
            "bottom": null,
            "_model_module": "@jupyter-widgets/base",
            "top": null,
            "grid_column": null,
            "overflow_y": null,
            "overflow_x": null,
            "grid_auto_flow": null,
            "grid_area": null,
            "grid_template_columns": null,
            "flex": null,
            "_model_name": "LayoutModel",
            "justify_items": null,
            "grid_row": null,
            "max_height": null,
            "align_content": null,
            "visibility": null,
            "align_self": null,
            "height": null,
            "min_height": null,
            "padding": null,
            "grid_auto_rows": null,
            "grid_gap": null,
            "max_width": null,
            "order": null,
            "_view_module_version": "1.2.0",
            "grid_template_areas": null,
            "object_position": null,
            "object_fit": null,
            "grid_auto_columns": null,
            "margin": null,
            "display": null,
            "left": null
          }
        },
        "f2921c1b33c742738682240767255c48": {
          "model_module": "@jupyter-widgets/controls",
          "model_name": "HBoxModel",
          "state": {
            "_view_name": "HBoxView",
            "_dom_classes": [],
            "_model_name": "HBoxModel",
            "_view_module": "@jupyter-widgets/controls",
            "_model_module_version": "1.5.0",
            "_view_count": null,
            "_view_module_version": "1.5.0",
            "box_style": "",
            "layout": "IPY_MODEL_093319c0d98742bd8db4bd3f466502fb",
            "_model_module": "@jupyter-widgets/controls",
            "children": [
              "IPY_MODEL_982cc3c6b6d04d49b42e82c5729c814d",
              "IPY_MODEL_ea938e0d967c4abf97bd63c45268c8e8"
            ]
          }
        },
        "093319c0d98742bd8db4bd3f466502fb": {
          "model_module": "@jupyter-widgets/base",
          "model_name": "LayoutModel",
          "state": {
            "_view_name": "LayoutView",
            "grid_template_rows": null,
            "right": null,
            "justify_content": null,
            "_view_module": "@jupyter-widgets/base",
            "overflow": null,
            "_model_module_version": "1.2.0",
            "_view_count": null,
            "flex_flow": null,
            "width": null,
            "min_width": null,
            "border": null,
            "align_items": null,
            "bottom": null,
            "_model_module": "@jupyter-widgets/base",
            "top": null,
            "grid_column": null,
            "overflow_y": null,
            "overflow_x": null,
            "grid_auto_flow": null,
            "grid_area": null,
            "grid_template_columns": null,
            "flex": null,
            "_model_name": "LayoutModel",
            "justify_items": null,
            "grid_row": null,
            "max_height": null,
            "align_content": null,
            "visibility": null,
            "align_self": null,
            "height": null,
            "min_height": null,
            "padding": null,
            "grid_auto_rows": null,
            "grid_gap": null,
            "max_width": null,
            "order": null,
            "_view_module_version": "1.2.0",
            "grid_template_areas": null,
            "object_position": null,
            "object_fit": null,
            "grid_auto_columns": null,
            "margin": null,
            "display": null,
            "left": null
          }
        },
        "982cc3c6b6d04d49b42e82c5729c814d": {
          "model_module": "@jupyter-widgets/controls",
          "model_name": "IntProgressModel",
          "state": {
            "_view_name": "ProgressView",
            "style": "IPY_MODEL_e18a882c36a44a78bd8fe9e421bd100f",
            "_dom_classes": [],
            "description": "epoch 2",
            "_model_name": "IntProgressModel",
            "bar_style": "success",
            "max": 992,
            "_view_module": "@jupyter-widgets/controls",
            "_model_module_version": "1.5.0",
            "value": 992,
            "_view_count": null,
            "_view_module_version": "1.5.0",
            "orientation": "horizontal",
            "min": 0,
            "description_tooltip": null,
            "_model_module": "@jupyter-widgets/controls",
            "layout": "IPY_MODEL_ecfe9b3c79a649c49f17040059415927"
          }
        },
        "ea938e0d967c4abf97bd63c45268c8e8": {
          "model_module": "@jupyter-widgets/controls",
          "model_name": "HTMLModel",
          "state": {
            "_view_name": "HTMLView",
            "style": "IPY_MODEL_1546a5d7e5d44234ba8a4d4a44dff397",
            "_dom_classes": [],
            "description": "",
            "_model_name": "HTMLModel",
            "placeholder": "​",
            "_view_module": "@jupyter-widgets/controls",
            "_model_module_version": "1.5.0",
            "value": "100% 992/992 [00:48&lt;00:00, 20.58it/s, loss=0.36880]",
            "_view_count": null,
            "_view_module_version": "1.5.0",
            "description_tooltip": null,
            "_model_module": "@jupyter-widgets/controls",
            "layout": "IPY_MODEL_21f75ed4d0824c7db882cbae29640694"
          }
        },
        "e18a882c36a44a78bd8fe9e421bd100f": {
          "model_module": "@jupyter-widgets/controls",
          "model_name": "ProgressStyleModel",
          "state": {
            "_view_name": "StyleView",
            "_model_name": "ProgressStyleModel",
            "description_width": "initial",
            "_view_module": "@jupyter-widgets/base",
            "_model_module_version": "1.5.0",
            "_view_count": null,
            "_view_module_version": "1.2.0",
            "bar_color": null,
            "_model_module": "@jupyter-widgets/controls"
          }
        },
        "ecfe9b3c79a649c49f17040059415927": {
          "model_module": "@jupyter-widgets/base",
          "model_name": "LayoutModel",
          "state": {
            "_view_name": "LayoutView",
            "grid_template_rows": null,
            "right": null,
            "justify_content": null,
            "_view_module": "@jupyter-widgets/base",
            "overflow": null,
            "_model_module_version": "1.2.0",
            "_view_count": null,
            "flex_flow": null,
            "width": null,
            "min_width": null,
            "border": null,
            "align_items": null,
            "bottom": null,
            "_model_module": "@jupyter-widgets/base",
            "top": null,
            "grid_column": null,
            "overflow_y": null,
            "overflow_x": null,
            "grid_auto_flow": null,
            "grid_area": null,
            "grid_template_columns": null,
            "flex": null,
            "_model_name": "LayoutModel",
            "justify_items": null,
            "grid_row": null,
            "max_height": null,
            "align_content": null,
            "visibility": null,
            "align_self": null,
            "height": null,
            "min_height": null,
            "padding": null,
            "grid_auto_rows": null,
            "grid_gap": null,
            "max_width": null,
            "order": null,
            "_view_module_version": "1.2.0",
            "grid_template_areas": null,
            "object_position": null,
            "object_fit": null,
            "grid_auto_columns": null,
            "margin": null,
            "display": null,
            "left": null
          }
        },
        "1546a5d7e5d44234ba8a4d4a44dff397": {
          "model_module": "@jupyter-widgets/controls",
          "model_name": "DescriptionStyleModel",
          "state": {
            "_view_name": "StyleView",
            "_model_name": "DescriptionStyleModel",
            "description_width": "",
            "_view_module": "@jupyter-widgets/base",
            "_model_module_version": "1.5.0",
            "_view_count": null,
            "_view_module_version": "1.2.0",
            "_model_module": "@jupyter-widgets/controls"
          }
        },
        "21f75ed4d0824c7db882cbae29640694": {
          "model_module": "@jupyter-widgets/base",
          "model_name": "LayoutModel",
          "state": {
            "_view_name": "LayoutView",
            "grid_template_rows": null,
            "right": null,
            "justify_content": null,
            "_view_module": "@jupyter-widgets/base",
            "overflow": null,
            "_model_module_version": "1.2.0",
            "_view_count": null,
            "flex_flow": null,
            "width": null,
            "min_width": null,
            "border": null,
            "align_items": null,
            "bottom": null,
            "_model_module": "@jupyter-widgets/base",
            "top": null,
            "grid_column": null,
            "overflow_y": null,
            "overflow_x": null,
            "grid_auto_flow": null,
            "grid_area": null,
            "grid_template_columns": null,
            "flex": null,
            "_model_name": "LayoutModel",
            "justify_items": null,
            "grid_row": null,
            "max_height": null,
            "align_content": null,
            "visibility": null,
            "align_self": null,
            "height": null,
            "min_height": null,
            "padding": null,
            "grid_auto_rows": null,
            "grid_gap": null,
            "max_width": null,
            "order": null,
            "_view_module_version": "1.2.0",
            "grid_template_areas": null,
            "object_position": null,
            "object_fit": null,
            "grid_auto_columns": null,
            "margin": null,
            "display": null,
            "left": null
          }
        },
        "b74f17a58c2e4fcd95874a439d2a78ce": {
          "model_module": "@jupyter-widgets/controls",
          "model_name": "HBoxModel",
          "state": {
            "_view_name": "HBoxView",
            "_dom_classes": [],
            "_model_name": "HBoxModel",
            "_view_module": "@jupyter-widgets/controls",
            "_model_module_version": "1.5.0",
            "_view_count": null,
            "_view_module_version": "1.5.0",
            "box_style": "",
            "layout": "IPY_MODEL_e3c0ad262ba94104a40764a6475b232c",
            "_model_module": "@jupyter-widgets/controls",
            "children": [
              "IPY_MODEL_bbb7afbaf62b48829e53355135e9d0b8",
              "IPY_MODEL_c003bcacff7e44d68dc003dbe4c1d0c4"
            ]
          }
        },
        "e3c0ad262ba94104a40764a6475b232c": {
          "model_module": "@jupyter-widgets/base",
          "model_name": "LayoutModel",
          "state": {
            "_view_name": "LayoutView",
            "grid_template_rows": null,
            "right": null,
            "justify_content": null,
            "_view_module": "@jupyter-widgets/base",
            "overflow": null,
            "_model_module_version": "1.2.0",
            "_view_count": null,
            "flex_flow": null,
            "width": null,
            "min_width": null,
            "border": null,
            "align_items": null,
            "bottom": null,
            "_model_module": "@jupyter-widgets/base",
            "top": null,
            "grid_column": null,
            "overflow_y": null,
            "overflow_x": null,
            "grid_auto_flow": null,
            "grid_area": null,
            "grid_template_columns": null,
            "flex": null,
            "_model_name": "LayoutModel",
            "justify_items": null,
            "grid_row": null,
            "max_height": null,
            "align_content": null,
            "visibility": null,
            "align_self": null,
            "height": null,
            "min_height": null,
            "padding": null,
            "grid_auto_rows": null,
            "grid_gap": null,
            "max_width": null,
            "order": null,
            "_view_module_version": "1.2.0",
            "grid_template_areas": null,
            "object_position": null,
            "object_fit": null,
            "grid_auto_columns": null,
            "margin": null,
            "display": null,
            "left": null
          }
        },
        "bbb7afbaf62b48829e53355135e9d0b8": {
          "model_module": "@jupyter-widgets/controls",
          "model_name": "IntProgressModel",
          "state": {
            "_view_name": "ProgressView",
            "style": "IPY_MODEL_fe9f2d36d2a8476a9c84be736190ca04",
            "_dom_classes": [],
            "description": "epoch 3",
            "_model_name": "IntProgressModel",
            "bar_style": "success",
            "max": 992,
            "_view_module": "@jupyter-widgets/controls",
            "_model_module_version": "1.5.0",
            "value": 992,
            "_view_count": null,
            "_view_module_version": "1.5.0",
            "orientation": "horizontal",
            "min": 0,
            "description_tooltip": null,
            "_model_module": "@jupyter-widgets/controls",
            "layout": "IPY_MODEL_0cd168f75fe1401eb560d9541d9b2008"
          }
        },
        "c003bcacff7e44d68dc003dbe4c1d0c4": {
          "model_module": "@jupyter-widgets/controls",
          "model_name": "HTMLModel",
          "state": {
            "_view_name": "HTMLView",
            "style": "IPY_MODEL_a7ac1872789b4d0c82540a474fb0df31",
            "_dom_classes": [],
            "description": "",
            "_model_name": "HTMLModel",
            "placeholder": "​",
            "_view_module": "@jupyter-widgets/controls",
            "_model_module_version": "1.5.0",
            "value": "100% 992/992 [00:48&lt;00:00, 20.64it/s, loss=0.18622]",
            "_view_count": null,
            "_view_module_version": "1.5.0",
            "description_tooltip": null,
            "_model_module": "@jupyter-widgets/controls",
            "layout": "IPY_MODEL_3564c335e81b416fb1c6d0c47093a4e1"
          }
        },
        "fe9f2d36d2a8476a9c84be736190ca04": {
          "model_module": "@jupyter-widgets/controls",
          "model_name": "ProgressStyleModel",
          "state": {
            "_view_name": "StyleView",
            "_model_name": "ProgressStyleModel",
            "description_width": "initial",
            "_view_module": "@jupyter-widgets/base",
            "_model_module_version": "1.5.0",
            "_view_count": null,
            "_view_module_version": "1.2.0",
            "bar_color": null,
            "_model_module": "@jupyter-widgets/controls"
          }
        },
        "0cd168f75fe1401eb560d9541d9b2008": {
          "model_module": "@jupyter-widgets/base",
          "model_name": "LayoutModel",
          "state": {
            "_view_name": "LayoutView",
            "grid_template_rows": null,
            "right": null,
            "justify_content": null,
            "_view_module": "@jupyter-widgets/base",
            "overflow": null,
            "_model_module_version": "1.2.0",
            "_view_count": null,
            "flex_flow": null,
            "width": null,
            "min_width": null,
            "border": null,
            "align_items": null,
            "bottom": null,
            "_model_module": "@jupyter-widgets/base",
            "top": null,
            "grid_column": null,
            "overflow_y": null,
            "overflow_x": null,
            "grid_auto_flow": null,
            "grid_area": null,
            "grid_template_columns": null,
            "flex": null,
            "_model_name": "LayoutModel",
            "justify_items": null,
            "grid_row": null,
            "max_height": null,
            "align_content": null,
            "visibility": null,
            "align_self": null,
            "height": null,
            "min_height": null,
            "padding": null,
            "grid_auto_rows": null,
            "grid_gap": null,
            "max_width": null,
            "order": null,
            "_view_module_version": "1.2.0",
            "grid_template_areas": null,
            "object_position": null,
            "object_fit": null,
            "grid_auto_columns": null,
            "margin": null,
            "display": null,
            "left": null
          }
        },
        "a7ac1872789b4d0c82540a474fb0df31": {
          "model_module": "@jupyter-widgets/controls",
          "model_name": "DescriptionStyleModel",
          "state": {
            "_view_name": "StyleView",
            "_model_name": "DescriptionStyleModel",
            "description_width": "",
            "_view_module": "@jupyter-widgets/base",
            "_model_module_version": "1.5.0",
            "_view_count": null,
            "_view_module_version": "1.2.0",
            "_model_module": "@jupyter-widgets/controls"
          }
        },
        "3564c335e81b416fb1c6d0c47093a4e1": {
          "model_module": "@jupyter-widgets/base",
          "model_name": "LayoutModel",
          "state": {
            "_view_name": "LayoutView",
            "grid_template_rows": null,
            "right": null,
            "justify_content": null,
            "_view_module": "@jupyter-widgets/base",
            "overflow": null,
            "_model_module_version": "1.2.0",
            "_view_count": null,
            "flex_flow": null,
            "width": null,
            "min_width": null,
            "border": null,
            "align_items": null,
            "bottom": null,
            "_model_module": "@jupyter-widgets/base",
            "top": null,
            "grid_column": null,
            "overflow_y": null,
            "overflow_x": null,
            "grid_auto_flow": null,
            "grid_area": null,
            "grid_template_columns": null,
            "flex": null,
            "_model_name": "LayoutModel",
            "justify_items": null,
            "grid_row": null,
            "max_height": null,
            "align_content": null,
            "visibility": null,
            "align_self": null,
            "height": null,
            "min_height": null,
            "padding": null,
            "grid_auto_rows": null,
            "grid_gap": null,
            "max_width": null,
            "order": null,
            "_view_module_version": "1.2.0",
            "grid_template_areas": null,
            "object_position": null,
            "object_fit": null,
            "grid_auto_columns": null,
            "margin": null,
            "display": null,
            "left": null
          }
        },
        "22d2c6ddcf914e5087959122ea892f83": {
          "model_module": "@jupyter-widgets/controls",
          "model_name": "HBoxModel",
          "state": {
            "_view_name": "HBoxView",
            "_dom_classes": [],
            "_model_name": "HBoxModel",
            "_view_module": "@jupyter-widgets/controls",
            "_model_module_version": "1.5.0",
            "_view_count": null,
            "_view_module_version": "1.5.0",
            "box_style": "",
            "layout": "IPY_MODEL_887d369358dc49e4b96b8695e350e6ae",
            "_model_module": "@jupyter-widgets/controls",
            "children": [
              "IPY_MODEL_df6a1e41e448407e9ecbb153c90e718e",
              "IPY_MODEL_d09e57084fd9470dab5d289b4c40e259"
            ]
          }
        },
        "887d369358dc49e4b96b8695e350e6ae": {
          "model_module": "@jupyter-widgets/base",
          "model_name": "LayoutModel",
          "state": {
            "_view_name": "LayoutView",
            "grid_template_rows": null,
            "right": null,
            "justify_content": null,
            "_view_module": "@jupyter-widgets/base",
            "overflow": null,
            "_model_module_version": "1.2.0",
            "_view_count": null,
            "flex_flow": null,
            "width": null,
            "min_width": null,
            "border": null,
            "align_items": null,
            "bottom": null,
            "_model_module": "@jupyter-widgets/base",
            "top": null,
            "grid_column": null,
            "overflow_y": null,
            "overflow_x": null,
            "grid_auto_flow": null,
            "grid_area": null,
            "grid_template_columns": null,
            "flex": null,
            "_model_name": "LayoutModel",
            "justify_items": null,
            "grid_row": null,
            "max_height": null,
            "align_content": null,
            "visibility": null,
            "align_self": null,
            "height": null,
            "min_height": null,
            "padding": null,
            "grid_auto_rows": null,
            "grid_gap": null,
            "max_width": null,
            "order": null,
            "_view_module_version": "1.2.0",
            "grid_template_areas": null,
            "object_position": null,
            "object_fit": null,
            "grid_auto_columns": null,
            "margin": null,
            "display": null,
            "left": null
          }
        },
        "df6a1e41e448407e9ecbb153c90e718e": {
          "model_module": "@jupyter-widgets/controls",
          "model_name": "IntProgressModel",
          "state": {
            "_view_name": "ProgressView",
            "style": "IPY_MODEL_a32fb938e96142f9a85f5d0d4d173d8c",
            "_dom_classes": [],
            "description": "epoch 4",
            "_model_name": "IntProgressModel",
            "bar_style": "success",
            "max": 992,
            "_view_module": "@jupyter-widgets/controls",
            "_model_module_version": "1.5.0",
            "value": 992,
            "_view_count": null,
            "_view_module_version": "1.5.0",
            "orientation": "horizontal",
            "min": 0,
            "description_tooltip": null,
            "_model_module": "@jupyter-widgets/controls",
            "layout": "IPY_MODEL_4c24120e742142b4aa33e302d075fa07"
          }
        },
        "d09e57084fd9470dab5d289b4c40e259": {
          "model_module": "@jupyter-widgets/controls",
          "model_name": "HTMLModel",
          "state": {
            "_view_name": "HTMLView",
            "style": "IPY_MODEL_05c4f3a8a27a4251812888b7b24ce548",
            "_dom_classes": [],
            "description": "",
            "_model_name": "HTMLModel",
            "placeholder": "​",
            "_view_module": "@jupyter-widgets/controls",
            "_model_module_version": "1.5.0",
            "value": "100% 992/992 [00:48&lt;00:00, 20.67it/s, loss=0.13363]",
            "_view_count": null,
            "_view_module_version": "1.5.0",
            "description_tooltip": null,
            "_model_module": "@jupyter-widgets/controls",
            "layout": "IPY_MODEL_2465e1dbfab449568b78e9f9d9e95bb9"
          }
        },
        "a32fb938e96142f9a85f5d0d4d173d8c": {
          "model_module": "@jupyter-widgets/controls",
          "model_name": "ProgressStyleModel",
          "state": {
            "_view_name": "StyleView",
            "_model_name": "ProgressStyleModel",
            "description_width": "initial",
            "_view_module": "@jupyter-widgets/base",
            "_model_module_version": "1.5.0",
            "_view_count": null,
            "_view_module_version": "1.2.0",
            "bar_color": null,
            "_model_module": "@jupyter-widgets/controls"
          }
        },
        "4c24120e742142b4aa33e302d075fa07": {
          "model_module": "@jupyter-widgets/base",
          "model_name": "LayoutModel",
          "state": {
            "_view_name": "LayoutView",
            "grid_template_rows": null,
            "right": null,
            "justify_content": null,
            "_view_module": "@jupyter-widgets/base",
            "overflow": null,
            "_model_module_version": "1.2.0",
            "_view_count": null,
            "flex_flow": null,
            "width": null,
            "min_width": null,
            "border": null,
            "align_items": null,
            "bottom": null,
            "_model_module": "@jupyter-widgets/base",
            "top": null,
            "grid_column": null,
            "overflow_y": null,
            "overflow_x": null,
            "grid_auto_flow": null,
            "grid_area": null,
            "grid_template_columns": null,
            "flex": null,
            "_model_name": "LayoutModel",
            "justify_items": null,
            "grid_row": null,
            "max_height": null,
            "align_content": null,
            "visibility": null,
            "align_self": null,
            "height": null,
            "min_height": null,
            "padding": null,
            "grid_auto_rows": null,
            "grid_gap": null,
            "max_width": null,
            "order": null,
            "_view_module_version": "1.2.0",
            "grid_template_areas": null,
            "object_position": null,
            "object_fit": null,
            "grid_auto_columns": null,
            "margin": null,
            "display": null,
            "left": null
          }
        },
        "05c4f3a8a27a4251812888b7b24ce548": {
          "model_module": "@jupyter-widgets/controls",
          "model_name": "DescriptionStyleModel",
          "state": {
            "_view_name": "StyleView",
            "_model_name": "DescriptionStyleModel",
            "description_width": "",
            "_view_module": "@jupyter-widgets/base",
            "_model_module_version": "1.5.0",
            "_view_count": null,
            "_view_module_version": "1.2.0",
            "_model_module": "@jupyter-widgets/controls"
          }
        },
        "2465e1dbfab449568b78e9f9d9e95bb9": {
          "model_module": "@jupyter-widgets/base",
          "model_name": "LayoutModel",
          "state": {
            "_view_name": "LayoutView",
            "grid_template_rows": null,
            "right": null,
            "justify_content": null,
            "_view_module": "@jupyter-widgets/base",
            "overflow": null,
            "_model_module_version": "1.2.0",
            "_view_count": null,
            "flex_flow": null,
            "width": null,
            "min_width": null,
            "border": null,
            "align_items": null,
            "bottom": null,
            "_model_module": "@jupyter-widgets/base",
            "top": null,
            "grid_column": null,
            "overflow_y": null,
            "overflow_x": null,
            "grid_auto_flow": null,
            "grid_area": null,
            "grid_template_columns": null,
            "flex": null,
            "_model_name": "LayoutModel",
            "justify_items": null,
            "grid_row": null,
            "max_height": null,
            "align_content": null,
            "visibility": null,
            "align_self": null,
            "height": null,
            "min_height": null,
            "padding": null,
            "grid_auto_rows": null,
            "grid_gap": null,
            "max_width": null,
            "order": null,
            "_view_module_version": "1.2.0",
            "grid_template_areas": null,
            "object_position": null,
            "object_fit": null,
            "grid_auto_columns": null,
            "margin": null,
            "display": null,
            "left": null
          }
        },
        "05edd33e3bfe43429eed4d58aee6a107": {
          "model_module": "@jupyter-widgets/controls",
          "model_name": "HBoxModel",
          "state": {
            "_view_name": "HBoxView",
            "_dom_classes": [],
            "_model_name": "HBoxModel",
            "_view_module": "@jupyter-widgets/controls",
            "_model_module_version": "1.5.0",
            "_view_count": null,
            "_view_module_version": "1.5.0",
            "box_style": "",
            "layout": "IPY_MODEL_23b4e1d4e2c648deae6380bf5a743f6e",
            "_model_module": "@jupyter-widgets/controls",
            "children": [
              "IPY_MODEL_f2bfdcce575546c7ac3260d87ced5a8f",
              "IPY_MODEL_b3b860df536943208f1c8b7bb47137e7"
            ]
          }
        },
        "23b4e1d4e2c648deae6380bf5a743f6e": {
          "model_module": "@jupyter-widgets/base",
          "model_name": "LayoutModel",
          "state": {
            "_view_name": "LayoutView",
            "grid_template_rows": null,
            "right": null,
            "justify_content": null,
            "_view_module": "@jupyter-widgets/base",
            "overflow": null,
            "_model_module_version": "1.2.0",
            "_view_count": null,
            "flex_flow": null,
            "width": null,
            "min_width": null,
            "border": null,
            "align_items": null,
            "bottom": null,
            "_model_module": "@jupyter-widgets/base",
            "top": null,
            "grid_column": null,
            "overflow_y": null,
            "overflow_x": null,
            "grid_auto_flow": null,
            "grid_area": null,
            "grid_template_columns": null,
            "flex": null,
            "_model_name": "LayoutModel",
            "justify_items": null,
            "grid_row": null,
            "max_height": null,
            "align_content": null,
            "visibility": null,
            "align_self": null,
            "height": null,
            "min_height": null,
            "padding": null,
            "grid_auto_rows": null,
            "grid_gap": null,
            "max_width": null,
            "order": null,
            "_view_module_version": "1.2.0",
            "grid_template_areas": null,
            "object_position": null,
            "object_fit": null,
            "grid_auto_columns": null,
            "margin": null,
            "display": null,
            "left": null
          }
        },
        "f2bfdcce575546c7ac3260d87ced5a8f": {
          "model_module": "@jupyter-widgets/controls",
          "model_name": "IntProgressModel",
          "state": {
            "_view_name": "ProgressView",
            "style": "IPY_MODEL_94c74ee1ec884168a335cd867167dcdc",
            "_dom_classes": [],
            "description": "epoch 5",
            "_model_name": "IntProgressModel",
            "bar_style": "success",
            "max": 992,
            "_view_module": "@jupyter-widgets/controls",
            "_model_module_version": "1.5.0",
            "value": 992,
            "_view_count": null,
            "_view_module_version": "1.5.0",
            "orientation": "horizontal",
            "min": 0,
            "description_tooltip": null,
            "_model_module": "@jupyter-widgets/controls",
            "layout": "IPY_MODEL_78c1bb3c83b24d3da488c31936b2ff9d"
          }
        },
        "b3b860df536943208f1c8b7bb47137e7": {
          "model_module": "@jupyter-widgets/controls",
          "model_name": "HTMLModel",
          "state": {
            "_view_name": "HTMLView",
            "style": "IPY_MODEL_1f0b20adf2b64037a5957c2e668baed7",
            "_dom_classes": [],
            "description": "",
            "_model_name": "HTMLModel",
            "placeholder": "​",
            "_view_module": "@jupyter-widgets/controls",
            "_model_module_version": "1.5.0",
            "value": "100% 992/992 [00:47&lt;00:00, 22.66it/s, loss=0.11284]",
            "_view_count": null,
            "_view_module_version": "1.5.0",
            "description_tooltip": null,
            "_model_module": "@jupyter-widgets/controls",
            "layout": "IPY_MODEL_6eb2a2920c324016adc14b609bf445c2"
          }
        },
        "94c74ee1ec884168a335cd867167dcdc": {
          "model_module": "@jupyter-widgets/controls",
          "model_name": "ProgressStyleModel",
          "state": {
            "_view_name": "StyleView",
            "_model_name": "ProgressStyleModel",
            "description_width": "initial",
            "_view_module": "@jupyter-widgets/base",
            "_model_module_version": "1.5.0",
            "_view_count": null,
            "_view_module_version": "1.2.0",
            "bar_color": null,
            "_model_module": "@jupyter-widgets/controls"
          }
        },
        "78c1bb3c83b24d3da488c31936b2ff9d": {
          "model_module": "@jupyter-widgets/base",
          "model_name": "LayoutModel",
          "state": {
            "_view_name": "LayoutView",
            "grid_template_rows": null,
            "right": null,
            "justify_content": null,
            "_view_module": "@jupyter-widgets/base",
            "overflow": null,
            "_model_module_version": "1.2.0",
            "_view_count": null,
            "flex_flow": null,
            "width": null,
            "min_width": null,
            "border": null,
            "align_items": null,
            "bottom": null,
            "_model_module": "@jupyter-widgets/base",
            "top": null,
            "grid_column": null,
            "overflow_y": null,
            "overflow_x": null,
            "grid_auto_flow": null,
            "grid_area": null,
            "grid_template_columns": null,
            "flex": null,
            "_model_name": "LayoutModel",
            "justify_items": null,
            "grid_row": null,
            "max_height": null,
            "align_content": null,
            "visibility": null,
            "align_self": null,
            "height": null,
            "min_height": null,
            "padding": null,
            "grid_auto_rows": null,
            "grid_gap": null,
            "max_width": null,
            "order": null,
            "_view_module_version": "1.2.0",
            "grid_template_areas": null,
            "object_position": null,
            "object_fit": null,
            "grid_auto_columns": null,
            "margin": null,
            "display": null,
            "left": null
          }
        },
        "1f0b20adf2b64037a5957c2e668baed7": {
          "model_module": "@jupyter-widgets/controls",
          "model_name": "DescriptionStyleModel",
          "state": {
            "_view_name": "StyleView",
            "_model_name": "DescriptionStyleModel",
            "description_width": "",
            "_view_module": "@jupyter-widgets/base",
            "_model_module_version": "1.5.0",
            "_view_count": null,
            "_view_module_version": "1.2.0",
            "_model_module": "@jupyter-widgets/controls"
          }
        },
        "6eb2a2920c324016adc14b609bf445c2": {
          "model_module": "@jupyter-widgets/base",
          "model_name": "LayoutModel",
          "state": {
            "_view_name": "LayoutView",
            "grid_template_rows": null,
            "right": null,
            "justify_content": null,
            "_view_module": "@jupyter-widgets/base",
            "overflow": null,
            "_model_module_version": "1.2.0",
            "_view_count": null,
            "flex_flow": null,
            "width": null,
            "min_width": null,
            "border": null,
            "align_items": null,
            "bottom": null,
            "_model_module": "@jupyter-widgets/base",
            "top": null,
            "grid_column": null,
            "overflow_y": null,
            "overflow_x": null,
            "grid_auto_flow": null,
            "grid_area": null,
            "grid_template_columns": null,
            "flex": null,
            "_model_name": "LayoutModel",
            "justify_items": null,
            "grid_row": null,
            "max_height": null,
            "align_content": null,
            "visibility": null,
            "align_self": null,
            "height": null,
            "min_height": null,
            "padding": null,
            "grid_auto_rows": null,
            "grid_gap": null,
            "max_width": null,
            "order": null,
            "_view_module_version": "1.2.0",
            "grid_template_areas": null,
            "object_position": null,
            "object_fit": null,
            "grid_auto_columns": null,
            "margin": null,
            "display": null,
            "left": null
          }
        },
        "1d2eef05688647f794746bcfc17d5374": {
          "model_module": "@jupyter-widgets/controls",
          "model_name": "HBoxModel",
          "state": {
            "_view_name": "HBoxView",
            "_dom_classes": [],
            "_model_name": "HBoxModel",
            "_view_module": "@jupyter-widgets/controls",
            "_model_module_version": "1.5.0",
            "_view_count": null,
            "_view_module_version": "1.5.0",
            "box_style": "",
            "layout": "IPY_MODEL_02329b3d067e44bb891d77412f86fe5c",
            "_model_module": "@jupyter-widgets/controls",
            "children": [
              "IPY_MODEL_7048182f0b6b4b49ae096e38e86c355e",
              "IPY_MODEL_9dda0530d1e444a7b7ffb83b5201b01d"
            ]
          }
        },
        "02329b3d067e44bb891d77412f86fe5c": {
          "model_module": "@jupyter-widgets/base",
          "model_name": "LayoutModel",
          "state": {
            "_view_name": "LayoutView",
            "grid_template_rows": null,
            "right": null,
            "justify_content": null,
            "_view_module": "@jupyter-widgets/base",
            "overflow": null,
            "_model_module_version": "1.2.0",
            "_view_count": null,
            "flex_flow": null,
            "width": null,
            "min_width": null,
            "border": null,
            "align_items": null,
            "bottom": null,
            "_model_module": "@jupyter-widgets/base",
            "top": null,
            "grid_column": null,
            "overflow_y": null,
            "overflow_x": null,
            "grid_auto_flow": null,
            "grid_area": null,
            "grid_template_columns": null,
            "flex": null,
            "_model_name": "LayoutModel",
            "justify_items": null,
            "grid_row": null,
            "max_height": null,
            "align_content": null,
            "visibility": null,
            "align_self": null,
            "height": null,
            "min_height": null,
            "padding": null,
            "grid_auto_rows": null,
            "grid_gap": null,
            "max_width": null,
            "order": null,
            "_view_module_version": "1.2.0",
            "grid_template_areas": null,
            "object_position": null,
            "object_fit": null,
            "grid_auto_columns": null,
            "margin": null,
            "display": null,
            "left": null
          }
        },
        "7048182f0b6b4b49ae096e38e86c355e": {
          "model_module": "@jupyter-widgets/controls",
          "model_name": "IntProgressModel",
          "state": {
            "_view_name": "ProgressView",
            "style": "IPY_MODEL_32cb2dfe0e244d85b184473ebca38921",
            "_dom_classes": [],
            "description": "epoch 6",
            "_model_name": "IntProgressModel",
            "bar_style": "success",
            "max": 992,
            "_view_module": "@jupyter-widgets/controls",
            "_model_module_version": "1.5.0",
            "value": 992,
            "_view_count": null,
            "_view_module_version": "1.5.0",
            "orientation": "horizontal",
            "min": 0,
            "description_tooltip": null,
            "_model_module": "@jupyter-widgets/controls",
            "layout": "IPY_MODEL_94ebd4c5830c4c638b58fd2164a94ec7"
          }
        },
        "9dda0530d1e444a7b7ffb83b5201b01d": {
          "model_module": "@jupyter-widgets/controls",
          "model_name": "HTMLModel",
          "state": {
            "_view_name": "HTMLView",
            "style": "IPY_MODEL_adaa843868d948229edb898b3a2c198a",
            "_dom_classes": [],
            "description": "",
            "_model_name": "HTMLModel",
            "placeholder": "​",
            "_view_module": "@jupyter-widgets/controls",
            "_model_module_version": "1.5.0",
            "value": "100% 992/992 [00:47&lt;00:00, 20.74it/s, loss=0.09908]",
            "_view_count": null,
            "_view_module_version": "1.5.0",
            "description_tooltip": null,
            "_model_module": "@jupyter-widgets/controls",
            "layout": "IPY_MODEL_30cecd5fee834d9fabd2ed4fdba52b5c"
          }
        },
        "32cb2dfe0e244d85b184473ebca38921": {
          "model_module": "@jupyter-widgets/controls",
          "model_name": "ProgressStyleModel",
          "state": {
            "_view_name": "StyleView",
            "_model_name": "ProgressStyleModel",
            "description_width": "initial",
            "_view_module": "@jupyter-widgets/base",
            "_model_module_version": "1.5.0",
            "_view_count": null,
            "_view_module_version": "1.2.0",
            "bar_color": null,
            "_model_module": "@jupyter-widgets/controls"
          }
        },
        "94ebd4c5830c4c638b58fd2164a94ec7": {
          "model_module": "@jupyter-widgets/base",
          "model_name": "LayoutModel",
          "state": {
            "_view_name": "LayoutView",
            "grid_template_rows": null,
            "right": null,
            "justify_content": null,
            "_view_module": "@jupyter-widgets/base",
            "overflow": null,
            "_model_module_version": "1.2.0",
            "_view_count": null,
            "flex_flow": null,
            "width": null,
            "min_width": null,
            "border": null,
            "align_items": null,
            "bottom": null,
            "_model_module": "@jupyter-widgets/base",
            "top": null,
            "grid_column": null,
            "overflow_y": null,
            "overflow_x": null,
            "grid_auto_flow": null,
            "grid_area": null,
            "grid_template_columns": null,
            "flex": null,
            "_model_name": "LayoutModel",
            "justify_items": null,
            "grid_row": null,
            "max_height": null,
            "align_content": null,
            "visibility": null,
            "align_self": null,
            "height": null,
            "min_height": null,
            "padding": null,
            "grid_auto_rows": null,
            "grid_gap": null,
            "max_width": null,
            "order": null,
            "_view_module_version": "1.2.0",
            "grid_template_areas": null,
            "object_position": null,
            "object_fit": null,
            "grid_auto_columns": null,
            "margin": null,
            "display": null,
            "left": null
          }
        },
        "adaa843868d948229edb898b3a2c198a": {
          "model_module": "@jupyter-widgets/controls",
          "model_name": "DescriptionStyleModel",
          "state": {
            "_view_name": "StyleView",
            "_model_name": "DescriptionStyleModel",
            "description_width": "",
            "_view_module": "@jupyter-widgets/base",
            "_model_module_version": "1.5.0",
            "_view_count": null,
            "_view_module_version": "1.2.0",
            "_model_module": "@jupyter-widgets/controls"
          }
        },
        "30cecd5fee834d9fabd2ed4fdba52b5c": {
          "model_module": "@jupyter-widgets/base",
          "model_name": "LayoutModel",
          "state": {
            "_view_name": "LayoutView",
            "grid_template_rows": null,
            "right": null,
            "justify_content": null,
            "_view_module": "@jupyter-widgets/base",
            "overflow": null,
            "_model_module_version": "1.2.0",
            "_view_count": null,
            "flex_flow": null,
            "width": null,
            "min_width": null,
            "border": null,
            "align_items": null,
            "bottom": null,
            "_model_module": "@jupyter-widgets/base",
            "top": null,
            "grid_column": null,
            "overflow_y": null,
            "overflow_x": null,
            "grid_auto_flow": null,
            "grid_area": null,
            "grid_template_columns": null,
            "flex": null,
            "_model_name": "LayoutModel",
            "justify_items": null,
            "grid_row": null,
            "max_height": null,
            "align_content": null,
            "visibility": null,
            "align_self": null,
            "height": null,
            "min_height": null,
            "padding": null,
            "grid_auto_rows": null,
            "grid_gap": null,
            "max_width": null,
            "order": null,
            "_view_module_version": "1.2.0",
            "grid_template_areas": null,
            "object_position": null,
            "object_fit": null,
            "grid_auto_columns": null,
            "margin": null,
            "display": null,
            "left": null
          }
        },
        "78154517bac646e0ab61ea864d2dbec2": {
          "model_module": "@jupyter-widgets/controls",
          "model_name": "HBoxModel",
          "state": {
            "_view_name": "HBoxView",
            "_dom_classes": [],
            "_model_name": "HBoxModel",
            "_view_module": "@jupyter-widgets/controls",
            "_model_module_version": "1.5.0",
            "_view_count": null,
            "_view_module_version": "1.5.0",
            "box_style": "",
            "layout": "IPY_MODEL_a72a6d62136840e7bb32e7091d78ea13",
            "_model_module": "@jupyter-widgets/controls",
            "children": [
              "IPY_MODEL_8397852510f143d4b8c0f724564b536a",
              "IPY_MODEL_2acd86846685405abe4786335948fb33"
            ]
          }
        },
        "a72a6d62136840e7bb32e7091d78ea13": {
          "model_module": "@jupyter-widgets/base",
          "model_name": "LayoutModel",
          "state": {
            "_view_name": "LayoutView",
            "grid_template_rows": null,
            "right": null,
            "justify_content": null,
            "_view_module": "@jupyter-widgets/base",
            "overflow": null,
            "_model_module_version": "1.2.0",
            "_view_count": null,
            "flex_flow": null,
            "width": null,
            "min_width": null,
            "border": null,
            "align_items": null,
            "bottom": null,
            "_model_module": "@jupyter-widgets/base",
            "top": null,
            "grid_column": null,
            "overflow_y": null,
            "overflow_x": null,
            "grid_auto_flow": null,
            "grid_area": null,
            "grid_template_columns": null,
            "flex": null,
            "_model_name": "LayoutModel",
            "justify_items": null,
            "grid_row": null,
            "max_height": null,
            "align_content": null,
            "visibility": null,
            "align_self": null,
            "height": null,
            "min_height": null,
            "padding": null,
            "grid_auto_rows": null,
            "grid_gap": null,
            "max_width": null,
            "order": null,
            "_view_module_version": "1.2.0",
            "grid_template_areas": null,
            "object_position": null,
            "object_fit": null,
            "grid_auto_columns": null,
            "margin": null,
            "display": null,
            "left": null
          }
        },
        "8397852510f143d4b8c0f724564b536a": {
          "model_module": "@jupyter-widgets/controls",
          "model_name": "IntProgressModel",
          "state": {
            "_view_name": "ProgressView",
            "style": "IPY_MODEL_ee843bcc660f4952af35a92a853d9bcc",
            "_dom_classes": [],
            "description": "epoch 7",
            "_model_name": "IntProgressModel",
            "bar_style": "success",
            "max": 992,
            "_view_module": "@jupyter-widgets/controls",
            "_model_module_version": "1.5.0",
            "value": 992,
            "_view_count": null,
            "_view_module_version": "1.5.0",
            "orientation": "horizontal",
            "min": 0,
            "description_tooltip": null,
            "_model_module": "@jupyter-widgets/controls",
            "layout": "IPY_MODEL_e566bb7669934c92b18c0e6f7ae487c8"
          }
        },
        "2acd86846685405abe4786335948fb33": {
          "model_module": "@jupyter-widgets/controls",
          "model_name": "HTMLModel",
          "state": {
            "_view_name": "HTMLView",
            "style": "IPY_MODEL_95763cdc0ed642de9f7646aeb101d563",
            "_dom_classes": [],
            "description": "",
            "_model_name": "HTMLModel",
            "placeholder": "​",
            "_view_module": "@jupyter-widgets/controls",
            "_model_module_version": "1.5.0",
            "value": "100% 992/992 [00:47&lt;00:00, 20.70it/s, loss=0.08718]",
            "_view_count": null,
            "_view_module_version": "1.5.0",
            "description_tooltip": null,
            "_model_module": "@jupyter-widgets/controls",
            "layout": "IPY_MODEL_134da0a52fe14c348f4021c033cfeea7"
          }
        },
        "ee843bcc660f4952af35a92a853d9bcc": {
          "model_module": "@jupyter-widgets/controls",
          "model_name": "ProgressStyleModel",
          "state": {
            "_view_name": "StyleView",
            "_model_name": "ProgressStyleModel",
            "description_width": "initial",
            "_view_module": "@jupyter-widgets/base",
            "_model_module_version": "1.5.0",
            "_view_count": null,
            "_view_module_version": "1.2.0",
            "bar_color": null,
            "_model_module": "@jupyter-widgets/controls"
          }
        },
        "e566bb7669934c92b18c0e6f7ae487c8": {
          "model_module": "@jupyter-widgets/base",
          "model_name": "LayoutModel",
          "state": {
            "_view_name": "LayoutView",
            "grid_template_rows": null,
            "right": null,
            "justify_content": null,
            "_view_module": "@jupyter-widgets/base",
            "overflow": null,
            "_model_module_version": "1.2.0",
            "_view_count": null,
            "flex_flow": null,
            "width": null,
            "min_width": null,
            "border": null,
            "align_items": null,
            "bottom": null,
            "_model_module": "@jupyter-widgets/base",
            "top": null,
            "grid_column": null,
            "overflow_y": null,
            "overflow_x": null,
            "grid_auto_flow": null,
            "grid_area": null,
            "grid_template_columns": null,
            "flex": null,
            "_model_name": "LayoutModel",
            "justify_items": null,
            "grid_row": null,
            "max_height": null,
            "align_content": null,
            "visibility": null,
            "align_self": null,
            "height": null,
            "min_height": null,
            "padding": null,
            "grid_auto_rows": null,
            "grid_gap": null,
            "max_width": null,
            "order": null,
            "_view_module_version": "1.2.0",
            "grid_template_areas": null,
            "object_position": null,
            "object_fit": null,
            "grid_auto_columns": null,
            "margin": null,
            "display": null,
            "left": null
          }
        },
        "95763cdc0ed642de9f7646aeb101d563": {
          "model_module": "@jupyter-widgets/controls",
          "model_name": "DescriptionStyleModel",
          "state": {
            "_view_name": "StyleView",
            "_model_name": "DescriptionStyleModel",
            "description_width": "",
            "_view_module": "@jupyter-widgets/base",
            "_model_module_version": "1.5.0",
            "_view_count": null,
            "_view_module_version": "1.2.0",
            "_model_module": "@jupyter-widgets/controls"
          }
        },
        "134da0a52fe14c348f4021c033cfeea7": {
          "model_module": "@jupyter-widgets/base",
          "model_name": "LayoutModel",
          "state": {
            "_view_name": "LayoutView",
            "grid_template_rows": null,
            "right": null,
            "justify_content": null,
            "_view_module": "@jupyter-widgets/base",
            "overflow": null,
            "_model_module_version": "1.2.0",
            "_view_count": null,
            "flex_flow": null,
            "width": null,
            "min_width": null,
            "border": null,
            "align_items": null,
            "bottom": null,
            "_model_module": "@jupyter-widgets/base",
            "top": null,
            "grid_column": null,
            "overflow_y": null,
            "overflow_x": null,
            "grid_auto_flow": null,
            "grid_area": null,
            "grid_template_columns": null,
            "flex": null,
            "_model_name": "LayoutModel",
            "justify_items": null,
            "grid_row": null,
            "max_height": null,
            "align_content": null,
            "visibility": null,
            "align_self": null,
            "height": null,
            "min_height": null,
            "padding": null,
            "grid_auto_rows": null,
            "grid_gap": null,
            "max_width": null,
            "order": null,
            "_view_module_version": "1.2.0",
            "grid_template_areas": null,
            "object_position": null,
            "object_fit": null,
            "grid_auto_columns": null,
            "margin": null,
            "display": null,
            "left": null
          }
        },
        "3b8a476ada5641ba8ab86d40db8559a8": {
          "model_module": "@jupyter-widgets/controls",
          "model_name": "HBoxModel",
          "state": {
            "_view_name": "HBoxView",
            "_dom_classes": [],
            "_model_name": "HBoxModel",
            "_view_module": "@jupyter-widgets/controls",
            "_model_module_version": "1.5.0",
            "_view_count": null,
            "_view_module_version": "1.5.0",
            "box_style": "",
            "layout": "IPY_MODEL_7230c5592926428c97889fb0af1a43ae",
            "_model_module": "@jupyter-widgets/controls",
            "children": [
              "IPY_MODEL_2f87c77e52f84b1699258117831edf60",
              "IPY_MODEL_6d66c64367bf48aea7811669d3b7b198"
            ]
          }
        },
        "7230c5592926428c97889fb0af1a43ae": {
          "model_module": "@jupyter-widgets/base",
          "model_name": "LayoutModel",
          "state": {
            "_view_name": "LayoutView",
            "grid_template_rows": null,
            "right": null,
            "justify_content": null,
            "_view_module": "@jupyter-widgets/base",
            "overflow": null,
            "_model_module_version": "1.2.0",
            "_view_count": null,
            "flex_flow": null,
            "width": null,
            "min_width": null,
            "border": null,
            "align_items": null,
            "bottom": null,
            "_model_module": "@jupyter-widgets/base",
            "top": null,
            "grid_column": null,
            "overflow_y": null,
            "overflow_x": null,
            "grid_auto_flow": null,
            "grid_area": null,
            "grid_template_columns": null,
            "flex": null,
            "_model_name": "LayoutModel",
            "justify_items": null,
            "grid_row": null,
            "max_height": null,
            "align_content": null,
            "visibility": null,
            "align_self": null,
            "height": null,
            "min_height": null,
            "padding": null,
            "grid_auto_rows": null,
            "grid_gap": null,
            "max_width": null,
            "order": null,
            "_view_module_version": "1.2.0",
            "grid_template_areas": null,
            "object_position": null,
            "object_fit": null,
            "grid_auto_columns": null,
            "margin": null,
            "display": null,
            "left": null
          }
        },
        "2f87c77e52f84b1699258117831edf60": {
          "model_module": "@jupyter-widgets/controls",
          "model_name": "IntProgressModel",
          "state": {
            "_view_name": "ProgressView",
            "style": "IPY_MODEL_14535da32c4f47b38e97c67f44a39264",
            "_dom_classes": [],
            "description": "epoch 8",
            "_model_name": "IntProgressModel",
            "bar_style": "success",
            "max": 992,
            "_view_module": "@jupyter-widgets/controls",
            "_model_module_version": "1.5.0",
            "value": 992,
            "_view_count": null,
            "_view_module_version": "1.5.0",
            "orientation": "horizontal",
            "min": 0,
            "description_tooltip": null,
            "_model_module": "@jupyter-widgets/controls",
            "layout": "IPY_MODEL_5fe8789dce5344c8866f9f43c1ec4c0e"
          }
        },
        "6d66c64367bf48aea7811669d3b7b198": {
          "model_module": "@jupyter-widgets/controls",
          "model_name": "HTMLModel",
          "state": {
            "_view_name": "HTMLView",
            "style": "IPY_MODEL_9b69e3c3c96c4254b85d6c5527b2797f",
            "_dom_classes": [],
            "description": "",
            "_model_name": "HTMLModel",
            "placeholder": "​",
            "_view_module": "@jupyter-widgets/controls",
            "_model_module_version": "1.5.0",
            "value": "100% 992/992 [00:47&lt;00:00, 20.79it/s, loss=0.07654]",
            "_view_count": null,
            "_view_module_version": "1.5.0",
            "description_tooltip": null,
            "_model_module": "@jupyter-widgets/controls",
            "layout": "IPY_MODEL_508eb120be194c0b84b0a1ea77e23113"
          }
        },
        "14535da32c4f47b38e97c67f44a39264": {
          "model_module": "@jupyter-widgets/controls",
          "model_name": "ProgressStyleModel",
          "state": {
            "_view_name": "StyleView",
            "_model_name": "ProgressStyleModel",
            "description_width": "initial",
            "_view_module": "@jupyter-widgets/base",
            "_model_module_version": "1.5.0",
            "_view_count": null,
            "_view_module_version": "1.2.0",
            "bar_color": null,
            "_model_module": "@jupyter-widgets/controls"
          }
        },
        "5fe8789dce5344c8866f9f43c1ec4c0e": {
          "model_module": "@jupyter-widgets/base",
          "model_name": "LayoutModel",
          "state": {
            "_view_name": "LayoutView",
            "grid_template_rows": null,
            "right": null,
            "justify_content": null,
            "_view_module": "@jupyter-widgets/base",
            "overflow": null,
            "_model_module_version": "1.2.0",
            "_view_count": null,
            "flex_flow": null,
            "width": null,
            "min_width": null,
            "border": null,
            "align_items": null,
            "bottom": null,
            "_model_module": "@jupyter-widgets/base",
            "top": null,
            "grid_column": null,
            "overflow_y": null,
            "overflow_x": null,
            "grid_auto_flow": null,
            "grid_area": null,
            "grid_template_columns": null,
            "flex": null,
            "_model_name": "LayoutModel",
            "justify_items": null,
            "grid_row": null,
            "max_height": null,
            "align_content": null,
            "visibility": null,
            "align_self": null,
            "height": null,
            "min_height": null,
            "padding": null,
            "grid_auto_rows": null,
            "grid_gap": null,
            "max_width": null,
            "order": null,
            "_view_module_version": "1.2.0",
            "grid_template_areas": null,
            "object_position": null,
            "object_fit": null,
            "grid_auto_columns": null,
            "margin": null,
            "display": null,
            "left": null
          }
        },
        "9b69e3c3c96c4254b85d6c5527b2797f": {
          "model_module": "@jupyter-widgets/controls",
          "model_name": "DescriptionStyleModel",
          "state": {
            "_view_name": "StyleView",
            "_model_name": "DescriptionStyleModel",
            "description_width": "",
            "_view_module": "@jupyter-widgets/base",
            "_model_module_version": "1.5.0",
            "_view_count": null,
            "_view_module_version": "1.2.0",
            "_model_module": "@jupyter-widgets/controls"
          }
        },
        "508eb120be194c0b84b0a1ea77e23113": {
          "model_module": "@jupyter-widgets/base",
          "model_name": "LayoutModel",
          "state": {
            "_view_name": "LayoutView",
            "grid_template_rows": null,
            "right": null,
            "justify_content": null,
            "_view_module": "@jupyter-widgets/base",
            "overflow": null,
            "_model_module_version": "1.2.0",
            "_view_count": null,
            "flex_flow": null,
            "width": null,
            "min_width": null,
            "border": null,
            "align_items": null,
            "bottom": null,
            "_model_module": "@jupyter-widgets/base",
            "top": null,
            "grid_column": null,
            "overflow_y": null,
            "overflow_x": null,
            "grid_auto_flow": null,
            "grid_area": null,
            "grid_template_columns": null,
            "flex": null,
            "_model_name": "LayoutModel",
            "justify_items": null,
            "grid_row": null,
            "max_height": null,
            "align_content": null,
            "visibility": null,
            "align_self": null,
            "height": null,
            "min_height": null,
            "padding": null,
            "grid_auto_rows": null,
            "grid_gap": null,
            "max_width": null,
            "order": null,
            "_view_module_version": "1.2.0",
            "grid_template_areas": null,
            "object_position": null,
            "object_fit": null,
            "grid_auto_columns": null,
            "margin": null,
            "display": null,
            "left": null
          }
        },
        "7f1a641dcc4a4b908f8de6662b8b968a": {
          "model_module": "@jupyter-widgets/controls",
          "model_name": "HBoxModel",
          "state": {
            "_view_name": "HBoxView",
            "_dom_classes": [],
            "_model_name": "HBoxModel",
            "_view_module": "@jupyter-widgets/controls",
            "_model_module_version": "1.5.0",
            "_view_count": null,
            "_view_module_version": "1.5.0",
            "box_style": "",
            "layout": "IPY_MODEL_4650261f37f34728974da4fe61fa491a",
            "_model_module": "@jupyter-widgets/controls",
            "children": [
              "IPY_MODEL_a181e57c95b04b86b09e35602d8d8732",
              "IPY_MODEL_27fb16093bb0496fb8b391a0fd6e7518"
            ]
          }
        },
        "4650261f37f34728974da4fe61fa491a": {
          "model_module": "@jupyter-widgets/base",
          "model_name": "LayoutModel",
          "state": {
            "_view_name": "LayoutView",
            "grid_template_rows": null,
            "right": null,
            "justify_content": null,
            "_view_module": "@jupyter-widgets/base",
            "overflow": null,
            "_model_module_version": "1.2.0",
            "_view_count": null,
            "flex_flow": null,
            "width": null,
            "min_width": null,
            "border": null,
            "align_items": null,
            "bottom": null,
            "_model_module": "@jupyter-widgets/base",
            "top": null,
            "grid_column": null,
            "overflow_y": null,
            "overflow_x": null,
            "grid_auto_flow": null,
            "grid_area": null,
            "grid_template_columns": null,
            "flex": null,
            "_model_name": "LayoutModel",
            "justify_items": null,
            "grid_row": null,
            "max_height": null,
            "align_content": null,
            "visibility": null,
            "align_self": null,
            "height": null,
            "min_height": null,
            "padding": null,
            "grid_auto_rows": null,
            "grid_gap": null,
            "max_width": null,
            "order": null,
            "_view_module_version": "1.2.0",
            "grid_template_areas": null,
            "object_position": null,
            "object_fit": null,
            "grid_auto_columns": null,
            "margin": null,
            "display": null,
            "left": null
          }
        },
        "a181e57c95b04b86b09e35602d8d8732": {
          "model_module": "@jupyter-widgets/controls",
          "model_name": "IntProgressModel",
          "state": {
            "_view_name": "ProgressView",
            "style": "IPY_MODEL_34ff87f6bff049d08943631716e836ea",
            "_dom_classes": [],
            "description": "epoch 9",
            "_model_name": "IntProgressModel",
            "bar_style": "success",
            "max": 992,
            "_view_module": "@jupyter-widgets/controls",
            "_model_module_version": "1.5.0",
            "value": 992,
            "_view_count": null,
            "_view_module_version": "1.5.0",
            "orientation": "horizontal",
            "min": 0,
            "description_tooltip": null,
            "_model_module": "@jupyter-widgets/controls",
            "layout": "IPY_MODEL_6351d95179414fcc94a127172ec46d5c"
          }
        },
        "27fb16093bb0496fb8b391a0fd6e7518": {
          "model_module": "@jupyter-widgets/controls",
          "model_name": "HTMLModel",
          "state": {
            "_view_name": "HTMLView",
            "style": "IPY_MODEL_1797351421d74a32a35824f557547b16",
            "_dom_classes": [],
            "description": "",
            "_model_name": "HTMLModel",
            "placeholder": "​",
            "_view_module": "@jupyter-widgets/controls",
            "_model_module_version": "1.5.0",
            "value": "100% 992/992 [00:47&lt;00:00, 20.76it/s, loss=0.06736]",
            "_view_count": null,
            "_view_module_version": "1.5.0",
            "description_tooltip": null,
            "_model_module": "@jupyter-widgets/controls",
            "layout": "IPY_MODEL_fc13819846724ae08d5c2f9226d5373f"
          }
        },
        "34ff87f6bff049d08943631716e836ea": {
          "model_module": "@jupyter-widgets/controls",
          "model_name": "ProgressStyleModel",
          "state": {
            "_view_name": "StyleView",
            "_model_name": "ProgressStyleModel",
            "description_width": "initial",
            "_view_module": "@jupyter-widgets/base",
            "_model_module_version": "1.5.0",
            "_view_count": null,
            "_view_module_version": "1.2.0",
            "bar_color": null,
            "_model_module": "@jupyter-widgets/controls"
          }
        },
        "6351d95179414fcc94a127172ec46d5c": {
          "model_module": "@jupyter-widgets/base",
          "model_name": "LayoutModel",
          "state": {
            "_view_name": "LayoutView",
            "grid_template_rows": null,
            "right": null,
            "justify_content": null,
            "_view_module": "@jupyter-widgets/base",
            "overflow": null,
            "_model_module_version": "1.2.0",
            "_view_count": null,
            "flex_flow": null,
            "width": null,
            "min_width": null,
            "border": null,
            "align_items": null,
            "bottom": null,
            "_model_module": "@jupyter-widgets/base",
            "top": null,
            "grid_column": null,
            "overflow_y": null,
            "overflow_x": null,
            "grid_auto_flow": null,
            "grid_area": null,
            "grid_template_columns": null,
            "flex": null,
            "_model_name": "LayoutModel",
            "justify_items": null,
            "grid_row": null,
            "max_height": null,
            "align_content": null,
            "visibility": null,
            "align_self": null,
            "height": null,
            "min_height": null,
            "padding": null,
            "grid_auto_rows": null,
            "grid_gap": null,
            "max_width": null,
            "order": null,
            "_view_module_version": "1.2.0",
            "grid_template_areas": null,
            "object_position": null,
            "object_fit": null,
            "grid_auto_columns": null,
            "margin": null,
            "display": null,
            "left": null
          }
        },
        "1797351421d74a32a35824f557547b16": {
          "model_module": "@jupyter-widgets/controls",
          "model_name": "DescriptionStyleModel",
          "state": {
            "_view_name": "StyleView",
            "_model_name": "DescriptionStyleModel",
            "description_width": "",
            "_view_module": "@jupyter-widgets/base",
            "_model_module_version": "1.5.0",
            "_view_count": null,
            "_view_module_version": "1.2.0",
            "_model_module": "@jupyter-widgets/controls"
          }
        },
        "fc13819846724ae08d5c2f9226d5373f": {
          "model_module": "@jupyter-widgets/base",
          "model_name": "LayoutModel",
          "state": {
            "_view_name": "LayoutView",
            "grid_template_rows": null,
            "right": null,
            "justify_content": null,
            "_view_module": "@jupyter-widgets/base",
            "overflow": null,
            "_model_module_version": "1.2.0",
            "_view_count": null,
            "flex_flow": null,
            "width": null,
            "min_width": null,
            "border": null,
            "align_items": null,
            "bottom": null,
            "_model_module": "@jupyter-widgets/base",
            "top": null,
            "grid_column": null,
            "overflow_y": null,
            "overflow_x": null,
            "grid_auto_flow": null,
            "grid_area": null,
            "grid_template_columns": null,
            "flex": null,
            "_model_name": "LayoutModel",
            "justify_items": null,
            "grid_row": null,
            "max_height": null,
            "align_content": null,
            "visibility": null,
            "align_self": null,
            "height": null,
            "min_height": null,
            "padding": null,
            "grid_auto_rows": null,
            "grid_gap": null,
            "max_width": null,
            "order": null,
            "_view_module_version": "1.2.0",
            "grid_template_areas": null,
            "object_position": null,
            "object_fit": null,
            "grid_auto_columns": null,
            "margin": null,
            "display": null,
            "left": null
          }
        }
      }
    }
  },
  "cells": [
    {
      "cell_type": "markdown",
      "metadata": {
        "id": "_8_9PlOmywgx",
        "colab_type": "text"
      },
      "source": [
        "# Assignment 6\n",
        "\n",
        "[3 points] Delelop language model, which generates texts from wikipedia.   \n",
        "Use WikiText-2 dataset, also available in `torchtext.datasets`.  \n",
        "Use `sentencepiece` or `tokenizers` library for text tokenization. Pay attention to vocab size, probably subword tokens are better.    \n",
        "Your model should be autogressive RNN.  \n",
        "[1 point] Plot train and validation loss depending on the number of iterations of gradient decent.  \n",
        "[1 point] Try to use together (`sentencepiece` or `tokenizers`), `torchtext.datasets`, and `torchtext.data.BPTTIterator`  \n",
        "\n",
        "<img src=\"https://github.com/thedenaas/hse_seminars/blob/master/2019/seminar_9/images/lm.jpg?raw=1\" style=\"height:300px\">\n",
        "\n",
        "Text generation should be terminated when either max length is reached or terminal symbol is generated.  \n",
        "Explore several inference techniques:\n",
        "1. [1 point] Argmax\n",
        "1. [1 point] Beamsearch\n",
        "1. [1 point] Sampling from probabilty distribution with temperature\n",
        "1. [1 point] Nucleus sampling\n",
        "1. [1 point] Top-k sampling\n",
        "\n",
        "\n",
        "For every method you should provide implemented code and generated examples. Each example must contain at least 10 words (not subword tokens).\n",
        "\n",
        "Readings:\n",
        "https://arxiv.org/abs/1904.09751"
      ]
    },
    {
      "cell_type": "code",
      "metadata": {
        "id": "HpdjhMlfDptT",
        "colab_type": "code",
        "outputId": "904cbfd9-2d98-4429-a928-8b270de8b7e8",
        "colab": {
          "base_uri": "https://localhost:8080/",
          "height": 101
        }
      },
      "source": [
        "!pip install tokenizers"
      ],
      "execution_count": 1,
      "outputs": [
        {
          "output_type": "stream",
          "text": [
            "Collecting tokenizers\n",
            "\u001b[?25l  Downloading https://files.pythonhosted.org/packages/3e/d8/5af89a486513ef9c1d1f7a8ad6231f3d20e2015fc84533ff7d25005c8717/tokenizers-0.2.1-cp36-cp36m-manylinux1_x86_64.whl (3.6MB)\n",
            "\u001b[K     |████████████████████████████████| 3.7MB 1.4MB/s \n",
            "\u001b[?25hInstalling collected packages: tokenizers\n",
            "Successfully installed tokenizers-0.2.1\n"
          ],
          "name": "stdout"
        }
      ]
    },
    {
      "cell_type": "code",
      "metadata": {
        "id": "4DK91B8O7WCF",
        "colab_type": "code",
        "colab": {
          "base_uri": "https://localhost:8080/",
          "height": 34
        },
        "outputId": "040e60b7-cc22-4146-a3a4-4ca3125bdc7a"
      },
      "source": [
        "import numpy as np\n",
        "import pandas as pd\n",
        "import matplotlib.pyplot as plt\n",
        "import re\n",
        "from tqdm import tqdm_notebook\n",
        "\n",
        "import torch\n",
        "import torch.nn as nn\n",
        "import torch.optim as optim\n",
        "\n",
        "from torchtext.datasets import WikiText2\n",
        "from torchtext import data\n",
        "\n",
        "from tokenizers import SentencePieceBPETokenizer\n",
        "\n",
        "device = torch.device(\"cuda\" if torch.cuda.is_available() else \"cpu\")\n",
        "device"
      ],
      "execution_count": 2,
      "outputs": [
        {
          "output_type": "execute_result",
          "data": {
            "text/plain": [
              "device(type='cuda')"
            ]
          },
          "metadata": {
            "tags": []
          },
          "execution_count": 2
        }
      ]
    },
    {
      "cell_type": "code",
      "metadata": {
        "id": "uGTB7f1l0AKc",
        "colab_type": "code",
        "colab": {}
      },
      "source": [
        "BATCH_SIZE = 64\n",
        "MAX_SEQ_LENGTH = 35"
      ],
      "execution_count": 0,
      "outputs": []
    },
    {
      "cell_type": "code",
      "metadata": {
        "id": "TBlTWymP_1ok",
        "colab_type": "code",
        "outputId": "a9d6d5cf-eaef-4112-95e5-c13adde6f105",
        "colab": {
          "base_uri": "https://localhost:8080/",
          "height": 286
        }
      },
      "source": [
        "!wget https://s3.amazonaws.com/research.metamind.io/wikitext/wikitext-2-v1.zip\n",
        "!unzip 'wikitext-2-v1.zip'"
      ],
      "execution_count": 4,
      "outputs": [
        {
          "output_type": "stream",
          "text": [
            "--2020-02-03 10:20:56--  https://s3.amazonaws.com/research.metamind.io/wikitext/wikitext-2-v1.zip\n",
            "Resolving s3.amazonaws.com (s3.amazonaws.com)... 52.216.10.133\n",
            "Connecting to s3.amazonaws.com (s3.amazonaws.com)|52.216.10.133|:443... connected.\n",
            "HTTP request sent, awaiting response... 200 OK\n",
            "Length: 4475746 (4.3M) [application/zip]\n",
            "Saving to: ‘wikitext-2-v1.zip’\n",
            "\n",
            "wikitext-2-v1.zip   100%[===================>]   4.27M  2.90MB/s    in 1.5s    \n",
            "\n",
            "2020-02-03 10:20:59 (2.90 MB/s) - ‘wikitext-2-v1.zip’ saved [4475746/4475746]\n",
            "\n",
            "Archive:  wikitext-2-v1.zip\n",
            "   creating: wikitext-2/\n",
            "  inflating: wikitext-2/wiki.test.tokens  \n",
            "  inflating: wikitext-2/wiki.valid.tokens  \n",
            "  inflating: wikitext-2/wiki.train.tokens  \n"
          ],
          "name": "stdout"
        }
      ]
    },
    {
      "cell_type": "markdown",
      "metadata": {
        "id": "cYREGKk86nmw",
        "colab_type": "text"
      },
      "source": [
        "# Data preprocessing and loading"
      ]
    },
    {
      "cell_type": "markdown",
      "metadata": {
        "id": "zcywr2nR6wTO",
        "colab_type": "text"
      },
      "source": [
        "First, we need to train sentencepiece tokenizer on our data. \n",
        "\n",
        "Based on: http://mlexplained.com/2018/02/15/language-modeling-tutorial-in-torchtext-practical-torchtext-part-2/"
      ]
    },
    {
      "cell_type": "code",
      "metadata": {
        "id": "qlAabHL66sqE",
        "colab_type": "code",
        "colab": {}
      },
      "source": [
        "def open_file(name):\n",
        "    with open(name, 'r') as file:\n",
        "        text = file.read()\n",
        "    return text\n",
        "\n",
        "def save_file(text, name):\n",
        "    with open('/content/{}.txt'.format(name), 'w') as file:\n",
        "        file.write(text)\n",
        "\n",
        "def clean_data(text):\n",
        "    text = re.sub(r'\\n', ' ', text)\n",
        "    text = re.sub(r'&[a-z]{0,7};', ' ', text)\n",
        "    text = re.sub(r'\\s{2,10}', ' ', text)\n",
        "    text = re.sub(r'\\s{2,10}', ' ', text)\n",
        "    text = re.sub(r'\\\\\\\\x\\d{1,4}', '', text)\n",
        "    text = re.sub(r'=\\s.{3,15}=\\s', '', text)\n",
        "    text = re.sub(r'\\s@', ' ', text)\n",
        "    text = re.sub(r'@\\s', ' ', text)\n",
        "    return text\n",
        "\n",
        "def special_tokens(text):\n",
        "    \"\"\"\n",
        "    Adds <eos> token if eos symbol occures.\n",
        "    \"\"\"\n",
        "    eos = [' .', ' !', ' ?', ' ? !', ' \\'n']\n",
        "    eos_token = '<eos> <start>'\n",
        "    for element in eos:\n",
        "        text = text.replace(element, ' ' + eos_token + ' ')\n",
        "    text = re.sub(r'<start>\\s{2,10}<eos>', ' ', text)\n",
        "    while '  ' in text:\n",
        "        text = re.sub(r'\\s{2,10}', ' ', text)\n",
        "    text = '<start> ' + text\n",
        "    return text"
      ],
      "execution_count": 0,
      "outputs": []
    },
    {
      "cell_type": "code",
      "metadata": {
        "id": "OQPUorrt67cz",
        "colab_type": "code",
        "colab": {}
      },
      "source": [
        "wiki_train = open_file('/content/wikitext-2/wiki.train.tokens')\n",
        "wiki_train = clean_data(wiki_train)\n",
        "wiki_train = special_tokens(wiki_train)\n",
        "save_file(wiki_train, 'wiki_train')\n",
        "\n",
        "wiki_valid = open_file('/content/wikitext-2/wiki.valid.tokens')\n",
        "wiki_valid = clean_data(wiki_valid)\n",
        "wiki_valid = special_tokens(wiki_valid)\n",
        "save_file(wiki_train, 'wiki_valid')"
      ],
      "execution_count": 0,
      "outputs": []
    },
    {
      "cell_type": "markdown",
      "metadata": {
        "id": "OvNnbcKd5AXY",
        "colab_type": "text"
      },
      "source": [
        "No test data used to train tokenizer and to build vocab. "
      ]
    },
    {
      "cell_type": "code",
      "metadata": {
        "id": "TU8U85tB7NEG",
        "colab_type": "code",
        "outputId": "4963fad9-8a71-4a7d-ccea-46b8721dd829",
        "colab": {
          "base_uri": "https://localhost:8080/",
          "height": 34
        }
      },
      "source": [
        "tokenizer = SentencePieceBPETokenizer()\n",
        "tokenizer.train(['/content/wiki_train.txt', '/content/wiki_valid.txt'], special_tokens=['<eos>', '<unk>', '<start>'], vocab_size=30000)\n",
        "tokenizer"
      ],
      "execution_count": 13,
      "outputs": [
        {
          "output_type": "execute_result",
          "data": {
            "text/plain": [
              "Tokenizer(vocabulary_size=30000, model=SentencePieceBPE, unk_token=<unk>, replacement=▁, add_prefix_space=True, dropout=None)"
            ]
          },
          "metadata": {
            "tags": []
          },
          "execution_count": 13
        }
      ]
    },
    {
      "cell_type": "code",
      "metadata": {
        "id": "S9LAAmDj8GA7",
        "colab_type": "code",
        "colab": {}
      },
      "source": [
        "def tokenize(text, tokenizer=tokenizer):\n",
        "    text = clean_data(text)\n",
        "    text = special_tokens(text)\n",
        "    return tokenizer.encode(text).tokens"
      ],
      "execution_count": 0,
      "outputs": []
    },
    {
      "cell_type": "code",
      "metadata": {
        "id": "XuOi1ZIz8G1V",
        "colab_type": "code",
        "outputId": "dd21c7e8-8117-46a5-a914-df6985963782",
        "colab": {
          "base_uri": "https://localhost:8080/",
          "height": 118
        }
      },
      "source": [
        "TEXT = data.Field(sequential=True, include_lengths=False, batch_first=True, tokenize=tokenize,lower=True, pad_first=True)\n",
        "train, valid, test = WikiText2.splits(TEXT)\n",
        "\n",
        "TEXT.build_vocab(train, valid, unk_init = torch.Tensor.normal_, vectors='glove.6B.200d')\n",
        "vocab = TEXT.vocab\n",
        "\n",
        "print('Vocab size:', len(TEXT.vocab.itos))\n",
        "TEXT.vocab.itos[:10]"
      ],
      "execution_count": 15,
      "outputs": [
        {
          "output_type": "stream",
          "text": [
            "downloading wikitext-2-v1.zip\n"
          ],
          "name": "stdout"
        },
        {
          "output_type": "stream",
          "text": [
            "wikitext-2-v1.zip: 100%|██████████| 4.48M/4.48M [00:01<00:00, 2.73MB/s]\n"
          ],
          "name": "stderr"
        },
        {
          "output_type": "stream",
          "text": [
            "extracting\n"
          ],
          "name": "stdout"
        },
        {
          "output_type": "stream",
          "text": [
            ".vector_cache/glove.6B.zip: 862MB [06:30, 2.21MB/s]                           \n",
            "100%|█████████▉| 399206/400000 [00:37<00:00, 10804.71it/s]"
          ],
          "name": "stderr"
        },
        {
          "output_type": "stream",
          "text": [
            "Vocab size: 22825\n"
          ],
          "name": "stdout"
        },
        {
          "output_type": "execute_result",
          "data": {
            "text/plain": [
              "['<unk>', '<pad>', '▁', '▁the', '<eos>', '<start>', '▁,', '▁of', '▁and', '▁in']"
            ]
          },
          "metadata": {
            "tags": []
          },
          "execution_count": 15
        }
      ]
    },
    {
      "cell_type": "code",
      "metadata": {
        "id": "laUe2SJJ8pdh",
        "colab_type": "code",
        "outputId": "38e04c92-03a4-4ee1-a66d-dc295c2658e8",
        "colab": {
          "base_uri": "https://localhost:8080/",
          "height": 34
        }
      },
      "source": [
        "train_iterator, valid_iterator, test_iterator = data.BPTTIterator.splits(\n",
        "    (train, valid, test),\n",
        "    batch_size=BATCH_SIZE,\n",
        "    bptt_len=40,\n",
        "    device=device,\n",
        "    repeat=False)\n",
        "\n",
        "b = next(iter(train_iterator)); vars(b).keys()"
      ],
      "execution_count": 16,
      "outputs": [
        {
          "output_type": "execute_result",
          "data": {
            "text/plain": [
              "dict_keys(['batch_size', 'dataset', 'fields', 'text', 'target'])"
            ]
          },
          "metadata": {
            "tags": []
          },
          "execution_count": 16
        }
      ]
    },
    {
      "cell_type": "markdown",
      "metadata": {
        "id": "xIPFUbBgDABN",
        "colab_type": "text"
      },
      "source": [
        "# Model"
      ]
    },
    {
      "cell_type": "code",
      "metadata": {
        "id": "1yq0hNtDC1KW",
        "colab_type": "code",
        "colab": {}
      },
      "source": [
        "class MyModel(nn.Module):\n",
        "    \n",
        "    def __init__(self, vocab_size, embed_size, hidden_size):\n",
        "        super(MyModel, self).__init__()\n",
        "        self.embedding = nn.Embedding(vocab_size, embed_size)\n",
        "        \n",
        "        self.rnn = nn.LSTM(input_size=embed_size,\n",
        "                           hidden_size=hidden_size,\n",
        "                           bidirectional=True,\n",
        "                           batch_first=True,\n",
        "                          )\n",
        "        \n",
        "        self.fc = nn.Linear(hidden_size * 2, vocab_size)\n",
        "        \n",
        "        self.init_weights()\n",
        "        \n",
        "    def init_weights(self):\n",
        "        nn.init.uniform_(self.embedding.weight)\n",
        "        nn.init.xavier_uniform_(self.fc.weight)\n",
        "        nn.init.zeros_(self.fc.bias)\n",
        "        \n",
        "    def forward(self, batch):\n",
        "        \n",
        "        x = batch.text.T if hasattr(batch, 'text') else batch # because later we pass Tensor here\n",
        "        \n",
        "        x = self.embedding(x)           \n",
        "        x, _ = self.rnn(x)\n",
        "        x = self.fc(x)\n",
        "\n",
        "        return x.transpose(1,2)"
      ],
      "execution_count": 0,
      "outputs": []
    },
    {
      "cell_type": "code",
      "metadata": {
        "id": "dSuRjcyIwvvS",
        "colab_type": "code",
        "colab": {}
      },
      "source": [
        "def _train_epoch(model, iterator, optimizer, criterion, curr_epoch):\n",
        "\n",
        "    model.train()\n",
        "\n",
        "    running_loss = 0\n",
        "    losses = []\n",
        "\n",
        "    n_batches = len(iterator)\n",
        "    iterator = tqdm_notebook(iterator, total=n_batches, desc='epoch %d' % (curr_epoch), leave=True)\n",
        "\n",
        "    for i, batch in enumerate(iterator):\n",
        "        optimizer.zero_grad()\n",
        "\n",
        "        pred = model(batch)\n",
        "        loss = criterion(pred, batch.target.T)\n",
        "        losses.append(loss.item())\n",
        "        loss.backward()\n",
        "        optimizer.step()\n",
        "\n",
        "        curr_loss = loss.data.cpu().detach().item()\n",
        "        \n",
        "        loss_smoothing = i / (i+1)\n",
        "        running_loss = loss_smoothing * running_loss + (1 - loss_smoothing) * curr_loss\n",
        "\n",
        "        iterator.set_postfix(loss='%.5f' % running_loss)\n",
        "\n",
        "    return running_loss, losses\n",
        "\n",
        "def _test_epoch(model, iterator, criterion):\n",
        "    model.eval()\n",
        "    epoch_loss = 0\n",
        "    losses = []\n",
        "\n",
        "    n_batches = len(iterator)\n",
        "    with torch.no_grad():\n",
        "        for batch in iterator:\n",
        "            pred = model(batch)\n",
        "            loss = criterion(pred, batch.target.T)\n",
        "            losses.append(loss.item())\n",
        "            epoch_loss += loss.data.item()\n",
        "\n",
        "    return epoch_loss / n_batches, losses\n",
        "\n",
        "def nn_train(model, train_iterator, valid_iterator, criterion, optimizer, n_epochs=100,\n",
        "          scheduler=None, early_stopping=0):\n",
        "\n",
        "    model = model.to(device)\n",
        "    criterion = criterion.to(device)\n",
        "    \n",
        "    prev_loss = 100500\n",
        "    es_epochs = 0\n",
        "    best_epoch = None\n",
        "    history = pd.DataFrame()\n",
        "\n",
        "    train_losses = []\n",
        "    valid_losses = []\n",
        "\n",
        "    for epoch in range(n_epochs):\n",
        "        train_loss, epoch_tl = _train_epoch(model, train_iterator, optimizer, criterion, epoch)\n",
        "        valid_loss,  epoch_vl = _test_epoch(model, valid_iterator, criterion)\n",
        "        \n",
        "        train_losses.extend(epoch_tl)\n",
        "        valid_losses.extend(epoch_vl)\n",
        "\n",
        "        print('validation loss %.5f' % valid_loss)\n",
        "\n",
        "        record = {'epoch': epoch, 'train_loss': train_loss, 'valid_loss': valid_loss}\n",
        "        history = history.append(record, ignore_index=True)\n",
        "\n",
        "        if early_stopping > 0:\n",
        "            if valid_loss > prev_loss:\n",
        "                es_epochs += 1\n",
        "            else:\n",
        "                es_epochs = 0\n",
        "\n",
        "            if es_epochs >= early_stopping:\n",
        "                best_epoch = history[history.valid_loss == history.valid_loss.min()].iloc[0]\n",
        "                print('Early stopping! best epoch: %d val %.5f' % (best_epoch['epoch'], best_epoch['valid_loss']))\n",
        "                break\n",
        "\n",
        "            prev_loss = min(prev_loss, valid_loss)\n",
        "    return history, train_losses, valid_losses"
      ],
      "execution_count": 0,
      "outputs": []
    },
    {
      "cell_type": "code",
      "metadata": {
        "id": "BxnQgUhTwLEU",
        "colab_type": "code",
        "colab": {}
      },
      "source": [
        "model = MyModel(vocab_size=len(TEXT.vocab.itos),\n",
        "                embed_size=200,\n",
        "                hidden_size=128,\n",
        "               )\n",
        "\n",
        "model.embedding.weight.data.copy_(TEXT.vocab.vectors);\n",
        "\n",
        "optimizer = optim.Adam(model.parameters())\n",
        "scheduler = optim.lr_scheduler.CosineAnnealingLR(optimizer, T_max=5)\n",
        "criterion = nn.CrossEntropyLoss(ignore_index=1)"
      ],
      "execution_count": 0,
      "outputs": []
    },
    {
      "cell_type": "code",
      "metadata": {
        "id": "-QDjHvLbwuZY",
        "colab_type": "code",
        "outputId": "833b8a86-b4c4-4da6-db68-f2bc71083f84",
        "colab": {
          "base_uri": "https://localhost:8080/",
          "height": 522,
          "referenced_widgets": [
            "965c2a2cf61c484596800ea0d4d79d73",
            "8bf3f04dbf8140dfbaadece5b1e35002",
            "c65d204f13f7443b988ef506ca736491",
            "536df08fb3a44305ada72d5e7d42a951",
            "8694506202574461bbfeec9bd4b97074",
            "66d4ac280fa1427baab9f9f06a1f2385",
            "fb56fef8823e46ce959c4ab4896d561c",
            "6661409b0deb41b1a53c1f20ac109532",
            "28016ca7be4e4f8a8dfd27cc4865a91b",
            "f8bc672a786d4d3e9cb0e1793c193be6",
            "6277bb0b8fe344d4853b9c9950ad2531",
            "505d70185c5b4d52a68763d3a45074bf",
            "589351dbfa564afd9b549ac38982e62a",
            "7eeaf496cecd4bdea6981731bbacc337",
            "c8951da0d9b245ad871e20160397c74c",
            "4031f5b3a030456a80a3143dcbb444ed",
            "f2921c1b33c742738682240767255c48",
            "093319c0d98742bd8db4bd3f466502fb",
            "982cc3c6b6d04d49b42e82c5729c814d",
            "ea938e0d967c4abf97bd63c45268c8e8",
            "e18a882c36a44a78bd8fe9e421bd100f",
            "ecfe9b3c79a649c49f17040059415927",
            "1546a5d7e5d44234ba8a4d4a44dff397",
            "21f75ed4d0824c7db882cbae29640694",
            "b74f17a58c2e4fcd95874a439d2a78ce",
            "e3c0ad262ba94104a40764a6475b232c",
            "bbb7afbaf62b48829e53355135e9d0b8",
            "c003bcacff7e44d68dc003dbe4c1d0c4",
            "fe9f2d36d2a8476a9c84be736190ca04",
            "0cd168f75fe1401eb560d9541d9b2008",
            "a7ac1872789b4d0c82540a474fb0df31",
            "3564c335e81b416fb1c6d0c47093a4e1",
            "22d2c6ddcf914e5087959122ea892f83",
            "887d369358dc49e4b96b8695e350e6ae",
            "df6a1e41e448407e9ecbb153c90e718e",
            "d09e57084fd9470dab5d289b4c40e259",
            "a32fb938e96142f9a85f5d0d4d173d8c",
            "4c24120e742142b4aa33e302d075fa07",
            "05c4f3a8a27a4251812888b7b24ce548",
            "2465e1dbfab449568b78e9f9d9e95bb9",
            "05edd33e3bfe43429eed4d58aee6a107",
            "23b4e1d4e2c648deae6380bf5a743f6e",
            "f2bfdcce575546c7ac3260d87ced5a8f",
            "b3b860df536943208f1c8b7bb47137e7",
            "94c74ee1ec884168a335cd867167dcdc",
            "78c1bb3c83b24d3da488c31936b2ff9d",
            "1f0b20adf2b64037a5957c2e668baed7",
            "6eb2a2920c324016adc14b609bf445c2",
            "1d2eef05688647f794746bcfc17d5374",
            "02329b3d067e44bb891d77412f86fe5c",
            "7048182f0b6b4b49ae096e38e86c355e",
            "9dda0530d1e444a7b7ffb83b5201b01d",
            "32cb2dfe0e244d85b184473ebca38921",
            "94ebd4c5830c4c638b58fd2164a94ec7",
            "adaa843868d948229edb898b3a2c198a",
            "30cecd5fee834d9fabd2ed4fdba52b5c",
            "78154517bac646e0ab61ea864d2dbec2",
            "a72a6d62136840e7bb32e7091d78ea13",
            "8397852510f143d4b8c0f724564b536a",
            "2acd86846685405abe4786335948fb33",
            "ee843bcc660f4952af35a92a853d9bcc",
            "e566bb7669934c92b18c0e6f7ae487c8",
            "95763cdc0ed642de9f7646aeb101d563",
            "134da0a52fe14c348f4021c033cfeea7",
            "3b8a476ada5641ba8ab86d40db8559a8",
            "7230c5592926428c97889fb0af1a43ae",
            "2f87c77e52f84b1699258117831edf60",
            "6d66c64367bf48aea7811669d3b7b198",
            "14535da32c4f47b38e97c67f44a39264",
            "5fe8789dce5344c8866f9f43c1ec4c0e",
            "9b69e3c3c96c4254b85d6c5527b2797f",
            "508eb120be194c0b84b0a1ea77e23113",
            "7f1a641dcc4a4b908f8de6662b8b968a",
            "4650261f37f34728974da4fe61fa491a",
            "a181e57c95b04b86b09e35602d8d8732",
            "27fb16093bb0496fb8b391a0fd6e7518",
            "34ff87f6bff049d08943631716e836ea",
            "6351d95179414fcc94a127172ec46d5c",
            "1797351421d74a32a35824f557547b16",
            "fc13819846724ae08d5c2f9226d5373f"
          ]
        }
      },
      "source": [
        "history, train_losses, valid_losses = nn_train(model, train_iterator, valid_iterator, criterion, optimizer, scheduler=scheduler, \n",
        "        n_epochs=10, early_stopping=2)"
      ],
      "execution_count": 22,
      "outputs": [
        {
          "output_type": "display_data",
          "data": {
            "application/vnd.jupyter.widget-view+json": {
              "model_id": "965c2a2cf61c484596800ea0d4d79d73",
              "version_minor": 0,
              "version_major": 2
            },
            "text/plain": [
              "HBox(children=(IntProgress(value=0, description='epoch 0', max=992, style=ProgressStyle(description_width='ini…"
            ]
          },
          "metadata": {
            "tags": []
          }
        },
        {
          "output_type": "stream",
          "text": [
            "validation loss 1.56232\n"
          ],
          "name": "stdout"
        },
        {
          "output_type": "display_data",
          "data": {
            "application/vnd.jupyter.widget-view+json": {
              "model_id": "28016ca7be4e4f8a8dfd27cc4865a91b",
              "version_minor": 0,
              "version_major": 2
            },
            "text/plain": [
              "HBox(children=(IntProgress(value=0, description='epoch 1', max=992, style=ProgressStyle(description_width='ini…"
            ]
          },
          "metadata": {
            "tags": []
          }
        },
        {
          "output_type": "stream",
          "text": [
            "validation loss 0.54304\n"
          ],
          "name": "stdout"
        },
        {
          "output_type": "display_data",
          "data": {
            "application/vnd.jupyter.widget-view+json": {
              "model_id": "f2921c1b33c742738682240767255c48",
              "version_minor": 0,
              "version_major": 2
            },
            "text/plain": [
              "HBox(children=(IntProgress(value=0, description='epoch 2', max=992, style=ProgressStyle(description_width='ini…"
            ]
          },
          "metadata": {
            "tags": []
          }
        },
        {
          "output_type": "stream",
          "text": [
            "validation loss 0.29360\n"
          ],
          "name": "stdout"
        },
        {
          "output_type": "display_data",
          "data": {
            "application/vnd.jupyter.widget-view+json": {
              "model_id": "b74f17a58c2e4fcd95874a439d2a78ce",
              "version_minor": 0,
              "version_major": 2
            },
            "text/plain": [
              "HBox(children=(IntProgress(value=0, description='epoch 3', max=992, style=ProgressStyle(description_width='ini…"
            ]
          },
          "metadata": {
            "tags": []
          }
        },
        {
          "output_type": "stream",
          "text": [
            "validation loss 0.22045\n"
          ],
          "name": "stdout"
        },
        {
          "output_type": "display_data",
          "data": {
            "application/vnd.jupyter.widget-view+json": {
              "model_id": "22d2c6ddcf914e5087959122ea892f83",
              "version_minor": 0,
              "version_major": 2
            },
            "text/plain": [
              "HBox(children=(IntProgress(value=0, description='epoch 4', max=992, style=ProgressStyle(description_width='ini…"
            ]
          },
          "metadata": {
            "tags": []
          }
        },
        {
          "output_type": "stream",
          "text": [
            "validation loss 0.19572\n"
          ],
          "name": "stdout"
        },
        {
          "output_type": "display_data",
          "data": {
            "application/vnd.jupyter.widget-view+json": {
              "model_id": "05edd33e3bfe43429eed4d58aee6a107",
              "version_minor": 0,
              "version_major": 2
            },
            "text/plain": [
              "HBox(children=(IntProgress(value=0, description='epoch 5', max=992, style=ProgressStyle(description_width='ini…"
            ]
          },
          "metadata": {
            "tags": []
          }
        },
        {
          "output_type": "stream",
          "text": [
            "validation loss 0.18533\n"
          ],
          "name": "stdout"
        },
        {
          "output_type": "display_data",
          "data": {
            "application/vnd.jupyter.widget-view+json": {
              "model_id": "1d2eef05688647f794746bcfc17d5374",
              "version_minor": 0,
              "version_major": 2
            },
            "text/plain": [
              "HBox(children=(IntProgress(value=0, description='epoch 6', max=992, style=ProgressStyle(description_width='ini…"
            ]
          },
          "metadata": {
            "tags": []
          }
        },
        {
          "output_type": "stream",
          "text": [
            "validation loss 0.18088\n"
          ],
          "name": "stdout"
        },
        {
          "output_type": "display_data",
          "data": {
            "application/vnd.jupyter.widget-view+json": {
              "model_id": "78154517bac646e0ab61ea864d2dbec2",
              "version_minor": 0,
              "version_major": 2
            },
            "text/plain": [
              "HBox(children=(IntProgress(value=0, description='epoch 7', max=992, style=ProgressStyle(description_width='ini…"
            ]
          },
          "metadata": {
            "tags": []
          }
        },
        {
          "output_type": "stream",
          "text": [
            "validation loss 0.17955\n"
          ],
          "name": "stdout"
        },
        {
          "output_type": "display_data",
          "data": {
            "application/vnd.jupyter.widget-view+json": {
              "model_id": "3b8a476ada5641ba8ab86d40db8559a8",
              "version_minor": 0,
              "version_major": 2
            },
            "text/plain": [
              "HBox(children=(IntProgress(value=0, description='epoch 8', max=992, style=ProgressStyle(description_width='ini…"
            ]
          },
          "metadata": {
            "tags": []
          }
        },
        {
          "output_type": "stream",
          "text": [
            "validation loss 0.17993\n"
          ],
          "name": "stdout"
        },
        {
          "output_type": "display_data",
          "data": {
            "application/vnd.jupyter.widget-view+json": {
              "model_id": "7f1a641dcc4a4b908f8de6662b8b968a",
              "version_minor": 0,
              "version_major": 2
            },
            "text/plain": [
              "HBox(children=(IntProgress(value=0, description='epoch 9', max=992, style=ProgressStyle(description_width='ini…"
            ]
          },
          "metadata": {
            "tags": []
          }
        },
        {
          "output_type": "stream",
          "text": [
            "validation loss 0.18112\n",
            "Early stopping! best epoch: 7 val 0.17955\n"
          ],
          "name": "stdout"
        }
      ]
    },
    {
      "cell_type": "code",
      "metadata": {
        "id": "kMuvJK3_A_aJ",
        "colab_type": "code",
        "colab": {}
      },
      "source": [
        "torch.save(model.state_dict(), '/content/model')"
      ],
      "execution_count": 0,
      "outputs": []
    },
    {
      "cell_type": "code",
      "metadata": {
        "id": "nXJsg3U2QWdR",
        "colab_type": "code",
        "outputId": "fca9dc9f-160d-4b3b-e1c4-381f20a64120",
        "colab": {
          "base_uri": "https://localhost:8080/",
          "height": 343
        }
      },
      "source": [
        "history"
      ],
      "execution_count": 24,
      "outputs": [
        {
          "output_type": "execute_result",
          "data": {
            "text/html": [
              "<div>\n",
              "<style scoped>\n",
              "    .dataframe tbody tr th:only-of-type {\n",
              "        vertical-align: middle;\n",
              "    }\n",
              "\n",
              "    .dataframe tbody tr th {\n",
              "        vertical-align: top;\n",
              "    }\n",
              "\n",
              "    .dataframe thead th {\n",
              "        text-align: right;\n",
              "    }\n",
              "</style>\n",
              "<table border=\"1\" class=\"dataframe\">\n",
              "  <thead>\n",
              "    <tr style=\"text-align: right;\">\n",
              "      <th></th>\n",
              "      <th>epoch</th>\n",
              "      <th>train_loss</th>\n",
              "      <th>valid_loss</th>\n",
              "    </tr>\n",
              "  </thead>\n",
              "  <tbody>\n",
              "    <tr>\n",
              "      <th>0</th>\n",
              "      <td>0.0</td>\n",
              "      <td>3.533490</td>\n",
              "      <td>1.562319</td>\n",
              "    </tr>\n",
              "    <tr>\n",
              "      <th>1</th>\n",
              "      <td>1.0</td>\n",
              "      <td>1.016376</td>\n",
              "      <td>0.543039</td>\n",
              "    </tr>\n",
              "    <tr>\n",
              "      <th>2</th>\n",
              "      <td>2.0</td>\n",
              "      <td>0.368796</td>\n",
              "      <td>0.293597</td>\n",
              "    </tr>\n",
              "    <tr>\n",
              "      <th>3</th>\n",
              "      <td>3.0</td>\n",
              "      <td>0.186225</td>\n",
              "      <td>0.220449</td>\n",
              "    </tr>\n",
              "    <tr>\n",
              "      <th>4</th>\n",
              "      <td>4.0</td>\n",
              "      <td>0.133631</td>\n",
              "      <td>0.195716</td>\n",
              "    </tr>\n",
              "    <tr>\n",
              "      <th>5</th>\n",
              "      <td>5.0</td>\n",
              "      <td>0.112839</td>\n",
              "      <td>0.185334</td>\n",
              "    </tr>\n",
              "    <tr>\n",
              "      <th>6</th>\n",
              "      <td>6.0</td>\n",
              "      <td>0.099077</td>\n",
              "      <td>0.180882</td>\n",
              "    </tr>\n",
              "    <tr>\n",
              "      <th>7</th>\n",
              "      <td>7.0</td>\n",
              "      <td>0.087176</td>\n",
              "      <td>0.179545</td>\n",
              "    </tr>\n",
              "    <tr>\n",
              "      <th>8</th>\n",
              "      <td>8.0</td>\n",
              "      <td>0.076539</td>\n",
              "      <td>0.179930</td>\n",
              "    </tr>\n",
              "    <tr>\n",
              "      <th>9</th>\n",
              "      <td>9.0</td>\n",
              "      <td>0.067361</td>\n",
              "      <td>0.181119</td>\n",
              "    </tr>\n",
              "  </tbody>\n",
              "</table>\n",
              "</div>"
            ],
            "text/plain": [
              "   epoch  train_loss  valid_loss\n",
              "0    0.0    3.533490    1.562319\n",
              "1    1.0    1.016376    0.543039\n",
              "2    2.0    0.368796    0.293597\n",
              "3    3.0    0.186225    0.220449\n",
              "4    4.0    0.133631    0.195716\n",
              "5    5.0    0.112839    0.185334\n",
              "6    6.0    0.099077    0.180882\n",
              "7    7.0    0.087176    0.179545\n",
              "8    8.0    0.076539    0.179930\n",
              "9    9.0    0.067361    0.181119"
            ]
          },
          "metadata": {
            "tags": []
          },
          "execution_count": 24
        }
      ]
    },
    {
      "cell_type": "code",
      "metadata": {
        "id": "hxweudGrfoE6",
        "colab_type": "code",
        "outputId": "c5cb26d4-17c3-48f0-e09e-5b19878ea45b",
        "colab": {
          "base_uri": "https://localhost:8080/",
          "height": 393
        }
      },
      "source": [
        "plt.figure(figsize=(10,6))\n",
        "plt.plot(np.arange(len(history['train_loss'])), history['train_loss'], label='Train')\n",
        "plt.plot(np.arange(len(history['valid_loss'])), history['valid_loss'], label='Valid')\n",
        "plt.xlabel('Epochs', fontsize=15)\n",
        "plt.ylabel('Loss', fontsize=15)\n",
        "plt.legend(fontsize='x-large')\n",
        "plt.show()"
      ],
      "execution_count": 25,
      "outputs": [
        {
          "output_type": "display_data",
          "data": {
            "image/png": "[encoded data removed]",
            "text/plain": [
              "<Figure size 720x432 with 1 Axes>"
            ]
          },
          "metadata": {
            "tags": []
          }
        }
      ]
    },
    {
      "cell_type": "code",
      "metadata": {
        "id": "X_RQB3FEV7gM",
        "colab_type": "code",
        "colab": {}
      },
      "source": [
        "# because of different lengths I make validation_losses more like training losses to plot them in the same scale\n",
        "new_val = [el for el in valid_losses for i in range(10)]"
      ],
      "execution_count": 0,
      "outputs": []
    },
    {
      "cell_type": "code",
      "metadata": {
        "id": "eJwXXcNIMvZP",
        "colab_type": "code",
        "outputId": "2777fd43-902c-4574-a77d-846586ad599b",
        "colab": {
          "base_uri": "https://localhost:8080/",
          "height": 409
        }
      },
      "source": [
        "plt.figure(figsize=(10,6))\n",
        "plt.plot(new_val, label='Validation loss')\n",
        "plt.plot(train_losses, label='Training loss')\n",
        "plt.ylabel('Loss', fontsize=15)\n",
        "plt.xlabel('№ of Iteration', fontsize=15)\n",
        "plt.title('Train and validation loss depending on the number of iterations of gradient decent.', fontsize=13)\n",
        "plt.legend(fontsize='x-large', shadow=True)\n",
        "plt.show()"
      ],
      "execution_count": 27,
      "outputs": [
        {
          "output_type": "display_data",
          "data": {
            "image/png": "[encoded data removed]",
            "text/plain": [
              "<Figure size 720x432 with 1 Axes>"
            ]
          },
          "metadata": {
            "tags": []
          }
        }
      ]
    },
    {
      "cell_type": "markdown",
      "metadata": {
        "id": "Zon423L26TdY",
        "colab_type": "text"
      },
      "source": [
        "# Prediction"
      ]
    },
    {
      "cell_type": "code",
      "metadata": {
        "id": "5S7w0svAUhlZ",
        "colab_type": "code",
        "colab": {}
      },
      "source": [
        "def decode(sequence):\n",
        "    return [vocab.itos[token] for token in sequence]"
      ],
      "execution_count": 0,
      "outputs": []
    },
    {
      "cell_type": "code",
      "metadata": {
        "id": "rqCGvRt1GoQ6",
        "colab_type": "code",
        "colab": {}
      },
      "source": [
        "def make_text(sequence):\n",
        "    \n",
        "    text = ''\n",
        "\n",
        "    for element in sequence:\n",
        "        if element.startswith('▁'):\n",
        "            text += element[1:] if len(element) > 1 else ' '\n",
        "        else:\n",
        "            text += element\n",
        "        text += ' '\n",
        "    text = re.sub(r'\\s{2,5}', ' ', text)\n",
        "    return text"
      ],
      "execution_count": 0,
      "outputs": []
    },
    {
      "cell_type": "code",
      "metadata": {
        "id": "4j__Xq5U8kaZ",
        "colab_type": "code",
        "colab": {}
      },
      "source": [
        "def predict(start_tokens, prediction_type, \n",
        "            model=model, max_length=MAX_SEQ_LENGTH, eos_id=vocab.stoi['<eos>']):\n",
        "    \"\"\"\n",
        "    Returns sequence of ids\n",
        "    \"\"\"\n",
        "    \n",
        "    result_ids = start_tokens.tolist()\n",
        "    counter = 0\n",
        "    \n",
        "    start_tokens = start_tokens.unsqueeze(0)\n",
        "\n",
        "    with torch.no_grad():\n",
        "        while counter < max_length:        \n",
        "            \n",
        "            pred = model(start_tokens) # size: batch_size, vocab_size, seq_length\n",
        "            pred = pred.transpose(1,2) # size: batch_size, seq_length, vocab_size\n",
        "            pred_id = prediction_type(pred) #TOKEN_ID\n",
        "            result_ids.append(pred_id)\n",
        "            start_tokens = torch.cat((start_tokens, \n",
        "                                      torch.tensor([pred_id]).unsqueeze(0).T.to(device)), \n",
        "                                      dim=1)\n",
        "\n",
        "            counter += 1\n",
        "\n",
        "            if (counter >= 10) and (pred_id == eos_id):\n",
        "                return result_ids\n",
        "    return result_ids"
      ],
      "execution_count": 0,
      "outputs": []
    },
    {
      "cell_type": "code",
      "metadata": {
        "id": "VIbuByJd6Wsg",
        "colab_type": "code",
        "outputId": "f30da3af-5a5f-48d7-aaba-08bc660aa465",
        "colab": {
          "base_uri": "https://localhost:8080/",
          "height": 168
        }
      },
      "source": [
        "to_predict = [] # these are the sentences we will be predicting on\n",
        "for i, batch in enumerate(test_iterator):\n",
        "    if i % 14 == 0 and i > 0:\n",
        "        to_predict.append(batch.text[:6, 1])\n",
        "to_predict.append(torch.tensor([5]).to(device))\n",
        "\n",
        "for example in to_predict:\n",
        "    print(decode(example))"
      ],
      "execution_count": 66,
      "outputs": [
        {
          "output_type": "stream",
          "text": [
            "['▁language', '▁makes', '▁use', '▁of', '▁all', '▁the']\n",
            "['▁for', '▁his', '▁use', '▁of', '▁simple', '▁,']\n",
            "['▁of', '▁', '<unk>', '▁poetry', '▁,', '▁asked']\n",
            "['▁through', '▁very', '▁well', '▁in', '▁translation', '▁\"']\n",
            "['▁one', '▁dire', 'ction', '▁performed', '▁\"', '▁kiss']\n",
            "['▁the', '▁number', '▁was', '▁released', '▁digitally', '▁in']\n",
            "['▁', '▁=', '▁=', '▁commercial', '▁performance', '▁=']\n",
            "['▁\"', '▁live', '▁while', '▁we', \"▁'re\", '▁young']\n",
            "['<start>']\n"
          ],
          "name": "stdout"
        }
      ]
    },
    {
      "cell_type": "code",
      "metadata": {
        "id": "4E79X38pQtVH",
        "colab_type": "code",
        "colab": {}
      },
      "source": [
        "def show_predictions(to_predict, pred_func, model, decode=decode, make_text=make_text):\n",
        "    for el in to_predict:\n",
        "        text_ids = predict(start_tokens=el, prediction_type=pred_func, model=model)\n",
        "        tokens_list = decode(text_ids)\n",
        "        \n",
        "        initial = tokens_list[:len(el)]\n",
        "        generated = tokens_list[len(el):]\n",
        "        print('Initial Text: ', make_text(initial))\n",
        "        print('Generated Text: ', make_text(generated))\n",
        "        print('')"
      ],
      "execution_count": 0,
      "outputs": []
    },
    {
      "cell_type": "markdown",
      "metadata": {
        "id": "EmeRXNVTVP3f",
        "colab_type": "text"
      },
      "source": [
        "## [1 point] Argmax prediction"
      ]
    },
    {
      "cell_type": "code",
      "metadata": {
        "id": "y5niOe1FHZQz",
        "colab_type": "code",
        "colab": {}
      },
      "source": [
        "def argmax_pred(tensor_out):\n",
        "    tokens_probs = torch.softmax(tensor_out, dim=2)\n",
        "    pred_id = torch.argmax(tokens_probs[0, -1, :]).item()\n",
        "    return pred_id"
      ],
      "execution_count": 0,
      "outputs": []
    },
    {
      "cell_type": "code",
      "metadata": {
        "id": "R_ZDNSkzJxQ4",
        "colab_type": "code",
        "outputId": "98104122-ec7b-4925-9b1b-3618c3e0d823",
        "colab": {
          "base_uri": "https://localhost:8080/",
          "height": 470
        }
      },
      "source": [
        "show_predictions(to_predict, argmax_pred, model)"
      ],
      "execution_count": 68,
      "outputs": [
        {
          "output_type": "stream",
          "text": [
            "Initial Text:  language makes use of all the \n",
            "Generated Text:   <unk> of the <unk> of the <unk> of the <unk> of the <unk> of the <unk> of the <unk> of the <unk> of the <unk> of \n",
            "\n",
            "Initial Text:  for his use of simple , \n",
            "Generated Text:  and his ph obia , the \" <unk> \" <unk> \" <eos> \n",
            "\n",
            "Initial Text:  of <unk> poetry , asked \n",
            "Generated Text:   <eos> <start> <eos> <start> <eos> \n",
            "\n",
            "Initial Text:  through very well in translation \" \n",
            "Generated Text:  , which was \" <unk> \" <eos> <start> \" <eos> \n",
            "\n",
            "Initial Text:  one dire ction performed \" kiss \n",
            "Generated Text:  at the \" <unk> \" , the <unk> of the <unk> of the <unk> of the <unk> of the <unk> of the <unk> of the <unk> of \n",
            "\n",
            "Initial Text:  the number was released digitally in \n",
            "Generated Text:  the united states <eos> <start> <eos> <start> <eos> \n",
            "\n",
            "Initial Text:   = = commercial performance = \n",
            "Generated Text:  = <eos> <start> <eos> <start> <eos> \n",
            "\n",
            "Initial Text:  \" live while we 're young \n",
            "Generated Text:  leave the <unk> of the <unk> of the <unk> of the <unk> of the <unk> of the <unk> of the <unk> of the <unk> of the \n",
            "\n",
            "Initial Text:  <start> \n",
            "Generated Text:   <eos> <start> <eos> <start> <eos> \n",
            "\n"
          ],
          "name": "stdout"
        }
      ]
    },
    {
      "cell_type": "markdown",
      "metadata": {
        "id": "l46AHKOQaiv1",
        "colab_type": "text"
      },
      "source": [
        "## [1 point] Beamsearch"
      ]
    },
    {
      "cell_type": "code",
      "metadata": {
        "id": "Qy2gSE1f6Un-",
        "colab_type": "code",
        "colab": {}
      },
      "source": [
        "def beam_search(input_seq, model=model, max_length=MAX_SEQ_LENGTH, k=3, end_token=vocab.stoi['<eos>']):\n",
        "    \"\"\"\n",
        "    imput_seq:  Torch tensor 1d\n",
        "    return: List of k sequences of token_ids.\n",
        "    \"\"\"\n",
        "    beam = [(input_seq, 0)]\n",
        "    start_tokens = input_seq.unsqueeze(0)\n",
        "    \n",
        "    with torch.no_grad():\n",
        "        counter = 0        \n",
        "        while counter < max_length:\n",
        "\n",
        "            candidates = []\n",
        "            counter += 1\n",
        "\n",
        "            for start, prob in beam:\n",
        "        \n",
        "                if (start[-1] == end_token) and counter >= 15:\n",
        "                    candidates.append(start)\n",
        "                \n",
        "                else:\n",
        "                    pred = model(start.unsqueeze(0)) #start_tokens\n",
        "                    pred = pred.transpose(1,2) # (batch_size, seq_length, vocab_size)\n",
        "\n",
        "                    sorted_idx = torch.argsort(pred, dim=2, descending=True)[0,-1,:][:k]\n",
        "                    sorted_logits = torch.sort(pred, dim=2, descending=True).values[0,-1,:][:k]\n",
        "\n",
        "                    candidates += [(torch.cat((start, sorted_idx[i].unsqueeze(0))), \n",
        "                                    prob + sorted_logits[i].item()) for  i in range(k)]\n",
        "            beam = sorted(candidates, key=lambda x:x[1])[:k] \n",
        "    return beam"
      ],
      "execution_count": 0,
      "outputs": []
    },
    {
      "cell_type": "code",
      "metadata": {
        "id": "EaE5qFt51_o2",
        "colab_type": "code",
        "outputId": "9c0cf288-026e-47bb-9317-1ab37f64e5de",
        "colab": {
          "base_uri": "https://localhost:8080/",
          "height": 1000
        }
      },
      "source": [
        "for ind, el in enumerate(to_predict):\n",
        "        beams = beam_search(input_seq=el)\n",
        "        print('===== EXAMPLE № {} ====='.format(ind))\n",
        "        for element in beams:\n",
        "            element = decode(element[0].tolist())\n",
        "            initial = element[:len(el)]\n",
        "            generated = element[len(el):]\n",
        "            print('Initial Text: ', make_text(initial))\n",
        "            print('Generated Text: ', make_text(generated))\n",
        "            print(' ')"
      ],
      "execution_count": 89,
      "outputs": [
        {
          "output_type": "stream",
          "text": [
            "===== EXAMPLE № 0 =====\n",
            "Initial Text:  language makes use of all the \n",
            "Generated Text:  \" ჯ 's death ჯ ჯ and the first conservation conservation conservation of a new jetport orld in which was ს the film the film , and his only \n",
            " \n",
            "Initial Text:  language makes use of all the \n",
            "Generated Text:  \" ჯ 's death ჯ ჯ and the first conservation conservation conservation of a new jetport orld in which was ს the film the film , and his ph \n",
            " \n",
            "Initial Text:  language makes use of all the \n",
            "Generated Text:  \" ჯ 's death ჯ ჯ and the first conservation conservation conservation of a new jetport orld in which was ს the film the film the film , \n",
            " \n",
            "===== EXAMPLE № 1 =====\n",
            "Initial Text:  for his use of simple , \n",
            "Generated Text:  the cathedral was in an interview of which primordial and then , the film 's death , was a normal one that time the film ჯ , a small fishing of the film \n",
            " \n",
            "Initial Text:  for his use of simple , \n",
            "Generated Text:  the cathedral was in an interview of which primordial and then , the film 's death , was a normal one that time the film ჯ , a small fishing of the film , \n",
            " \n",
            "Initial Text:  for his use of simple , \n",
            "Generated Text:  the cathedral was in an interview of which primordial and then , the film 's death , was a normal one that time the film ჯ , a small fishing of the cathedral , \n",
            " \n",
            "===== EXAMPLE № 2 =====\n",
            "Initial Text:  of <unk> poetry , asked \n",
            "Generated Text:   ჯ s were relegated to a professional career ჯ on their third and tut ours of the \" , \" the film ჯ 's death was a normal by a \" case \n",
            " \n",
            "Initial Text:  of <unk> poetry , asked \n",
            "Generated Text:   ჯ s were relegated to a professional career ჯ on their third and tut ours of the \" , \" the film ჯ 's death was a normal by a of \n",
            " \n",
            "Initial Text:  of <unk> poetry , asked \n",
            "Generated Text:   ჯ s were relegated to a professional career ჯ on their third and tut ours of the \" , \" the film ჯ 's death was a normal by a \" \n",
            " \n",
            "===== EXAMPLE № 3 =====\n",
            "Initial Text:  through very well in translation \" \n",
            "Generated Text:  in which the \" , the \" ir rad , and it \" in \" the ს , the film , the first two other reptiles - term term in unconventional to be able \n",
            " \n",
            "Initial Text:  through very well in translation \" \n",
            "Generated Text:  in which the \" , the \" ir rad , and it \" in \" the ს , the film , the first two other reptiles - term term in unconventional in order \n",
            " \n",
            "Initial Text:  through very well in translation \" \n",
            "Generated Text:  in which the \" , the \" ir rad , and it \" in \" the ს , the film , the first two other reptiles - term term in unconventional to his character \n",
            " \n",
            "===== EXAMPLE № 4 =====\n",
            "Initial Text:  one dire ction performed \" kiss \n",
            "Generated Text:  at number ჯ 's home guard boat , the first game 's oldest party receiving , the first conservation of phenomena , who were relegated on ს , the first installment was \n",
            " \n",
            "Initial Text:  one dire ction performed \" kiss \n",
            "Generated Text:  at number ჯ 's home guard boat , the first game 's oldest party receiving , the first conservation of phenomena , who were relegated on ს , the first installment was the \n",
            " \n",
            "Initial Text:  one dire ction performed \" kiss \n",
            "Generated Text:  at number ჯ 's home guard boat , the first game 's oldest party receiving , the first conservation of phenomena , who were relegated on ს , the first installment was in \n",
            " \n",
            "===== EXAMPLE № 5 =====\n",
            "Initial Text:  the number was released digitally in \n",
            "Generated Text:   ჯ ჯ on his mlb to the two ჯ on his book of phenomena , and the first two rivers ( avre and tut core , the first two other reptiles \n",
            " \n",
            "Initial Text:  the number was released digitally in \n",
            "Generated Text:   ჯ ჯ on his mlb to the two ჯ on his book of phenomena , and the first two rivers ( avre and tut core , the first two other \n",
            " \n",
            "Initial Text:  the number was released digitally in \n",
            "Generated Text:   ჯ ჯ on his mlb to the two ჯ on his book of phenomena , and the first two rivers ( avre and tut core , the first two other brow \n",
            " \n",
            "===== EXAMPLE № 6 =====\n",
            "Initial Text:   = = commercial performance = \n",
            "Generated Text:  publication ( 9 / / hip and the film ჯ iting ps ( the film , the film 's first game \" , it , and \" the first two other reptiles of his \n",
            " \n",
            "Initial Text:   = = commercial performance = \n",
            "Generated Text:  publication ( 9 / / hip and the film ჯ iting ps ( the film , the film 's first game \" , it , and \" the first two other reptiles of phenomena \n",
            " \n",
            "Initial Text:   = = commercial performance = \n",
            "Generated Text:  publication ( 9 / / hip and the film ჯ iting ps ( the film , the film 's first game \" , it , and \" the first two other reptiles ჯ \n",
            " \n",
            "===== EXAMPLE № 7 =====\n",
            "Initial Text:  \" live while we 're young \n",
            "Generated Text:  willie ' shall - neck to his previous single \" in which ჯ ( a \" ) , the film ranking , the first two fleet of unas - century drought was a series \n",
            " \n",
            "Initial Text:  \" live while we 're young \n",
            "Generated Text:  willie ' shall - neck to his previous single \" in which ჯ ( a \" ) , the film ranking , the first two fleet of unas , and his works to be \n",
            " \n",
            "Initial Text:  \" live while we 're young \n",
            "Generated Text:  willie ' shall - neck to his previous single \" in which ჯ ( a \" ) , the film ranking , the first two fleet of unas , and his works to have \n",
            " \n",
            "===== EXAMPLE № 8 =====\n",
            "Initial Text:  <start> \n",
            "Generated Text:  in ჯ 's performance = , the film 's introduction and \" i was the ჯ s after being made the ჯ at leicester of phenomena ჯ ( a 2 , \n",
            " \n",
            "Initial Text:  <start> \n",
            "Generated Text:  in ჯ 's performance = , the film 's introduction and \" i was the ჯ s after being made the ჯ at leicester of phenomena ჯ ( a 2 \n",
            " \n",
            "Initial Text:  <start> \n",
            "Generated Text:  in ჯ 's performance = , the film 's introduction and \" i was the ჯ s after being made the ჯ at leicester of phenomena ჯ ( a chapel was \n",
            " \n"
          ],
          "name": "stdout"
        }
      ]
    },
    {
      "cell_type": "markdown",
      "metadata": {
        "id": "r1m0sEOyLniQ",
        "colab_type": "text"
      },
      "source": [
        "## [1 point] Sampling from probabilty distribution with temperature"
      ]
    },
    {
      "cell_type": "markdown",
      "metadata": {
        "id": "V7qLayVBL-kq",
        "colab_type": "text"
      },
      "source": [
        "Based on: https://towardsdatascience.com/how-to-sample-from-language-models-682bceb97277"
      ]
    },
    {
      "cell_type": "code",
      "metadata": {
        "id": "7FiK8DXFLrKw",
        "colab_type": "code",
        "colab": {}
      },
      "source": [
        "def sampling_with_temperature(tensor_out, temperature=.5): #size: batch_size, seq_length, vocab_size\n",
        "    tokens_probs = torch.softmax(tensor_out/temperature, dim=2)\n",
        "    pred_id = np.random.choice(len(vocab), 1, p=tokens_probs[0,-1,:].cpu().numpy())\n",
        "    return pred_id[0]"
      ],
      "execution_count": 0,
      "outputs": []
    },
    {
      "cell_type": "code",
      "metadata": {
        "id": "GvuvL3e5OWm-",
        "colab_type": "code",
        "outputId": "ad379c34-d77d-47f1-f8b2-ee3dead1a6bd",
        "colab": {
          "base_uri": "https://localhost:8080/",
          "height": 470
        }
      },
      "source": [
        "show_predictions(to_predict, sampling_with_temperature, model)"
      ],
      "execution_count": 70,
      "outputs": [
        {
          "output_type": "stream",
          "text": [
            "Initial Text:  language makes use of all the \n",
            "Generated Text:   <unk> of the \" <unk> \" <eos> \n",
            "\n",
            "Initial Text:  for his use of simple , \n",
            "Generated Text:  and the publicity was the <unk> of the <unk> ( <unk> <unk> <unk> - <unk> <unk> of <unk> , and is a series of anti - \n",
            "\n",
            "Initial Text:  of <unk> poetry , asked \n",
            "Generated Text:  why , and the isle , which is similar to the new zealand bird bird at the united states , and the more direct result , the film was written by the fitwatch of \n",
            "\n",
            "Initial Text:  through very well in translation \" \n",
            "Generated Text:  , which is not known about this time <eos> \n",
            "\n",
            "Initial Text:  one dire ction performed \" kiss \n",
            "Generated Text:  ol éon ators , and beh avior with the first season finale in the united states to the morning of the new york times <eos> \n",
            "\n",
            "Initial Text:  the number was released digitally in \n",
            "Generated Text:  the <unk> of the character 's predicted at the the new york times in the <unk> <eos> \n",
            "\n",
            "Initial Text:   = = commercial performance = \n",
            "Generated Text:  = <eos> <start> <eos> <start> <eos> \n",
            "\n",
            "Initial Text:  \" live while we 're young \n",
            "Generated Text:  leave their cum ulative <eos> <start> \" <eos> \n",
            "\n",
            "Initial Text:  <start> \n",
            "Generated Text:   <eos> <start> <eos> <start> <eos> \n",
            "\n"
          ],
          "name": "stdout"
        }
      ]
    },
    {
      "cell_type": "code",
      "metadata": {
        "id": "Py-99tBhVaGI",
        "colab_type": "code",
        "outputId": "754d6bf0-b9dd-4edc-f0c7-a67fcf65e43f",
        "colab": {
          "base_uri": "https://localhost:8080/",
          "height": 490
        }
      },
      "source": [
        "def sampling_with_temperature(tensor_out, temperature=.7): # with higher temperature generated sentences are more diverse\n",
        "    tokens_probs = torch.softmax(tensor_out/temperature, dim=2)\n",
        "    pred_id = np.random.choice(len(vocab), 1, p=tokens_probs[0,-1,:].cpu().numpy())\n",
        "    return pred_id[0]\n",
        "\n",
        "show_predictions(to_predict, sampling_with_temperature, model)"
      ],
      "execution_count": 71,
      "outputs": [
        {
          "output_type": "stream",
          "text": [
            "Initial Text:  language makes use of all the \n",
            "Generated Text:   <unk> of deities who in the <unk> of the police officers officers disagreed of the night , as a white sox , his book <eos> \n",
            "\n",
            "Initial Text:  for his use of simple , \n",
            "Generated Text:  olivier 's overall episode ever written by john f. ford <eos> \n",
            "\n",
            "Initial Text:  of <unk> poetry , asked \n",
            "Generated Text:   <eos> <start> <eos> <start> fowler scored 12 and we may be more than the aid and the core of the year <eos> \n",
            "\n",
            "Initial Text:  through very well in translation \" \n",
            "Generated Text:  , which is a scene in the winter <eos> \n",
            "\n",
            "Initial Text:  one dire ction performed \" kiss \n",
            "Generated Text:  at the \" a trial trial of <unk> \" <eos> \n",
            "\n",
            "Initial Text:  the number was released digitally in \n",
            "Generated Text:  the uk singles , intrigue on average <unk> — yoko had worked on october 19 september , and the club , and haitian the spacecraft passed the east of the family yacht - destruct \n",
            "\n",
            "Initial Text:   = = commercial performance = \n",
            "Generated Text:  = <eos> <start> = = = mechanical mechanical mechanical cockpit and the film was not so then take \" the \" , as he was \" greatest goalscorer and \" <eos> \n",
            "\n",
            "Initial Text:  \" live while we 're young \n",
            "Generated Text:  willie watson and his political action <eos> <start> in 1856 the place of the first season 3 , with a roll called the popular present of in the ninth inning , who had \n",
            "\n",
            "Initial Text:  <start> \n",
            "Generated Text:   <eos> <start> the ship was written by the fighting style of the series of one , the company 's icy moons , the adults material , including a new zealand ministry , \n",
            "\n"
          ],
          "name": "stdout"
        }
      ]
    },
    {
      "cell_type": "markdown",
      "metadata": {
        "id": "q-cd2W3_UYsE",
        "colab_type": "text"
      },
      "source": [
        "## [1 point] Nucleus sampling"
      ]
    },
    {
      "cell_type": "code",
      "metadata": {
        "id": "1pVkak7dUiZY",
        "colab_type": "code",
        "outputId": "0d545413-22b1-45c6-ee69-8a2413bd4231",
        "colab": {
          "base_uri": "https://localhost:8080/",
          "height": 490
        }
      },
      "source": [
        "def nucleus_pred(tensor_out, p=0.8):\n",
        "\n",
        "    sorted_idx = torch.argsort(tensor_out, dim=2, descending=True)[0,-1,:]\n",
        "    sorted_logits = torch.sort(tensor_out, dim=2, descending=True).values[0,-1,:]\n",
        "    \n",
        "    relative_probs = torch.cumsum(torch.softmax(sorted_logits, dim=-1), dim=0)\n",
        "    mask = relative_probs >= p \n",
        "    ind = torch.nonzero(mask)\n",
        "    ind = ind[-1,:]\n",
        "\n",
        "    to_random = sorted_idx[:ind+1]\n",
        "    \n",
        "    pred_id = np.random.choice(to_random.cpu().numpy(), 1, p=torch.softmax(sorted_logits[:ind+1], dim=0).cpu().numpy())\n",
        "    return pred_id[0]\n",
        "show_predictions(to_predict,nucleus_pred, model)"
      ],
      "execution_count": 72,
      "outputs": [
        {
          "output_type": "stream",
          "text": [
            "Initial Text:  language makes use of all the \n",
            "Generated Text:  environment accord sought in the sea , mon rically using a does and logic music <eos> \n",
            "\n",
            "Initial Text:  for his use of simple , \n",
            "Generated Text:  then moved to photograph the plot <eos> <start> it was dominated by a quasi arising between them and encouraged in which was less important in territory , were two <eos> \n",
            "\n",
            "Initial Text:  of <unk> poetry , asked \n",
            "Generated Text:  was 4 later , for other kind ness , so , winning an 125 towards who little social dist krishna \" president or <unk> to the various league video concept <eos> \n",
            "\n",
            "Initial Text:  through very well in translation \" \n",
            "Generated Text:  , but couldn 't you something we did not really our next as a result , bridge <eos> \n",
            "\n",
            "Initial Text:  one dire ction performed \" kiss \n",
            "Generated Text:  worked as it pushes one south of croatia - billed in machinery one long sin fun \" at number - <unk> ) <eos> \n",
            "\n",
            "Initial Text:  the number was released digitally in \n",
            "Generated Text:  the scottish marriage in the philadelphia mint restricted er kod kilometer ( 311 <eos> \n",
            "\n",
            "Initial Text:   = = commercial performance = \n",
            "Generated Text:  = <eos> <start> <eos> <start> <eos> \n",
            "\n",
            "Initial Text:  \" live while we 're young \n",
            "Generated Text:  leave with sewage competent specimen if any note themselves is opposed to professor them as <unk> \" <eos> \n",
            "\n",
            "Initial Text:  <start> \n",
            "Generated Text:   <eos> <start> jean on 8 , arriving km / h , athletes <eos> \n",
            "\n"
          ],
          "name": "stdout"
        }
      ]
    },
    {
      "cell_type": "code",
      "metadata": {
        "id": "_5aKR0h4z8r1",
        "colab_type": "code",
        "outputId": "4543bd14-233f-4944-ad2f-99ed91f89878",
        "colab": {
          "base_uri": "https://localhost:8080/",
          "height": 490
        }
      },
      "source": [
        "def nucleus_pred(tensor_out, p=0.97):\n",
        "\n",
        "    sorted_idx = torch.argsort(tensor_out, dim=2, descending=True)[0,-1,:]\n",
        "    sorted_logits = torch.sort(tensor_out, dim=2, descending=True).values[0,-1,:]\n",
        "    \n",
        "    relative_probs = torch.cumsum(torch.softmax(sorted_logits, dim=-1), dim=0)\n",
        "    mask = relative_probs >= p \n",
        "    ind = torch.nonzero(mask)\n",
        "    ind = ind[-1,:]\n",
        "\n",
        "    to_random = sorted_idx[:ind+1]\n",
        "    \n",
        "    pred_id = np.random.choice(to_random.cpu().numpy(), 1, p=torch.softmax(sorted_logits[:ind+1], dim=0).cpu().numpy())\n",
        "    return pred_id[0]\n",
        "show_predictions(to_predict,nucleus_pred, model)"
      ],
      "execution_count": 73,
      "outputs": [
        {
          "output_type": "stream",
          "text": [
            "Initial Text:  language makes use of all the \n",
            "Generated Text:  period , so - miranic als \" were allowed sales new , california , \" the kiss is communal in asomtavruli to his separate fledging and harvey ach baroque baroque us 1 and eight institute \n",
            "\n",
            "Initial Text:  for his use of simple , \n",
            "Generated Text:  1993 on the morning , viewing in the average daily mail , the film was inspired inspired by a group called the ulan agent of anti - <unk> <eos> \n",
            "\n",
            "Initial Text:  of <unk> poetry , asked \n",
            "Generated Text:   <eos> <start> although booms forms of the moon and is the <unk> of the <unk> to support : <unk> weather it as a more commonly portrayed of subs erv and \n",
            "\n",
            "Initial Text:  through very well in translation \" \n",
            "Generated Text:  and zanzib spheres <unk> adaptations as the heavy normal fleet 's principal tapes for the somalia <eos> \n",
            "\n",
            "Initial Text:  one dire ction performed \" kiss \n",
            "Generated Text:  at the economy has traditional traditional use \" , \" <unk> - yield \" that \" <eos> \n",
            "\n",
            "Initial Text:  the number was released digitally in \n",
            "Generated Text:  the writing and adjacent to open his mandate ’ s for the <unk> <unk> <eos> \n",
            "\n",
            "Initial Text:   = = commercial performance = \n",
            "Generated Text:   <eos> <start> <eos> <start> stronger chemical land were quite unless they were willing to the city 's performance , the ninth inning in the <unk> on the global bank of \n",
            "\n",
            "Initial Text:  \" live while we 're young \n",
            "Generated Text:  a small village , \" <eos> <start> the mahabharata co is possible , as he was the \" an amount of music prize and inside the ropolis - r as ay ( ( \n",
            "\n",
            "Initial Text:  <start> \n",
            "Generated Text:   <unk> un ilateral ; across rough analysis of inverness , on oricon weekly weekly weekly , <unk> man <eos> \n",
            "\n"
          ],
          "name": "stdout"
        }
      ]
    },
    {
      "cell_type": "markdown",
      "metadata": {
        "id": "g7URX297Ui7u",
        "colab_type": "text"
      },
      "source": [
        "## [1 point] Top-k sampling"
      ]
    },
    {
      "cell_type": "code",
      "metadata": {
        "id": "Dyqhj5-FUlfq",
        "colab_type": "code",
        "outputId": "ed43a3d6-dd7b-4f6a-8914-3ef2d040be5f",
        "colab": {
          "base_uri": "https://localhost:8080/",
          "height": 470
        }
      },
      "source": [
        "def top_k_pred(logits, k=15):\n",
        "\n",
        "    sorted_idx = torch.argsort(logits, dim=2, descending=True)[0,-1,:][:k]\n",
        "    sorted_logits = torch.sort(logits, dim=2, descending=True).values[0,-1,:][:k]\n",
        "    relative_probs = torch.softmax(sorted_logits, dim=0)\n",
        "\n",
        "    pred_id = np.random.choice(sorted_idx.cpu().numpy(), 1, p=relative_probs.cpu().numpy())\n",
        "    return pred_id[0]\n",
        "\n",
        "show_predictions(to_predict,top_k_pred, model)"
      ],
      "execution_count": 74,
      "outputs": [
        {
          "output_type": "stream",
          "text": [
            "Initial Text:  language makes use of all the \n",
            "Generated Text:  \" \" , while attempting to a \" holocaust \" the use of the \" a result of the lead to have been observed to humans , the film 's icy style <eos> \n",
            "\n",
            "Initial Text:  for his use of simple , \n",
            "Generated Text:  he says that the <unk> \" <unk> <unk> to the new territory for the <unk> of the <unk> in the <unk> of <unk> , \" , and thus \n",
            "\n",
            "Initial Text:  of <unk> poetry , asked \n",
            "Generated Text:  mut , and the film was \" , which was not used the same that time the island is the first game by howard , it was one of the <unk> of the \n",
            "\n",
            "Initial Text:  through very well in translation \" \n",
            "Generated Text:  , while frank oliver cromwell of the \" is shown can something something very \" , \" that \" as well - muscular fire \" <eos> \n",
            "\n",
            "Initial Text:  one dire ction performed \" kiss \n",
            "Generated Text:  is to the \" a single fruit \" <eos> \n",
            "\n",
            "Initial Text:  the number was released digitally in \n",
            "Generated Text:  the united states in the year , he will pick and might reduce reduce speed \" <eos> \n",
            "\n",
            "Initial Text:   = = commercial performance = \n",
            "Generated Text:  = = <eos> <start> <eos> <start> <eos> \n",
            "\n",
            "Initial Text:  \" live while we 're young \n",
            "Generated Text:  leave with the moon and the \" , which is not only active to the location and their two side of the popular press conference <eos> \n",
            "\n",
            "Initial Text:  <start> \n",
            "Generated Text:   <unk> \" , on <unk> , a chapel of <unk> is interested in the first conservation policy to the first conservation of the \" <unk> , which is the <unk> \n",
            "\n"
          ],
          "name": "stdout"
        }
      ]
    },
    {
      "cell_type": "code",
      "metadata": {
        "id": "iNw0LCgVqQ1-",
        "colab_type": "code",
        "outputId": "400836d1-1441-400c-8ce1-2662e21f2dd2",
        "colab": {
          "base_uri": "https://localhost:8080/",
          "height": 490
        }
      },
      "source": [
        "def top_k_pred(tensor_out, k=40):\n",
        "\n",
        "    sorted_idx = torch.argsort(tensor_out, dim=2, descending=True)[0,-1,:][:k]\n",
        "    sorted_logits = torch.sort(tensor_out, dim=2, descending=True).values[0,-1,:][:k]\n",
        "    relative_probs = torch.softmax(sorted_logits, dim=0)\n",
        "\n",
        "    pred_id = np.random.choice(sorted_idx.cpu().numpy(), 1, p=relative_probs.cpu().numpy())\n",
        "    return pred_id[0]\n",
        "\n",
        "show_predictions(to_predict,top_k_pred, model)"
      ],
      "execution_count": 75,
      "outputs": [
        {
          "output_type": "stream",
          "text": [
            "Initial Text:  language makes use of all the \n",
            "Generated Text:  first position on the french upper and were not found in india <eos> \n",
            "\n",
            "Initial Text:  for his use of simple , \n",
            "Generated Text:  allowing <eos> <start> <eos> <start> as a military science - year term 3 – 0 win against romani <eos> \n",
            "\n",
            "Initial Text:  of <unk> poetry , asked \n",
            "Generated Text:  he proposed anderson spent him of a chapel bird of pop pop smash that a major national championship for immigrants of reducing being in october 2005 , and thus , a six - oriented period \n",
            "\n",
            "Initial Text:  through very well in translation \" \n",
            "Generated Text:   <eos> <start> \" ( <unk> characterized in the other times in which he can kill in the global of june <eos> \n",
            "\n",
            "Initial Text:  one dire ction performed \" kiss \n",
            "Generated Text:  to his integrity <eos> <start> vargas from her character wore however , <unk> 250 alligators , which the general is located about the moon was in which were not used in 1891 \n",
            "\n",
            "Initial Text:  the number was released digitally in \n",
            "Generated Text:  the area to all the <unk> of the upper of his age of which <eos> \n",
            "\n",
            "Initial Text:   = = commercial performance = \n",
            "Generated Text:  = = <eos> <start> <eos> <start> <eos> \n",
            "\n",
            "Initial Text:  \" live while we 're young \n",
            "Generated Text:  leave \" <unk> urg <eos> <start> it crosses crosses <eos> \n",
            "\n",
            "Initial Text:  <start> \n",
            "Generated Text:   <unk> was <unk> , \" <unk> \" , <unk> , and the <unk> \" <unk> is able to humans in order to find a <unk> of some \n",
            "\n"
          ],
          "name": "stdout"
        }
      ]
    }
  ]
}