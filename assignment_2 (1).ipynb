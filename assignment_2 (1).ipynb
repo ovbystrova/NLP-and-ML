{
  "nbformat": 4,
  "nbformat_minor": 0,
  "metadata": {
    "colab": {
      "name": "assignment_2.ipynb",
      "provenance": []
    },
    "kernelspec": {
      "name": "python3",
      "display_name": "Python 3"
    },
    "accelerator": "GPU"
  },
  "cells": [
    {
      "cell_type": "markdown",
      "metadata": {
        "id": "nv4Mdnf8IqMP",
        "colab_type": "text"
      },
      "source": [
        "#Задание 2."
      ]
    },
    {
      "cell_type": "markdown",
      "metadata": {
        "id": "aYwPgSnSIuP-",
        "colab_type": "text"
      },
      "source": [
        "\n",
        "Demostrate consequences of No Free Lunch Theorem: every model of machine learning makes assumptions about dataset properties. If the assumption fails, model perfoms badly. If the assumption is met, model perfoms good.\n",
        "\n",
        "For each of the tasks, described below:\n",
        "\n",
        "1.   create a dataset to meet the description. For demonstration purposes, feature dimension size = 2\n",
        "2.   train the models and evaluate accuracy. (with a training pipeline, described in the seminar)\n",
        "3.   Show which model is better.\n",
        "4.   Write what assumptions were used, and why model exibits such behavior.\n",
        "5.   Plot dataset to demonstrate its properties. (Scatter plot, classes with different colors)\n",
        "\n",
        "\n",
        "Tasks:\n",
        "\n",
        "1. Create dataset for binary classification task (binary crossentropy), where k-NN perfoms worse than logistic regression\n",
        "\n",
        "2. Create dataset for binary classification task (binary crossentropy), where logistic regression perfoms worse than k-NN\n",
        "\n",
        "3. Create dataset for binary classification task (binary crossentropy), where k-NN with cosine distance perfoms better than k-NN with euclidean distance\n",
        "\n",
        "! If there is no explanation, why one model perfoms better than the other on your dataset, the task does not count.\n",
        "! if the training pipeline is not used, the task does not count."
      ]
    },
    {
      "cell_type": "code",
      "metadata": {
        "id": "VejE1d7Ck91f",
        "colab_type": "code",
        "colab": {}
      },
      "source": [
        "import numpy as np\n",
        "import matplotlib.pyplot as plt\n",
        "% matplotlib inline\n",
        "from sklearn.model_selection import train_test_split, GridSearchCV\n",
        "from sklearn.linear_model import LogisticRegression\n",
        "from sklearn.neighbors import KNeighborsClassifier"
      ],
      "execution_count": 0,
      "outputs": []
    },
    {
      "cell_type": "code",
      "metadata": {
        "id": "jWE2tznj09Ly",
        "colab_type": "code",
        "colab": {}
      },
      "source": [
        "def model_pipline(model, X, y, hyper_params):\n",
        "  '''\n",
        "  Функция выполняет пайплайн с семинара: \n",
        "  обучение без регуляризации, затем с регуляризацией на валидационном датасете.\n",
        "  Через GridSearchCV подбирается лучший вариант модели.\n",
        "  \n",
        "  Возвращает список mean-accuracy: \n",
        "  до регуляризации, лучшая оценка на валидации, оценка на тестовых данных\n",
        "  '''\n",
        "  scores = []\n",
        "  \n",
        "  X_train, X_test, y_train, y_test = train_test_split(X, y, test_size=0.25, random_state=42)\n",
        "\n",
        "  model.fit(X_train, y_train)\n",
        "  scores.append(model.score(X_train, y_train))\n",
        "\n",
        "  grid_search = GridSearchCV(model, cv=5, param_grid=hyper_params)\n",
        "  grid_search.fit(X_train, y_train)\n",
        "  scores.append(grid_search.best_score_)\n",
        "  \n",
        "  model = grid_search.best_estimator_\n",
        "  scores.append(model.score(X_test, y_test))\n",
        "\n",
        "  return scores"
      ],
      "execution_count": 0,
      "outputs": []
    },
    {
      "cell_type": "markdown",
      "metadata": {
        "id": "86i4n6L2J-uG",
        "colab_type": "text"
      },
      "source": [
        "#Task №1. K-NN perfoms worse than logistic regression"
      ]
    },
    {
      "cell_type": "markdown",
      "metadata": {
        "id": "_ji9P7zBw5Qy",
        "colab_type": "text"
      },
      "source": [
        "Основная идея логистической регрессии заключается в том, что пространство исходных значений может быть разделено линейной границей (т.е. прямой) на две соответствующих классам области\". У нас измерения два, поэтому достаточно просто прямой. \n",
        "\n",
        "KNN определяет класс объекта на основе рядом лежащих соседей. Поэтому для того, чтобы KNN работал хуже, чем логистическая регрессия, нам нужна выборка,которую легко разделить линейно, и которую сложнее разделить, опираясь на ближайшие точки. \n",
        "\n",
        "Попробуем функцию с минимальным маржином.\n"
      ]
    },
    {
      "cell_type": "code",
      "metadata": {
        "id": "aKolycJekSke",
        "colab_type": "code",
        "colab": {
          "base_uri": "https://localhost:8080/",
          "height": 33
        },
        "outputId": "1e0cbe76-44db-49fc-debb-d4436cb6ad43"
      },
      "source": [
        "#Генерируем и нормализем выборку размера N\n",
        "N = 100\n",
        "x = np.array([[i for i in range(0,N//2)]\n",
        "              + [i for i in range(N//2,N)]]).reshape(N,)\n",
        "y = np.array([[-3*el-3 for el in range(0,N//2)] +\n",
        "              [-3*el -2 for el in range(N//2,N)]]).reshape(N,)\n",
        "x = x / np.linalg.norm(x)\n",
        "y = y / np.linalg.norm(y)\n",
        "x.shape, y.shape"
      ],
      "execution_count": 534,
      "outputs": [
        {
          "output_type": "execute_result",
          "data": {
            "text/plain": [
              "((100,), (100,))"
            ]
          },
          "metadata": {
            "tags": []
          },
          "execution_count": 534
        }
      ]
    },
    {
      "cell_type": "code",
      "metadata": {
        "id": "kkX4Yp0s2Eip",
        "colab_type": "code",
        "colab": {
          "base_uri": "https://localhost:8080/",
          "height": 33
        },
        "outputId": "6822ffea-b608-450e-fbc2-a9ed5fce03a6"
      },
      "source": [
        "X_task1 = np.array([(x[i], y[i]) for i in range(0,N)]).reshape(N,2)\n",
        "y_task1 = np.array([0 if i%2==0 else 1 for i in range(0,N)])\n",
        "X_task1.shape, y_task1.shape"
      ],
      "execution_count": 535,
      "outputs": [
        {
          "output_type": "execute_result",
          "data": {
            "text/plain": [
              "((100, 2), (100,))"
            ]
          },
          "metadata": {
            "tags": []
          },
          "execution_count": 535
        }
      ]
    },
    {
      "cell_type": "markdown",
      "metadata": {
        "id": "ooztz_b-KmYD",
        "colab_type": "text"
      },
      "source": [
        "Визуализируем выборку"
      ]
    },
    {
      "cell_type": "code",
      "metadata": {
        "id": "01XrfoNyJI68",
        "colab_type": "code",
        "colab": {
          "base_uri": "https://localhost:8080/",
          "height": 366
        },
        "outputId": "3e46f7d3-f5ee-4ead-91bc-c33be52ece7d"
      },
      "source": [
        "plt.figure(figsize=(5.5, 5.5))\n",
        "plt.scatter([el[0] for el in X_task1],[el[1] for el in X_task1],\n",
        "            c=['green' if el == 1 else 'blue' for el in y_task1])"
      ],
      "execution_count": 536,
      "outputs": [
        {
          "output_type": "execute_result",
          "data": {
            "text/plain": [
              "<matplotlib.collections.PathCollection at 0x7f34dd5eeac8>"
            ]
          },
          "metadata": {
            "tags": []
          },
          "execution_count": 536
        },
        {
          "output_type": "display_data",
          "data": {
            "image/png": "[encoded data removed]",
            "text/plain": [
              "<Figure size 396x396 with 1 Axes>"
            ]
          },
          "metadata": {
            "tags": []
          }
        }
      ]
    },
    {
      "cell_type": "markdown",
      "metadata": {
        "id": "f6rJxXYWPf1v",
        "colab_type": "text"
      },
      "source": [
        "Классы сливаются. Посмотрим теперь на наши модели на пайплайне."
      ]
    },
    {
      "cell_type": "code",
      "metadata": {
        "id": "EumY0AJzBlC4",
        "colab_type": "code",
        "colab": {
          "base_uri": "https://localhost:8080/",
          "height": 87
        },
        "outputId": "9e8dc70b-de42-4b68-a4c3-eac72b94be22"
      },
      "source": [
        "#Задаем варианты гиперпараметров. Тут не все, т.к. некоторые конфликтуют друг с другом.\n",
        "hyper_params = {\n",
        "    'dual' : [True, False],\n",
        "    'warm_start': [True, False],\n",
        "    'solver' : ['liblinear']\n",
        "}\n",
        "scores = model_pipline(LogisticRegression(), X_task1, y_task1, hyper_params=hyper_params)\n",
        "print('Train Acc {}; valid acc {}; test acc {}'.format(scores[0], scores[1], scores[2]))"
      ],
      "execution_count": 537,
      "outputs": [
        {
          "output_type": "stream",
          "text": [
            "Train Acc 0.5333333333333333; valid acc 0.5333333333333333; test acc 0.4\n"
          ],
          "name": "stdout"
        },
        {
          "output_type": "stream",
          "text": [
            "/usr/local/lib/python3.6/dist-packages/sklearn/linear_model/logistic.py:432: FutureWarning: Default solver will be changed to 'lbfgs' in 0.22. Specify a solver to silence this warning.\n",
            "  FutureWarning)\n"
          ],
          "name": "stderr"
        }
      ]
    },
    {
      "cell_type": "code",
      "metadata": {
        "id": "dBeihlxUKEmR",
        "colab_type": "code",
        "colab": {
          "base_uri": "https://localhost:8080/",
          "height": 33
        },
        "outputId": "64605430-489e-424c-d130-05d25eb924c3"
      },
      "source": [
        "hyper_params = {\n",
        "    'n_neighbors': [i for i in range(1,10)],\n",
        "    'weights' : ['uniform', 'distance'],\n",
        "    'algorithm' : ['auto', 'ball_tree', 'kd_tree', 'brute']\n",
        "}\n",
        "scores = model_pipline(KNeighborsClassifier(), X_task1, y_task1, hyper_params=hyper_params)\n",
        "print('Train Acc {}; valid acc {}; test acc {}'.format(scores[0], scores[1], scores[2]))"
      ],
      "execution_count": 538,
      "outputs": [
        {
          "output_type": "stream",
          "text": [
            "Train Acc 0.6533333333333333; valid acc 0.41333333333333333; test acc 0.24\n"
          ],
          "name": "stdout"
        }
      ]
    },
    {
      "cell_type": "markdown",
      "metadata": {
        "id": "_WhV_M3SYGQg",
        "colab_type": "text"
      },
      "source": [
        "На тесте 0.44 у лог. регрессии и 0.24 у KNN. Логистическая модель превосходит KNN, т.к. для нее в месте скопления точек не имеют значения ближайшие соседи, а KNN может и хорошо определяет классы для удаленных точек, но в конкретно данной выборке будут проблемы. "
      ]
    },
    {
      "cell_type": "markdown",
      "metadata": {
        "id": "NIIgeI04KK3I",
        "colab_type": "text"
      },
      "source": [
        "#Task №2. Logistic regression perfoms worse than K-NN"
      ]
    },
    {
      "cell_type": "markdown",
      "metadata": {
        "id": "Z0qUVqbSxXwo",
        "colab_type": "text"
      },
      "source": [
        "Итак, для логистической регрессии :чтобы все работало, точки исходных данных должны разделяться линейной границей на две  области. Давайте сделаем теперь наоборт - сгенерируем выборку, которую сложно (невозможно) разделить прямой на плоскости. А также улучшим задачу для KNN - сделаем выборку, обьекты одного класса которой будут находиться рядом друго с другом, в некоторых центрах классов. "
      ]
    },
    {
      "cell_type": "code",
      "metadata": {
        "id": "ElEiQZTIKdBW",
        "colab_type": "code",
        "colab": {
          "base_uri": "https://localhost:8080/",
          "height": 33
        },
        "outputId": "400cf94d-a40e-4cea-eca7-a0d87ebaf5ed"
      },
      "source": [
        "N = 300\n",
        "X1 = np.random.randint(low=0,high=N//3, size=N//3)\n",
        "X2 = np.random.randint(low=N//3, high=N//3*2, size=N//3)\n",
        "X3 = np.random.randint(low=N//3*2, high=N, size=N//3)\n",
        "X = np.append(X1,X2)\n",
        "X = np.append(X, X3)\n",
        "X = X / np.linalg.norm(X)\n",
        "\n",
        "y = np.arange(0,N)\n",
        "y = y / np.linalg.norm(y)\n",
        "\n",
        "X_task2 = np.array([(X[i], y[i]) for i in range(0,N)])\n",
        "X_task2.shape"
      ],
      "execution_count": 539,
      "outputs": [
        {
          "output_type": "execute_result",
          "data": {
            "text/plain": [
              "(300, 2)"
            ]
          },
          "metadata": {
            "tags": []
          },
          "execution_count": 539
        }
      ]
    },
    {
      "cell_type": "code",
      "metadata": {
        "id": "dGhLtpzwfnQU",
        "colab_type": "code",
        "colab": {
          "base_uri": "https://localhost:8080/",
          "height": 33
        },
        "outputId": "20e53099-195c-4824-cf86-1ff9a0e73ebd"
      },
      "source": [
        "y_task2 = np.array([[1 for i in range(0,N//3+3)] \n",
        "                    + [0 for i in range(N//3+3,N//3*2+3)] \n",
        "                    + [1 for i in range(N//3*2+3,N)]])\n",
        "y_task2 = y_task2.reshape(N,)\n",
        "y_task2.shape"
      ],
      "execution_count": 540,
      "outputs": [
        {
          "output_type": "execute_result",
          "data": {
            "text/plain": [
              "(300,)"
            ]
          },
          "metadata": {
            "tags": []
          },
          "execution_count": 540
        }
      ]
    },
    {
      "cell_type": "code",
      "metadata": {
        "id": "_91nyKeIfhlz",
        "colab_type": "code",
        "colab": {
          "base_uri": "https://localhost:8080/",
          "height": 363
        },
        "outputId": "335062f8-3518-4a4f-d6b9-27c6dab6bb5b"
      },
      "source": [
        "plt.figure(figsize=(5.5, 5.5))\n",
        "plt.scatter([el[0] for el in X_task2],[el[1] for el in X_task2],\n",
        "            c=['green' if el == 1 else 'blue' for el in y_task2])\n",
        "plt.title('random')"
      ],
      "execution_count": 541,
      "outputs": [
        {
          "output_type": "display_data",
          "data": {
            "image/png": "[encoded data removed]",
            "text/plain": [
              "<Figure size 396x396 with 1 Axes>"
            ]
          },
          "metadata": {
            "tags": []
          }
        }
      ]
    },
    {
      "cell_type": "code",
      "metadata": {
        "id": "nKUUskZGhkc5",
        "colab_type": "code",
        "colab": {
          "base_uri": "https://localhost:8080/",
          "height": 87
        },
        "outputId": "42d27d2f-febc-4da2-8c5a-08fdc987d4e5"
      },
      "source": [
        "hyper_params = {\n",
        "    'dual' : [True, False],\n",
        "    'warm_start': [True, False],\n",
        "    'solver' : ['liblinear']\n",
        "}\n",
        "scores = model_pipline(LogisticRegression(), X_task2, y_task2, hyper_params=hyper_params)\n",
        "print('Train Acc {}; valid acc {}; test acc {}'.format(scores[0], scores[1], scores[2]))"
      ],
      "execution_count": 542,
      "outputs": [
        {
          "output_type": "stream",
          "text": [
            "Train Acc 0.6577777777777778; valid acc 0.6577777777777778; test acc 0.6933333333333334\n"
          ],
          "name": "stdout"
        },
        {
          "output_type": "stream",
          "text": [
            "/usr/local/lib/python3.6/dist-packages/sklearn/linear_model/logistic.py:432: FutureWarning: Default solver will be changed to 'lbfgs' in 0.22. Specify a solver to silence this warning.\n",
            "  FutureWarning)\n"
          ],
          "name": "stderr"
        }
      ]
    },
    {
      "cell_type": "code",
      "metadata": {
        "id": "alttFiDoi6uC",
        "colab_type": "code",
        "colab": {
          "base_uri": "https://localhost:8080/",
          "height": 87
        },
        "outputId": "d7fd0d09-773f-4c08-becd-182fcfb49a74"
      },
      "source": [
        "hyper_params = {\n",
        "    'n_neighbors': [i for i in range(1,10)],\n",
        "    'weights' : ['uniform', 'distance'],\n",
        "    'algorithm' : ['auto', 'ball_tree', 'kd_tree', 'brute']\n",
        "}\n",
        "scores = model_pipline(KNeighborsClassifier(), X_task2, y_task2, hyper_params=hyper_params)\n",
        "print('Train Acc {}; valid acc {}; test acc {}'.format(scores[0], scores[1], scores[2]))"
      ],
      "execution_count": 543,
      "outputs": [
        {
          "output_type": "stream",
          "text": [
            "Train Acc 0.9733333333333334; valid acc 0.9822222222222222; test acc 0.9866666666666667\n"
          ],
          "name": "stdout"
        },
        {
          "output_type": "stream",
          "text": [
            "/usr/local/lib/python3.6/dist-packages/sklearn/model_selection/_search.py:814: DeprecationWarning: The default of the `iid` parameter will change from True to False in version 0.22 and will be removed in 0.24. This will change numeric results when test-set sizes are unequal.\n",
            "  DeprecationWarning)\n"
          ],
          "name": "stderr"
        }
      ]
    },
    {
      "cell_type": "markdown",
      "metadata": {
        "id": "Ll2H30NC_XCc",
        "colab_type": "text"
      },
      "source": [
        "Как хорошо видно из визуализации, для логистической регрессии нельзя здесь построить прямую, отделяющую два класса. Для KNN же даннные идеальны: ярко выражены центры классов, несмотря на небольшую зашумленность, модель показывает 1.0 на тестовых данных (да, в реальности такого не будет, да, это полностью игрушечные данные)."
      ]
    },
    {
      "cell_type": "markdown",
      "metadata": {
        "id": "7fAyVZYgKQWQ",
        "colab_type": "text"
      },
      "source": [
        "#Task №3. k-NN with cosine distance perfoms better than k-NN with euclidean distance"
      ]
    },
    {
      "cell_type": "markdown",
      "metadata": {
        "id": "xuTmvyRgAqSN",
        "colab_type": "text"
      },
      "source": [
        "Источник (помимо семинарских тетрадок) : https://cmry.github.io/notes/euclidean-v-cosine"
      ]
    },
    {
      "cell_type": "markdown",
      "metadata": {
        "id": "0nQrDxn5Cps1",
        "colab_type": "text"
      },
      "source": [
        "Косинусная мера близости использует направления векторов (игнорируя длины векторов), евклидова метрика - расстояния между векторами. И если мы хотим, чтобы K-NN cosine показывала результат лучше чем K-NN euclodean, то наши данные должны быть: \n",
        "\n",
        "- близко расположены друг к другу/наоборот, можно попытаться добиться равноудаленности как-нибудь(расстояние между точками не должно быть определяющим фактором при классификации). \n",
        "\n",
        "Давайте сделаем все точки одного класса на одной прямой, а остальные разложим по одну сторону от этой прямой рандомно. "
      ]
    },
    {
      "cell_type": "code",
      "metadata": {
        "id": "GrCKkKBHHtaX",
        "colab_type": "code",
        "colab": {
          "base_uri": "https://localhost:8080/",
          "height": 67
        },
        "outputId": "97a0c1e6-69ca-47be-82ee-325b46432722"
      },
      "source": [
        "N = 100\n",
        "x = np.arange(0,N//2)\n",
        "X1 = np.array([(x[i], 0) for i in range(0,N//2)])\n",
        "X2 = np.array([(x[i], np.random.randint(1, 10, 1)[0]) for i in range(0, N//2)])\n",
        "X_task3 = np.append(X1,X2, axis=0)"
      ],
      "execution_count": 556,
      "outputs": [
        {
          "output_type": "stream",
          "text": [
            "(50, 2)\n",
            "(50, 2)\n"
          ],
          "name": "stdout"
        },
        {
          "output_type": "execute_result",
          "data": {
            "text/plain": [
              "((100, 2), array([2, 0]))"
            ]
          },
          "metadata": {
            "tags": []
          },
          "execution_count": 556
        }
      ]
    },
    {
      "cell_type": "code",
      "metadata": {
        "id": "8-etDyd9KK4-",
        "colab_type": "code",
        "colab": {
          "base_uri": "https://localhost:8080/",
          "height": 33
        },
        "outputId": "014de454-c935-4ebc-da8a-75865122917c"
      },
      "source": [
        "y_task3 = np.array([0 if i < N//2 else 1 for i in range(N)])\n",
        "y_task3.shape"
      ],
      "execution_count": 562,
      "outputs": [
        {
          "output_type": "execute_result",
          "data": {
            "text/plain": [
              "(100,)"
            ]
          },
          "metadata": {
            "tags": []
          },
          "execution_count": 562
        }
      ]
    },
    {
      "cell_type": "code",
      "metadata": {
        "id": "H-hFDILlKcpj",
        "colab_type": "code",
        "colab": {
          "base_uri": "https://localhost:8080/",
          "height": 363
        },
        "outputId": "f16e8e2a-781c-4f2b-b1c3-1308f7e0c234"
      },
      "source": [
        "plt.figure(figsize=(5.5, 5.5))\n",
        "plt.scatter([el[0] for el in X_task3],[el[1] for el in X_task3],\n",
        "            c=['green' if el == 1 else 'blue' for el in y_task3])\n",
        "plt.title('Task3')"
      ],
      "execution_count": 563,
      "outputs": [
        {
          "output_type": "display_data",
          "data": {
            "image/png": "[encoded data removed]",
            "text/plain": [
              "<Figure size 396x396 with 1 Axes>"
            ]
          },
          "metadata": {
            "tags": []
          }
        }
      ]
    },
    {
      "cell_type": "code",
      "metadata": {
        "id": "Dn68Ma7PKrXp",
        "colab_type": "code",
        "colab": {
          "base_uri": "https://localhost:8080/",
          "height": 87
        },
        "outputId": "8b68c6a4-be36-433f-968d-f4c370b29683"
      },
      "source": [
        "hyper_params = {\n",
        "    'n_neighbors': [i for i in range(1,10)],\n",
        "    'weights' : ['uniform', 'distance'],\n",
        "    'algorithm' : ['auto', 'ball_tree', 'kd_tree', 'brute']\n",
        "}\n",
        "scores = model_pipline(KNeighborsClassifier(metric='euclidean'), X_task3, y_task3, hyper_params=hyper_params)\n",
        "print('Train Acc {}; valid acc {}; test acc {}'.format(scores[0], scores[1], scores[2]))"
      ],
      "execution_count": 566,
      "outputs": [
        {
          "output_type": "stream",
          "text": [
            "Train Acc 0.9333333333333333; valid acc 0.8666666666666667; test acc 0.92\n"
          ],
          "name": "stdout"
        },
        {
          "output_type": "stream",
          "text": [
            "/usr/local/lib/python3.6/dist-packages/sklearn/model_selection/_search.py:814: DeprecationWarning: The default of the `iid` parameter will change from True to False in version 0.22 and will be removed in 0.24. This will change numeric results when test-set sizes are unequal.\n",
            "  DeprecationWarning)\n"
          ],
          "name": "stderr"
        }
      ]
    },
    {
      "cell_type": "code",
      "metadata": {
        "id": "TDgl1NnbLMSA",
        "colab_type": "code",
        "colab": {
          "base_uri": "https://localhost:8080/",
          "height": 87
        },
        "outputId": "93c125d2-7c50-4dcb-d2de-82122d8367ed"
      },
      "source": [
        "hyper_params = {\n",
        "    'n_neighbors': [i for i in range(1,10)],\n",
        "    'weights' : ['uniform', 'distance'],\n",
        "    'algorithm' : ['auto', 'brute']\n",
        "}\n",
        "scores = model_pipline(KNeighborsClassifier(metric='cosine'), X_task3, y_task3, hyper_params=hyper_params)\n",
        "print('Train Acc {}; valid acc {}; test acc {}'.format(scores[0], scores[1], scores[2]))"
      ],
      "execution_count": 569,
      "outputs": [
        {
          "output_type": "stream",
          "text": [
            "Train Acc 1.0; valid acc 1.0; test acc 1.0\n"
          ],
          "name": "stdout"
        },
        {
          "output_type": "stream",
          "text": [
            "/usr/local/lib/python3.6/dist-packages/sklearn/model_selection/_search.py:814: DeprecationWarning: The default of the `iid` parameter will change from True to False in version 0.22 and will be removed in 0.24. This will change numeric results when test-set sizes are unequal.\n",
            "  DeprecationWarning)\n"
          ],
          "name": "stderr"
        }
      ]
    }
  ]
}